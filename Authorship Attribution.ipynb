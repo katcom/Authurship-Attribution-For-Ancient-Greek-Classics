{
 "cells": [
  {
   "cell_type": "markdown",
   "id": "8d0246b9-e23d-4588-a690-21bc0cd6b38a",
   "metadata": {
    "tags": []
   },
   "source": [
    "\n",
    "# Authorship Attribution for Ancient Greek Literature\n",
    "## Table of contents\n",
    "<ol style='list-style-type: upper-roman'>\n",
    "    <li>\n",
    "        <a href='#introduction'>Introduction</a>\n",
    "        <ul>\n",
    "            <li><a href='#problem_area'>Problem Area</a></li>\n",
    "            <li><a href='#objectives'>Objectives</a></li>\n",
    "            <li><a href='#dataset'>Dataset</a></li>\n",
    "            <li><a href='#evaluation_methodology'>Evaluation Methodology</a></li>\n",
    "        </ul>\n",
    "    </li>\n",
    "    <li>\n",
    "        <a href='#implement_link'>Implementation</a></li>\n",
    "         <ul>\n",
    "            <li><a href='#coding_style_link'>Coding Style</a></li>\n",
    "            <li><a href='#install_link'>Install Packages</a></li>\n",
    "            <li><a href='#load_dataset_link'>Load Dataset</a></li>\n",
    "            <li><a href='#preprocessing_link'>Preprocessing</a></li>\n",
    "            <li><a href='#baseline_performance_link'>Baseline Performance</a></li>\n",
    "            <li><a href='#classification_approach_link'>Classification Approach</a></li>\n",
    "            <li><a href='#models_training_link'>Models Training</a></li>\n",
    "            <li><a href='#prediction_link'>Prediction of Contested texts</a></li>\n",
    "        </ul>\n",
    "    <li><a href='#conclusions'>Conclusions</a>\n",
    "        <ul>\n",
    "            <li><a href='#evaluation'>Evaluation</a></li>\n",
    "            <li><a href='#discussion_link'>Discussion</a></li>\n",
    "            <li><a href='#future_work_link'>Future Work</a></li>\n",
    "            <li><a href='#summary_link'>Summary</a></li>\n",
    "        </ul>\n",
    "    </li>\n",
    "     <li><a href='#reference'>Reference</a>\n",
    "         <ul>\n",
    "            <li><a href='#data_source'>Dataset Source</a></li>\n",
    "        </ul>\n",
    "    </li>\n",
    "</ol>\n",
    "\n",
    "<!-- 1. [Introduction](#introduction)\n",
    "    1. [Problem Area](#problem_area)\n",
    "    1. [evaluation_methodology](#objectives)\n",
    "    1. [Dataset](#dataset)\n",
    "    1. [Evaluation Methodology](#evaluation_methodology)\n",
    "1. [Implementation](#implement_link)\n",
    "    1. [Install Packages](#install_link)\n",
    "    1. [Load Dataset](#load_dataset_link)\n",
    "    1. [Preprocessing](#preprocessing_link)\n",
    "        1. [Lemmatization](#lemmatization_link)\n",
    "        1. [Tokenization](#tokenization_link)\n",
    "        1. [Stopwords Removal](#stopwords_link)\n",
    "        1. [Undersampling and Oversampling](#sampling_link)\n",
    "    1. [Baseline Performance](#preprocessing_link)\n",
    "    1. [Classification Approach](#preprocessing_link)\n",
    "    1. [Coding Style](#preprocessing_link)\n",
    "1. [Conclusions](#get-data)\n",
    "    1. [Evaulation](#preprocessing_link)\n",
    "    1. [Discussion](#preprocessing_link)\n",
    "    1. [Future Work](#preprocessing_link)\n",
    "    1. [Summary](#preprocessing_link) -->\n"
   ]
  },
  {
   "cell_type": "markdown",
   "id": "8869f1ed-6d58-42a4-a915-672327a6833f",
   "metadata": {
    "jp-MarkdownHeadingCollapsed": true,
    "tags": []
   },
   "source": [
    "## Introduction  <a name=\"introduction\"></a>\n",
    "### Problem Area <a name=\"problem_area\"></a>\n",
    "Authorship attribution  has been a long-standing problem in the field of Ancient Greek literature study. Scholars have made a lot of effort in determining the genuine authorship of anonousy works, and giving answer to literatures of debated authorship. However, authorship attribution can be seen as a kind of text classification using statistics method, in which the authors are the categories to which each text is to be classified.\n",
    "\n",
    "Statistical analysis of texts for author determination starts in in the late nineteenth century with the works of Mendenhall and Mascol. Computerized analysis of lexical features for authorship determination, however, shows its potential when Mosteller and Wallace applied Naive Bayes model, by analysing vairous lexical features, to determine the authorship of Federalist Papers in 1964. \n",
    "\n",
    "Currently, there are two approaches for lexical-based text-classification, as Stamatatos suggests in 2001. The first method is to measure the richness of vocabulary of authors. Another is based on the occurrence of individual words.\n",
    "\n",
    "In this study, we made attempts to address this issue by using two machine learning model: Navie Bayes and Random Forest, with feature extraction method based on the occurrence of words.\n",
    "\n",
    "### Objective <a name=\"objectives\"></a>\n",
    "This study aims to address the authorship attribution problems in Greek Literature. We would first train a model using works with known authorship, and thereby try to give from the persepective of computational linguistic answers to the authorship of contested Greek works. \n",
    "\n",
    "### Dataset <a name=\"dataset\"></a>\n",
    "We select 77 works from fourteen ancient Greek authors that ranged from 8th BCE to 3rd CE. The topics covered include religons, philosophy, myth, history, drama, while the genres include poetry, prose, epic, comedy, tragedy, history and biography. The corpus are represented as plain text in .txt format. The dataset was obtained from Wikisource and Project Gutenberg. A list of data source is included in the `Reference` section.\n",
    "\n",
    "### Evaluation methodology <a name=\"evaluation_methodology\"></a>\n",
    "We use Precision, Recall, F1-score and Accuracy to meausre the performance of our model. However, Recall and accuracy are considered as the most important measurements in this study.\n",
    "\n",
    "**Precision** measures how many works are correctly attribute to a particular authors. In other words, if an author scores 100% in precision, this means no texts are wrongly attributed to him/her.\n",
    "\n",
    "**Recall** is an important measurement in this study, since it indicates how well our model predicts the authorship for a particular author. For example, if an author, say Plato, has 50% recall, this means our model has wrongly attribute his works to others.\n",
    "\n",
    "**F1-score** considers both precision and recall. The higher the F1-score, the better the model performs.\n",
    "\n",
    "**Accuracy** simply measures how many works are correctly attributed. The higher the score, the better the performance of the model. However, it might be not an effective indicator when the data is inbalance. For example, if there were 100 texts in the corpus, 90 of them belongs to Plato, while 10 belongs to Aristotle, the model could achieve 90% accuracy by simply labeling all texts as Plato.\n",
    "### Result\n",
    "For our model, TF-IDF measurement is used as the representation of corpus. The Navie Bayes model achieves 77% accuracy in authorship attribution by using, while the Random Forest model achieves 91% accuracy."
   ]
  },
  {
   "cell_type": "markdown",
   "id": "711ecede-6b52-4619-8a53-50be4caf922a",
   "metadata": {
    "tags": []
   },
   "source": [
    "## II. Implementation <a name=\"implement_link\"></a>"
   ]
  },
  {
   "cell_type": "markdown",
   "id": "9e9cdc08-4ff9-4749-92c4-87504f7a34c2",
   "metadata": {},
   "source": [
    "### Coding Style\n",
    "In this study, all `methods` are named in lowercase letters, starting with a verb describing its action, and the name indicating its function. For exmple, `show_corpus_size` indicates this method would show the size of the corpus. Each method has comments describing what it does.\n",
    "\n",
    "`Variables` are named in lowercase and with meaningful name so that the reader would know what data or object they represents. For exmple, `train_data` indicates this contains the data for training instead of testing.\n",
    "\n",
    "All code contains necessary indentation, as it is required by the Python complier."
   ]
  },
  {
   "cell_type": "markdown",
   "id": "c12233a3-dc92-43ef-a3cb-469409294514",
   "metadata": {
    "tags": []
   },
   "source": [
    "### Install Package  <a name=\"install_link\"></a>\n",
    "Firstly we install the required packages, and download the necessary data from Classical Language Tookit (CLTK) before the Greek lemmatizer and tokenizer could be used."
   ]
  },
  {
   "cell_type": "code",
   "execution_count": null,
   "id": "ad3659bf-8818-4df2-a901-2c0c574935da",
   "metadata": {},
   "outputs": [],
   "source": [
    "pip install cltk nltk numpy pandas"
   ]
  },
  {
   "cell_type": "code",
   "execution_count": null,
   "id": "d44d777f-74ce-4a46-ab8b-87c78b63bed5",
   "metadata": {},
   "outputs": [],
   "source": [
    "## Get data from CLTK\n",
    "import tqdm as notebook_tqdm\n",
    "from cltk.data.fetch import FetchCorpus\n",
    "corpus_downloader = FetchCorpus(language=\"grc\")"
   ]
  },
  {
   "cell_type": "markdown",
   "id": "da86e626-628f-4573-9431-435b39f328ff",
   "metadata": {
    "tags": []
   },
   "source": [
    "### Load Dataset <a name=\"load_dataset_link\"></a>\n",
    "We need to load the corpus stored locally before preprocessing. The dataset is represented in plain text and stored in `.txt` format. The dataset is converted into a `dict` data structure, with keys representing the authors' names and the values representing a list of their works.\n",
    "\n",
    "Corpus Data Structure:\n",
    "\n",
    "corpus = \\{  \n",
    "    &nbsp;&nbsp; 'author 1'：\\[ work1, work2, work3 ...\\],  \n",
    "    &nbsp;&nbsp; 'author 2'：\\[ work1, work2, work3 ...\\],  \n",
    "    &nbsp;&nbsp; 'author 3'：\\[ work1, work2, work3 ...\\],  \n",
    "    &nbsp;&nbsp; ...  \n",
    "\\}  "
   ]
  },
  {
   "cell_type": "code",
   "execution_count": 2,
   "id": "d69bf322-ea80-4c0f-a302-be9d49bd3597",
   "metadata": {
    "tags": []
   },
   "outputs": [
    {
     "name": "stderr",
     "output_type": "stream",
     "text": [
      "/home/ludwig/projects/CM3060 Natural Language Proccesing/venv/lib/python3.8/site-packages/tqdm/auto.py:22: TqdmWarning: IProgress not found. Please update jupyter and ipywidgets. See https://ipywidgets.readthedocs.io/en/stable/user_install.html\n",
      "  from .autonotebook import tqdm as notebook_tqdm\n"
     ]
    },
    {
     "name": "stdout",
     "output_type": "stream",
     "text": [
      "Author               Num of Texts\n",
      "-----------------  --------------\n",
      "Pindar                          4\n",
      "Epicurus                        2\n",
      "Aeschylus                       6\n",
      "Pausanias                       1\n",
      "Plato                           8\n",
      "Xenophon                       14\n",
      "Euripides                      14\n",
      "Hesiod                          3\n",
      "Aristotle                       8\n",
      "Aristophanes                    8\n",
      "Homer                           2\n",
      "Saint John                      4\n",
      "Luke                            2\n",
      "Diogenes Laërtius               1\n",
      "\n",
      "-----------------  ---------------\n",
      "Total                           77\n"
     ]
    }
   ],
   "source": [
    "import os\n",
    "import textwrap\n",
    "import cltk\n",
    "from tabulate import tabulate\n",
    "\n",
    "# Define the function of loading data\n",
    "def get_corpus_dict_from_dir(path):\n",
    "    files = os.listdir('./raw text')\n",
    "    corpus_dict = {}\n",
    "    for file in files:\n",
    "        if '.txt' in file:\n",
    "            author = file[:file.find('-')-1].strip()\n",
    "            with open(path+'/'+file,'r',encoding='utf-8') as f:\n",
    "                if corpus_dict.get(author) is None:\n",
    "                    corpus_dict[author] = []\n",
    "                corpus_dict[author].append(f.read())\n",
    "    return corpus_dict\n",
    "\n",
    "# Define the function of showing the size of the data\n",
    "def show_corpus_size(corpus):\n",
    "    table_data = []\n",
    "    table_headers = ['Author','Num of Texts']\n",
    "    for author,docs in corpus.items():\n",
    "        table_data.append((author,len(docs)))\n",
    "    \n",
    "    total_size = len([work for works in corpus.values() for work in works])\n",
    "    print(tabulate(table_data,headers=table_headers))\n",
    "    print(tabulate([('Total',total_size)],headers=[' '*15,' '*13]))\n",
    "\n",
    "# Load data into a dictionary\n",
    "raw_copus = get_corpus_dict_from_dir('./raw text')\n",
    "\n",
    "# Show how many works each author has\n",
    "show_corpus_size(raw_copus)"
   ]
  },
  {
   "cell_type": "markdown",
   "id": "79c5fa3a-8dc6-49dc-be93-5d0e6f3acae4",
   "metadata": {
    "tags": []
   },
   "source": [
    "### Segementation of text\n",
    "A work in the copus presents a full publication. However, contested works often survives in fragments in Greek literature. Therefore, it is desired  that our model would be able to predict the authorship from a fragment of works. \n",
    "\n",
    "In order to give the model this capability, we divide works in the dataset into short fragments. However, we should be courious not to segement the works too small, since it is very unlikely to determine the authorship of a small paragraph. The writting style would not be obvious and work frequency distribution would not give insights to the authorship given the small size of paragraph. In this study, the size of a fragment is set to `5000` characters long. "
   ]
  },
  {
   "cell_type": "code",
   "execution_count": 3,
   "id": "7368f45d-9837-4a87-99ec-5d7c2b2186f6",
   "metadata": {
    "tags": []
   },
   "outputs": [
    {
     "name": "stdout",
     "output_type": "stream",
     "text": [
      "Author               Num of Texts\n",
      "-----------------  --------------\n",
      "Pindar                         30\n",
      "Epicurus                        4\n",
      "Aeschylus                      46\n",
      "Pausanias                     234\n",
      "Plato                         394\n",
      "Xenophon                      404\n",
      "Euripides                     164\n",
      "Hesiod                         24\n",
      "Aristotle                     333\n",
      "Aristophanes                  116\n",
      "Homer                         261\n",
      "Saint John                     24\n",
      "Luke                           51\n",
      "Diogenes Laërtius             144\n",
      "\n",
      "-----------------  ---------------\n",
      "Total                         2229\n"
     ]
    }
   ],
   "source": [
    "import textwrap\n",
    "\n",
    "# Define the function for splitting the corpus\n",
    "def segement_corpus(corpus,chunk_size):\n",
    "    corpus_segemented = {}\n",
    "    for author,docs in corpus.items():\n",
    "        for doc in docs:\n",
    "            if corpus_segemented.get(author) is None:\n",
    "                corpus_segemented[author] = []\n",
    "            corpus_segemented[author] += textwrap.wrap(doc,chunk_size)\n",
    "    return corpus_segemented\n",
    "\n",
    "# Split each works into smaller fragments\n",
    "corpus = segement_corpus(raw_copus,chunk_size=5000)\n",
    "show_corpus_size(corpus)"
   ]
  },
  {
   "cell_type": "code",
   "execution_count": 4,
   "id": "d362c758-710e-449b-b8bd-f43f44d8dabd",
   "metadata": {
    "tags": []
   },
   "outputs": [
    {
     "name": "stdout",
     "output_type": "stream",
     "text": [
      "\n",
      "Example: A fragment of Epicurus' work\n",
      " Κύριαι Δόξαι                                           Επίκουρος      εξάχθηκε από τη Βικιθήκη την 9 Ιουνίου 2022      Κύριαι Δόξαι  Συγγραφέας: Επίκουρος      1 Τὸ μακάριον καὶ ἄφθαρτον οὔτε αὐτὸ πράγματα ἔχει οὔτε ἄλλῳ παρέχει· ὥστε οὔτε ὀργαῖς οὔτε χάρισι συνέχεται· ἐν ἀσθενεῖ γὰρ πᾶν τὸ τοιοῦτον. (ἐν ἄλλοις δέ φησι τοὺς θεοὺς λόγῳ θεωρητούς͵ οὓς μὲν κατ΄ ἀριθμὸν ὑφεστῶτας͵ οὓς δὲ κατὰ ὁμοείδειαν͵ ἐκ τῆς συνεχοῦς ἐπιῤῥύσεως τῶν ὁμοίων εἰδώλων ἐπὶ τὸ αὐτὸ ἀποτετελεσμένων͵ ἀνθρωποειδεῖς.)  2 Ὁ θάνατος οὐδὲν πρὸς ἡμᾶς· τὸ γὰρ διαλυθὲν ἀναισθητεῖ͵ τὸ δ΄ ἀναισθητοῦν οὐδὲν πρὸς ἡμᾶς.  3 Ὅρος τοῦ μεγέθους τῶν ἡδονῶν ἡ παντὸς τοῦ ἀλγοῦντος ὑπεξαίρεσις. ὅπου δ΄ ἂν τὸ ἡδόμενον ἐνῇ͵ καθ΄ ὃν ἂν χρόνον ᾖ͵ οὐκ ἔστι τὸ ἀλγοῦν ἢ λυπούμενον ἢ τὸ συναμφότερον.  4 Οὐ χρονίζει τὸ ἀλγοῦν συνεχῶς ἐν τῇ σαρκί͵ ἀλλὰ τὸ μὲν ἄκρον τὸν ἐλάχιστον χρόνον πάρεστι͵ τὸ δὲ μόνον ὑπερτεῖνον τὸ ἡδόμενον κατὰ σάρκα οὐ πολλὰς ἡμέρας συμβαίνει· αἱ δὲ πολυχρόνιοι τῶν ἀῤῥωστιῶν πλεονάζον ἔχουσι τὸ ἡδόμενον ἐν τῇ σαρκὶ ἤπερ τὸ ἀλγοῦν.  5 Οὐκ ἔστιν ἡδέως ζῆν ἄνευ τοῦ φρονίμως καὶ καλῶς καὶ δικαίως οὐδὲ φρονίμως καὶ καλῶς καὶ δικαίως ἄνευ τοῦ ἡδέως· ὅτῳ δὲ τοῦτο μὴ ὑπάρχει͵ οὐκ ἔστι τοῦτον ἡδέως ζῆν.  6 Ἕνεκα τοῦ θαρρεῖν ἐξ ἀνθρώπων ἦν κατὰ φύσιν ἀρχῆς καὶ βασιλείας ἀγαθόν͵ ἐξ ὧν ἄν ποτε τοῦτο οἷός τ΄ ᾖ παρασκευάζεσθαι.  7 Ἔνδοξοι καὶ περίβλεπτοί τινες ἐβουλήθησαν γενέσθαι͵ τὴν ἐξ ἀνθρώπων ἀσφάλειαν οὕτω νομίζοντες περιποιήσεσθαι ὥστε͵ εἰ μὲν ἀσφαλὴς ὁ τῶν τοιούτων βίος͵ ἀπέλαβον τὸ τῆς φύσεως ἀγαθόν· εἰ δὲ μὴ ἀσφαλής͵ οὐκ ἔχουσιν οὗ ἕνεκα ἐξ ἀρχῆς κατὰ τὸ τῆς φύσεως οἰκεῖον ὠρέχθησαν.  8 Οὐδεμία ἡδονὴ καθ΄ ἑαυτὴν κακόν· ἀλλὰ τὰ τινῶν ἡδονῶν ποιητικὰ πολλαπλασίους ἐπιφέρει τὰς ὀχλήσεις τῶν ἡδονῶν.  9 Εἰ κατεπυκνοῦτο πᾶσα ἡδονὴ τόπῳ καὶ χρόνῳ1 καὶ περὶ ὅλον τὸ ἄθροισμα ὑπῆρχεν ἢ τὰ κυριώτατα μέρη τῆς φύσεως͵ οὐκ ἄν ποτε διέφερον ἀλλήλων αἱ ἡδοναί. 1 τῷ αὐτῷ  10 Εἰ τὰ ποιητικὰ τῶν περὶ τοὺς ἀσώτους ἡδονῶν ἔλυε τοὺς φόβους τῆς διανοίας τούς τε περὶ μετεώρων καὶ θανάτου καὶ ἀλγηδόνων͵ ἔτι τε τὸ πέρας τῶν ἐπιθυμιῶν (καὶ τῶν ἀλγηδόνων) ἐδίδασκεν͵ οὐκ ἄν ποτε εἴχομεν ὅ τι μεμψαίμεθα αὐτοῖς πανταχόθεν ἐκπληρουμένοις τῶν ἡδονῶν καὶ οὐδαμόθεν οὔτε τὸ ἀλγοῦν οὔτε τὸ λυπούμενον ἔχουσιν͵ ὅπερ ἐστὶ τὸ κακόν.  11 Εἰ μηθὲν ἡμᾶς αἱ τῶν μετεώρων ὑποψίαι ἠνώχλουν καὶ αἱ περὶ θανάτου͵ μήποτε πρὸς ἡμᾶς ᾖ τι͵ ἔτι τε τὸ μὴ κατανοεῖν τοὺς ὅρους τῶν ἀλγηδόνων καὶ τῶν ἐπιθυμιῶν͵ οὐκ ἂν προσεδεόμεθα φυσιολογίας.  12 Οὐκ ἦν τὸ φοβούμενον λύειν ὑπὲρ τῶν κυριωτάτων μὴ κατειδότα τίς ἡ τοῦ σύμπαντος φύσις͵ ἀλλ΄ ὑποπτεύοντά τι τῶν κατὰ τοὺς μύθους· ὥστε οὐκ ἦν ἄνευ φυσιολογίας ἀκεραίους τὰς ἡδονὰς ἀπολαμβάνειν.  13 Οὐθὲν ὄφελος ἦν τὴν κατὰ ἀνθρώπους ἀσφάλειαν παρασκευάζεσθαι τῶν ἄνωθεν ὑπόπτων καθεστώτων καὶ τῶν ὑπὸ γῆς καὶ ἁπλῶς τῶν ἐν τῷ ἀπείρῳ.  14 Τῆς ἀσφαλείας τῆς ἐξ ἀνθρώπων γενομένης μέχρι τινὸς δυνάμει τε ἐξερειστικῇ καὶ εὐπορίᾳ͵ εἰλικρινεστάτη γίνεται ἡ ἐκ τῆς ἡσυχίας καὶ ἐκχωρήσεως τῶν πολλῶν ἀσφάλεια.  15 Ὁ τῆς φύσεως πλοῦτος καὶ ὥρισται καὶ εὐπόριστός ἐστιν͵ ὁ δὲ τῶν κενῶν δοξῶν εἰς ἄπειρον ἐκπίπτει.  16 Β\n"
     ]
    }
   ],
   "source": [
    "# Show an excerpt of text\n",
    "print('\\nExample: A fragment of Epicurus\\' work\\n',corpus['Epicurus'][0][:3000])"
   ]
  },
  {
   "cell_type": "markdown",
   "id": "de163bc7-7972-414a-856f-3b3f47b13f8a",
   "metadata": {
    "tags": []
   },
   "source": [
    "### Preprocessing <a name=\"preprocessing_link\"></a>"
   ]
  },
  {
   "cell_type": "markdown",
   "id": "8b17c9ba-be97-4fa1-98ed-5d4e514dee20",
   "metadata": {
    "tags": []
   },
   "source": [
    "#### Lemmatization <a name='lemmatization_link'></a>\n",
    "We would use the Lemmatizer supported by the CLTK (The Classical Language Toolkit) library to lemmatize the words in the corpus before it is processed into the model. We define a function called `greek_lemmatizer(wordprint('\\nExample: A fragment of Epicurus\\' work\\n',corpus['Epicurus'][0][:3000]))` that would perform lemmatization on a single word"
   ]
  },
  {
   "cell_type": "code",
   "execution_count": 5,
   "id": "be59d58a-4434-4ecb-be77-60337a9dbb2e",
   "metadata": {},
   "outputs": [
    {
     "name": "stdout",
     "output_type": "stream",
     "text": [
      "Example: \n",
      " The Greek word ᾠκοδομήσατο is lemmatized as οἰκοδομέω\n"
     ]
    }
   ],
   "source": [
    "# Import libraries\n",
    "from cltk.lemmatize.grc import GreekBackoffLemmatizer\n",
    "from cltk.alphabet.text_normalization import cltk_normalize\n",
    "lemmatizer = GreekBackoffLemmatizer()\n",
    "\n",
    "# Define the Lemmatization function\n",
    "def greek_lemmatizer(word):\n",
    "    return lemmatizer.lemmatize([cltk_normalize(word)])[0][1]\n",
    "\n",
    "# Example\n",
    "print('Example: \\n The Greek word ᾠκοδομήσατο is lemmatized as',greek_lemmatizer('ᾠκοδομήσατο'))"
   ]
  },
  {
   "cell_type": "markdown",
   "id": "cc1de61d-f5d0-4e21-aea2-d7040faeae53",
   "metadata": {},
   "source": [
    "#### Tokenization <a name='tokenization_link'></a>\n",
    "The function `greek_tokenizer(text)` tokenizes the Greek corpus. This function is a wrapper of NLTK tokenizer for Greek language, with speical treatment for words in apocopic form. \n",
    "\n",
    "Stopwords in apocopic form, with which the vowel at the end of a word is removed, need extra attentions in the tokenization process so that they could be correctly discarded during stopwords removal. \n",
    "\n",
    "For example, \"ἀλλά\" (but) in the ancient Greek langauge often appears as \"ἀλλ’\", where the vowel \"ά\" is replaced by the apostrophe \"’\". This results in the incorrect tokenization that \"ἀλλ’\" is splited into two different tokens, \"ἀλλ\" and \"’\", instead of a single word \"ἀλλ’\"."
   ]
  },
  {
   "cell_type": "code",
   "execution_count": 6,
   "id": "af32867b-ccc7-440c-8648-f67f5942e36a",
   "metadata": {},
   "outputs": [
    {
     "name": "stdout",
     "output_type": "stream",
     "text": [
      "Example: Tokenize and Lemmatize the excerpt of Plato's works\n",
      " βουλόμενος θεάσασθαι τίνα τρόπον ποιήσουσιν ἅτε νῦ\n",
      "Tokenized words: ['βουλόμενος', 'θεάσασθαι', 'τίνα', 'τρόπον', 'ποιήσουσιν', 'ἅτε', 'νῦ']\n"
     ]
    }
   ],
   "source": [
    "import nltk\n",
    "\n",
    "# Define the function for tokenization of Greek language\n",
    "def greek_tokenizer(text):\n",
    "    # Handling the apocopic form by replacing words in apocopic form by speical markers, \n",
    "    # which would later be substituted back to the original words\n",
    "    processed_text = text.replace('ἀλλ’','tk_1')\n",
    "    processed_text = processed_text.replace('ἀλλ\\'','tk_1')\n",
    "    \n",
    "    processed_text = processed_text.replace('δ’','tk_2')\n",
    "    processed_text = processed_text.replace('δ\\'','tk_2')\n",
    "\n",
    "    # Tokenization with NLTK's library\n",
    "    words = nltk.word_tokenize(processed_text,language='greek')\n",
    "    \n",
    "    # Substitution for the original words\n",
    "    for i in range(len(words)):\n",
    "        if words[i] == 'tk_1':\n",
    "            words[i] ='ἀλλ’'\n",
    "            continue\n",
    "        if words[i] == 'tk_2':\n",
    "            words[i] ='δ’'\n",
    "            continue\n",
    "    return words\n",
    "\n",
    "# Example\n",
    "print('Example: Tokenize and Lemmatize the excerpt of Plato\\'s works\\n',corpus['Plato'][0][200:250])\n",
    "print('Tokenized words:',greek_tokenizer(corpus['Plato'][0][200:250]))"
   ]
  },
  {
   "cell_type": "markdown",
   "id": "fea8479e-2bbe-4c81-a30c-ea407b07d665",
   "metadata": {},
   "source": [
    "#### Lemmatizer-Tokenizer\n",
    "We need a function that could perform both lemmatization and tokenization at once. This function `greek_lemmatizer_tokenizer` would be passed into the TF-IDF Vectorizer to make representation of the corpus before training."
   ]
  },
  {
   "cell_type": "code",
   "execution_count": 7,
   "id": "51b081ec-c9d9-45f6-bd98-39b79a56f4b7",
   "metadata": {},
   "outputs": [
    {
     "name": "stdout",
     "output_type": "stream",
     "text": [
      "Example:\n",
      " Tokenize and Lemmatize the excerpt of Plato's works\n",
      "  καὶ ἅμα τὴν ἑορτὴν βουλόμενος θεάσασθαι τίνα τρόπ\n",
      "Result: ['καί', 'ἅμα', 'ὁ', 'ἑορτή', 'βούλομαι', 'θεάω', 'τίς', 'τρόπ']\n"
     ]
    }
   ],
   "source": [
    "# Define the function that perform lemmatization and tokenization at once\n",
    "def greek_lemmatizer_tokenizer(text):\n",
    "    tokenized_words = greek_tokenizer(text)\n",
    "    lemmatized_words =  [lemmatizer.lemmatize([word])[0][1] for word in tokenized_words]\n",
    "    return lemmatized_words\n",
    "\n",
    "# Example\n",
    "print('Example:\\n Tokenize and Lemmatize the excerpt of Plato\\'s works\\n',corpus['Plato'][0][180:230])\n",
    "print('Result:',greek_lemmatizer_tokenizer(corpus['Plato'][0][180:230]))"
   ]
  },
  {
   "cell_type": "markdown",
   "id": "6a47e278-db87-45c4-bf9c-dc3434271279",
   "metadata": {},
   "source": [
    "#### Stopwords Removal <a name='stopwords_link'></a>\n",
    "We need to remove the stopwords from the copus in order to improve the performance of our model. Here we use the CLTK's stopwords list for Greek, while adding extra words, such as 'all' or 'I speak', which could help improve the performance of the model when removed."
   ]
  },
  {
   "cell_type": "code",
   "execution_count": 8,
   "id": "e559125d-aa88-4888-a8cb-a47029c0cdc3",
   "metadata": {},
   "outputs": [],
   "source": [
    "# Make use of CLTK's stopwords list\n",
    "grc_stoplist = cltk.stops.grc.STOPS\n",
    "\n",
    "# Adding extra stopwords\n",
    "grc_stoplist.extend(['να','και','το','τα','θα','τον','που','την','μου','τη','από','για',\n",
    "                    'κι','με','εις','του','είναι','των','της','ἦν','τους','τοῦτο','ταῦτα','ἐγώ',\n",
    "                    'δ\\'','δ᾽','δ’','σου','ἀλλ᾽','ἀλλ’','ἀλλά','ότι','δε','ο','η','ᾖ','ή','αὐτοῦ','φημί','λέγω','εἶπον','πᾶς''ἔχω','πολύς','ἐπεί','ποιέω','γ᾽',\n",
    "                     'Διότι','μιν','πᾶς'])\n",
    "\n",
    "# Lemmatize stopwords\n",
    "grc_stoplist = [greek_lemmatizer(stop) for stop in grc_stoplist]"
   ]
  },
  {
   "cell_type": "markdown",
   "id": "6dd54f79-9cde-49f0-8852-2275f2a923f4",
   "metadata": {},
   "source": [
    "#### Remove numbers and puncutations\n",
    "\n",
    "Remove numbers and puncutations could also help build a better model, since they are most of times irrelevent to the linguistic features of the corpus."
   ]
  },
  {
   "cell_type": "code",
   "execution_count": 9,
   "id": "d390786d-b4d1-49de-b306-d8ee44c4f436",
   "metadata": {
    "tags": []
   },
   "outputs": [],
   "source": [
    "import re\n",
    "for author in corpus.keys():\n",
    "    for i in range(len(corpus[author])):\n",
    "        # Remove numbers\n",
    "        corpus[author][i] = re.sub('[0-9]','',corpus[author][i])\n",
    "        # Remove puncutations\n",
    "        corpus[author][i] = re.sub(\"[\\\\[\\\\]!._,'@?\\\\\\:;\\\\\\(\\\\)\\\\%\\\\—\\\\{\\\\}\\\\*\\\\<\\\\>\\\\--\\\\``\\\\&\\\\·\\\\«\\\\»]\",'',corpus[author][i])\n",
    "        # Remove line breakers\n",
    "        corpus[author][i] = re.sub(\"[\\\\n]\",' ',corpus[author][i])\n",
    "        # Remove special puncutations\n",
    "        corpus[author][i] = re.sub(\"[\\\\`\\\\`]\",'',corpus[author][i])\n",
    "        "
   ]
  },
  {
   "cell_type": "markdown",
   "id": "4123a560-144f-465e-b63a-da2102557925",
   "metadata": {},
   "source": [
    "#### Normalization\n",
    "Finally, normalization is applied to the corpus. All words are converted to lowercase. By normalization we could avoid having noise in the text where the words has the same meaning but were wrriten in different ways are considered wrongly to be different words."
   ]
  },
  {
   "cell_type": "code",
   "execution_count": 10,
   "id": "46b60cdf-f21a-45e4-aa8f-369175b86663",
   "metadata": {},
   "outputs": [
    {
     "name": "stdout",
     "output_type": "stream",
     "text": [
      "Example: An excerpt of Plato's work, with all words in lowercase:\n",
      "πολιτεία  πολιτεία  συγγραφέας πλάτων  βιβλίο α πολιτείαβ→      σωκράτης γλαύκων   a σωκράτης κατέβη\n"
     ]
    }
   ],
   "source": [
    "# Convert all the text to lowercase\n",
    "for author in corpus.keys():\n",
    "    for i in range(len(corpus[author])):\n",
    "        corpus[author][i] = corpus[author][i].lower()\n",
    "print('Example: An excerpt of Plato\\'s work, with all words in lowercase:')\n",
    "print(corpus['Plato'][0][:100])"
   ]
  },
  {
   "cell_type": "markdown",
   "id": "84a91c2f-cab2-4a9d-aa62-2adc2164898a",
   "metadata": {},
   "source": [
    "#### Undersampling and Oversampling <a name='sampling_link'></a>\n",
    "In statistic, undersampling and oversampling are useful techniques when the dataset is inbalance and as a result the predicting model is biased towords a particular category of data. In otherwords, some categoires of data are over-represented while some others are under-represented. For example, in our dataset, there are more than 400 texts from Xenophon, whereas ther are only 4 from Epicurus. Xenophon is overepresented, while Epicurus is underepresented. \n",
    "\n",
    "To avoid the undesired model resulted by the biased dataset, we need to reduce the number of texts from the overrepresented authors while increase the size of corpus for the underrepresented ones. "
   ]
  },
  {
   "cell_type": "code",
   "execution_count": 11,
   "id": "a89dfbd7-a4d0-408e-9b8a-a27d7c503ebc",
   "metadata": {},
   "outputs": [
    {
     "name": "stdout",
     "output_type": "stream",
     "text": [
      "Author               Num of Texts\n",
      "-----------------  --------------\n",
      "Pindar                         30\n",
      "Epicurus                        4\n",
      "Aeschylus                      46\n",
      "Pausanias                     234\n",
      "Plato                         394\n",
      "Xenophon                      404\n",
      "Euripides                     164\n",
      "Hesiod                         24\n",
      "Aristotle                     333\n",
      "Aristophanes                  116\n",
      "Homer                         261\n",
      "Saint John                     24\n",
      "Luke                           51\n",
      "Diogenes Laërtius             144\n",
      "\n",
      "-----------------  ---------------\n",
      "Total                         2229\n"
     ]
    }
   ],
   "source": [
    "show_corpus_size(corpus)"
   ]
  },
  {
   "cell_type": "markdown",
   "id": "3fb1a518-e7ef-4cc5-863c-ffd9b9c3aeb6",
   "metadata": {},
   "source": [
    "##### Undersampling\n",
    "There are different approaches to undersampling. The technique we used here is called **Random undersampling**, in which random samples are removed from the overrepresented categories. Other techniques include Cluster centroids in which a cluster of samples are replaced by the cluster centroids that are calculated using the K-means algorithm."
   ]
  },
  {
   "cell_type": "code",
   "execution_count": 12,
   "id": "8da5eb5d-c70d-403e-9ed8-236f4b6423b6",
   "metadata": {},
   "outputs": [
    {
     "name": "stdout",
     "output_type": "stream",
     "text": [
      "Author               Num of Texts\n",
      "-----------------  --------------\n",
      "Pindar                         30\n",
      "Epicurus                        4\n",
      "Aeschylus                      46\n",
      "Pausanias                     234\n",
      "Plato                         250\n",
      "Xenophon                      250\n",
      "Euripides                     164\n",
      "Hesiod                         24\n",
      "Aristotle                     250\n",
      "Aristophanes                  116\n",
      "Homer                         261\n",
      "Saint John                     24\n",
      "Luke                           51\n",
      "Diogenes Laërtius             144\n",
      "\n",
      "-----------------  ---------------\n",
      "Total                         1848\n"
     ]
    }
   ],
   "source": [
    "## Undersampling\n",
    "import random\n",
    "## Remove some samples from Plato's corpus\n",
    "plato_corpus = corpus['Plato']\n",
    "random.seed(1)\n",
    "random.shuffle(plato_corpus)\n",
    "corpus['Plato'] = plato_corpus[:250]\n",
    "\n",
    "# Remove some from Aristotle's corpus\n",
    "aristotle_corpus = corpus['Aristotle']\n",
    "random.shuffle(aristotle_corpus)\n",
    "corpus['Aristotle'] = aristotle_corpus[:250]\n",
    "\n",
    "# Remove some from Aristotle's corpus\n",
    "xenophon_corpus = corpus['Xenophon']\n",
    "random.shuffle(xenophon_corpus)\n",
    "corpus['Xenophon'] = xenophon_corpus[:250]\n",
    "\n",
    "show_corpus_size(corpus)"
   ]
  },
  {
   "cell_type": "markdown",
   "id": "6f902c3c-e758-4ca0-a178-9247c4fd8fee",
   "metadata": {},
   "source": [
    "##### Oversampling\n",
    "Oversampling is a method to increase the representing proportion for the minor categories. Traditionally it is done by collecting more data for the minor categories. However, since we cannot obtain more texts from antiquity than what survives today, we resolve to cloning the data of the underrepresented authors in order to increase the accuracy of the model.\n",
    "\n",
    "It should be curious that oversampling often leads to overfitting of models. Therefore, extra attention must be taken when increasing the number of texts of the minor authors. We only clone 50% of texts from the original corpus of the underrepresented authors, and do not seek a complete balance of corpus between authors."
   ]
  },
  {
   "cell_type": "code",
   "execution_count": 13,
   "id": "ac2722b3-8a55-4956-a92b-9dc2b0157349",
   "metadata": {},
   "outputs": [
    {
     "name": "stdout",
     "output_type": "stream",
     "text": [
      "Author               Num of Texts\n",
      "-----------------  --------------\n",
      "Pindar                         45\n",
      "Epicurus                        6\n",
      "Aeschylus                      69\n",
      "Pausanias                     234\n",
      "Plato                         250\n",
      "Xenophon                      250\n",
      "Euripides                     164\n",
      "Hesiod                         24\n",
      "Aristotle                     250\n",
      "Aristophanes                  116\n",
      "Homer                         261\n",
      "Saint John                     36\n",
      "Luke                           76\n",
      "Diogenes Laërtius             144\n",
      "\n",
      "-----------------  ---------------\n",
      "Total                         1925\n"
     ]
    }
   ],
   "source": [
    "def oversampling(corpus,author):\n",
    "    author_corpus = corpus[author]\n",
    "    random.shuffle(author_corpus)\n",
    "    corpus[author] = author_corpus + author_corpus[:int(len(author_corpus)/2)]\n",
    "\n",
    "oversampling(corpus,'Saint John')\n",
    "oversampling(corpus,'Luke')\n",
    "oversampling(corpus,'Epicurus')\n",
    "oversampling(corpus,'Aeschylus')\n",
    "oversampling(corpus,'Pindar')\n",
    "\n",
    "show_corpus_size(corpus)"
   ]
  },
  {
   "cell_type": "markdown",
   "id": "77c050c1-8db7-47ab-bb79-b18cc389e21b",
   "metadata": {
    "tags": []
   },
   "source": [
    "#### Labels for the target data"
   ]
  },
  {
   "cell_type": "markdown",
   "id": "cb2f5719-b404-48de-adad-70a2cbe9ee83",
   "metadata": {},
   "source": [
    "### Training Data and Target Data\n",
    "In order to prepare the data for model training, we first transform the corpus into two parts: a list of texts and a list of corrresponding authors encoded as integers. After the transformation, we divide the dataset into `training data` and `testing data` in the 3:1 ratio."
   ]
  },
  {
   "cell_type": "code",
   "execution_count": 14,
   "id": "89f8c65a-ce63-431f-b8ad-dba38dc9187f",
   "metadata": {},
   "outputs": [
    {
     "name": "stdout",
     "output_type": "stream",
     "text": [
      "There are  1925  data\n"
     ]
    }
   ],
   "source": [
    "# Get the author list from the corpus\n",
    "authors = list(corpus.keys())\n",
    "\n",
    "# Transform the data into a list of text and a list of authors encoded as integers.\n",
    "all_train_data = []\n",
    "all_target_data = []\n",
    "for author,docs in corpus.items():\n",
    "    for doc in docs:\n",
    "        all_train_data.append(doc)\n",
    "        all_target_data.append(authors.index(author))\n",
    "print('There are ', len(all_train_data),' data')"
   ]
  },
  {
   "cell_type": "markdown",
   "id": "90350307-df37-421d-a4d9-a1cc79d5b6d2",
   "metadata": {},
   "source": [
    "After the transformation, we would assign 1/3 of data as the `training_data` and the remaining 1/3 as the `testing_data`. However, before dividing the dataset, we need to first rearrange the data randomly, so that the `target_data` would include texts from different authors."
   ]
  },
  {
   "cell_type": "code",
   "execution_count": 15,
   "id": "30d63c48-0bfa-4ccd-a069-486f3be65bfc",
   "metadata": {
    "tags": []
   },
   "outputs": [],
   "source": [
    "# Rearrange the data randomly\n",
    "from sklearn.utils import shuffle\n",
    "all_train_data, all_target_data = shuffle(all_train_data, all_target_data, random_state=3)"
   ]
  },
  {
   "cell_type": "code",
   "execution_count": 16,
   "id": "53d7f8ff-4303-4e0d-90bb-1f1144830001",
   "metadata": {
    "tags": []
   },
   "outputs": [
    {
     "name": "stdout",
     "output_type": "stream",
     "text": [
      "There are 1283 training data and 642 testing data\n"
     ]
    }
   ],
   "source": [
    "# Divide the data into training set and testing set\n",
    "train_data_boundary = int(len(all_train_data)/3 *2)\n",
    "train_data = all_train_data[:train_data_boundary]\n",
    "target_data = all_target_data[:train_data_boundary]\n",
    "test_data = all_train_data[train_data_boundary:]\n",
    "test_target_data=all_target_data[train_data_boundary:]\n",
    "\n",
    "print('There are',len(train_data),'training data and',len(test_data),'testing data')"
   ]
  },
  {
   "cell_type": "markdown",
   "id": "7b3affc1-0af3-46da-98d4-57acd4d386d5",
   "metadata": {},
   "source": [
    "### Baseline Performance <a name='baseline_performance_link'></a>\n",
    "Sarah Beller conducted a research in 2014 in which various machine learning models are used to learn linguistic features of 63 influential Greek texts with known authorship, and thereby used to make prediction of authorship of contested works. The best model they developed using Naive Bayes Classifier achieves 85.71% accuracy. This serves as our baseline peroformance."
   ]
  },
  {
   "cell_type": "markdown",
   "id": "703d309c-9085-42cf-bc70-c86c65cd454f",
   "metadata": {
    "tags": []
   },
   "source": [
    "### Classification approach <a name='classification_approach_link'></a>\n",
    "\n",
    "In this study, we would use Navie Bayes model and Random Forest model for text classification, and compare their performance. \n",
    "\n",
    "#### Naive Bayes\n",
    "Naive Bayes is one of the powerful approaches to text classification. Naive Bayes model is based on Bayes Rule. It is simple to understand and implement, yet is able to give acceptable accuracy. This model is fast and particualr suitable for high-demensional dataset, such as text, and is therefore a popular algorithm for task of text classification. \n",
    "\n",
    "In this study, Multinomial Naive Bayes model is used. Each word in the corpus is a feature decided by its TF-IDF value which measure the importance of a word in the corpus. \n",
    "\n",
    "However, Naive Bayes model assumes that each feature is independent of each others, while all the features are equally important. This might not be the case in representation of text, since in natural language words are related to give meanings and some words are less important than others. For example, particles typically convey less meaning than nouns. This would lead to the incomplete representation of the corpus, and therefore undermine the accuracy of the model.\n",
    "\n",
    "#### Random Forests\n",
    "Random forest classifier is an ensemble learning technique that creates a set of decision trees from a randomly selected samples from the training set, then combines the predicting result from each tree to give the prediction result.\n",
    "\n",
    "Random forest is fast and able to give high accuracy. It is less prone to overfitting, which is useful in authorship attribution problem where we need to predict the text that is not in the training set. Moreover, Random orest model excels in handling missing data and unbalance dataset, which is often the case in authorship attribution problem in which works some authors processes significantly more surviving works than others."
   ]
  },
  {
   "cell_type": "markdown",
   "id": "b27acffe-4e85-4706-9c11-61efbae4b364",
   "metadata": {},
   "source": [
    "### Models Training <a name='models_training_link'></a>"
   ]
  },
  {
   "cell_type": "markdown",
   "id": "d8fe1d58-e61e-40a2-b45a-3e61e7d11c72",
   "metadata": {
    "tags": []
   },
   "source": [
    "#### Navie Bayes Model"
   ]
  },
  {
   "cell_type": "code",
   "execution_count": 17,
   "id": "d168d57a-a2d0-4a18-a05d-b63af80769ee",
   "metadata": {},
   "outputs": [
    {
     "name": "stderr",
     "output_type": "stream",
     "text": [
      "/home/ludwig/projects/CM3060 Natural Language Proccesing/venv/lib/python3.8/site-packages/sklearn/feature_extraction/text.py:396: UserWarning: Your stop_words may be inconsistent with your preprocessing. Tokenizing the stop words generated tokens ['̓', 'δ', 'διότι', 'εὐρύπορος', 'ἀλλ'] not in stop_words.\n",
      "  warnings.warn(\n"
     ]
    }
   ],
   "source": [
    "## Navie Bayes model training\n",
    "from sklearn.feature_extraction.text import TfidfVectorizer\n",
    "from sklearn.naive_bayes import MultinomialNB\n",
    "from sklearn.pipeline import make_pipeline\n",
    "\n",
    "# Make the pipline using TF-IDF vectorizer to convert the corpus into numerical representation \n",
    "# and then apply Multinomial Naive Bayes model for training\n",
    "nb_model = make_pipeline(TfidfVectorizer(tokenizer=greek_lemmatizer_tokenizer,stop_words=grc_stoplist,ngram_range=(1,3)), MultinomialNB())\n",
    "\n",
    "# Training the model\n",
    "nb_model.fit(train_data, target_data)\n",
    "\n",
    "# Make Prediction\n",
    "labels = nb_model.predict(test_data)"
   ]
  },
  {
   "cell_type": "markdown",
   "id": "b052dab1-c9b4-4086-b528-23b744b064fc",
   "metadata": {
    "tags": []
   },
   "source": [
    "#### Random Forest Model"
   ]
  },
  {
   "cell_type": "code",
   "execution_count": 18,
   "id": "aa94a6c7-b31f-4b5c-8b43-42f61a79cae3",
   "metadata": {},
   "outputs": [
    {
     "name": "stderr",
     "output_type": "stream",
     "text": [
      "/home/ludwig/projects/CM3060 Natural Language Proccesing/venv/lib/python3.8/site-packages/sklearn/feature_extraction/text.py:396: UserWarning: Your stop_words may be inconsistent with your preprocessing. Tokenizing the stop words generated tokens ['̓', 'δ', 'διότι', 'εὐρύπορος', 'ἀλλ'] not in stop_words.\n",
      "  warnings.warn(\n"
     ]
    }
   ],
   "source": [
    "## Random Forest model training\n",
    "from sklearn.feature_extraction.text import TfidfVectorizer\n",
    "from sklearn.naive_bayes import MultinomialNB\n",
    "from sklearn.pipeline import make_pipeline\n",
    "from sklearn.ensemble import RandomForestClassifier\n",
    "\n",
    "# Make pipine for the training.\n",
    "# Use TF-IDF vectorizer to convert the corpus into numerical representation.\n",
    "# Then apply the Random Forest model for training\n",
    "random_forest_model = make_pipeline(TfidfVectorizer(tokenizer=greek_lemmatizer_tokenizer,stop_words=grc_stoplist), RandomForestClassifier())\n",
    "\n",
    "# Training the model\n",
    "random_forest_model.fit(train_data, target_data)\n",
    "\n",
    "# Make predictions\n",
    "random_forest_labels = random_forest_model.predict(test_data)\n"
   ]
  },
  {
   "cell_type": "markdown",
   "id": "c16cb9d3-41fc-47f6-b9aa-93c041e9f44a",
   "metadata": {},
   "source": [
    "### Prediction of Contested Texts<a name='prediction_link'></a>\n",
    "Upon training, We then use the model to predict the authorship of two contested Greek texts - `Homeric Hymns` and `Prometheus Bound`.\n",
    "\n",
    "Homeric Hymns are a collection of 34 Greek poems that were directed as praise to gods in Greek religions, including Apollo,Demeter,Hermes, among other gods. This collection is in antiquity attributed to Homer. But modern scholars consider them not possible to be written during Homer's lifetime and of unknown authorship. However, both our models concur with the traditional view that it is likely wrriten by Homer. This result differs from Beller's research in which their models conclued that the Homeric Hymns are written either by Pindar or Hesiod.\n",
    "\n",
    "Prometheus Bound is a play concerning the Titan Prometheus who give fire to humans and therefore suffers serve punishment from Zesus. The play reaches its climax in depicting the clash between the power of Zesus and the will of Prometheus. It was traditionally attributed to the famous Greek tragedien Aeschylus, but later was questioned for its authenticity in 1970s by Mark Griffith and Oliver Taplin on computational linguistic ground. Our Naive Bayes and Random Forest models both shows that it is likely to be written by Euripides. This result agrees with Beller's in which their Naive Bayes and KNN models both suggest the authorship by Euripides, while the Decision Tree model hints Aeschylus. Our models agree with the authoship questions arised in 1970s to Prometheus Bound and concurs with the result from Beller's. "
   ]
  },
  {
   "cell_type": "code",
   "execution_count": 19,
   "id": "b9e6a87f-8ac5-43d7-a7f9-6cf74aeaa18e",
   "metadata": {},
   "outputs": [
    {
     "name": "stdout",
     "output_type": "stream",
     "text": [
      "╒═══════════════╤════════════════════╤═════════════════╕\n",
      "│ Model         │ Prometheus Bound   │ Homeric Hymns   │\n",
      "╞═══════════════╪════════════════════╪═════════════════╡\n",
      "│ Random Forest │ Euripides          │ Homer           │\n",
      "├───────────────┼────────────────────┼─────────────────┤\n",
      "│ Navie Bayes   │ Euripides          │ Homer           │\n",
      "╘═══════════════╧════════════════════╧═════════════════╛\n"
     ]
    }
   ],
   "source": [
    "from tabulate import tabulate\n",
    "\n",
    "# Get the author name from the encoding integers \n",
    "def get_author_by_index(authors,index):\n",
    "    return authors[index]\n",
    "\n",
    "# load text from file\n",
    "def load_text(path):\n",
    "    with open(path,'r') as f:\n",
    "        text = f.read()\n",
    "    return text\n",
    "\n",
    "# remove all puncitations and numbers from a text\n",
    "def clean_text(text):\n",
    "    text = re.sub('[0-9]','',text)\n",
    "    text = re.sub(\"[\\\\[\\\\]!._,'@?\\\\\\:;\\\\\\(\\\\)\\\\%\\\\—\\\\{\\\\}\\\\*\\\\<\\\\>\\\\--\\\\``\\\\&\\\\·\\\\«\\\\»]\",'',text)\n",
    "    text = re.sub(\"[\\\\n\\\\t]\",' ',text)\n",
    "    text = re.sub(\"[\\\\`\\\\`]\",'',text)\n",
    "    return text\n",
    "\n",
    "# Given a model and a text, use the model to predict the authorship of the text\n",
    "def predict_author(model,text):\n",
    "    return get_author_by_index(authors,model.predict([text])[0])\n",
    "\n",
    "# Show the prediction results from Random Forest and Navie Bayes model.\n",
    "def show_predict_author_results_with_random_forest_and_navie_bayes(texts):\n",
    "    random_forest_result = ['Random Forest']\n",
    "    nb_result = ['Navie Bayes']\n",
    "    headers = ['Model']\n",
    "    for title,text in texts.items():\n",
    "        random_forest_result.append(predict_author(random_forest_model,clean_text(text)))\n",
    "        nb_result.append(predict_author(nb_model,clean_text(text)))\n",
    "        headers.append(title)\n",
    "    print(tabulate([random_forest_result,nb_result],headers=headers,tablefmt='fancy_grid'))\n",
    "\n",
    "# load the text of Homeric Hymns\n",
    "homeric_hymns = load_text('./Testing Data/Homeric Hymns.txt')\n",
    "# load the text of Prometheus Bound\n",
    "promeheus = load_text('./Testing Data/Prometheus Bound.txt')\n",
    "\n",
    "# Show the predicted authorship for Prometheus Bound and Homeric Hymns \n",
    "show_predict_author_results_with_random_forest_and_navie_bayes({'Prometheus Bound':promeheus,'Homeric Hymns':homeric_hymns})"
   ]
  },
  {
   "cell_type": "markdown",
   "id": "80b8c11d-ff8b-45da-b5e3-333ec7d3eb13",
   "metadata": {
    "tags": []
   },
   "source": [
    "## Conclusions "
   ]
  },
  {
   "cell_type": "markdown",
   "id": "643eaa6d-cc84-4bba-ae01-0bd4cdb7a20e",
   "metadata": {},
   "source": [
    "### Evaluation <a name='evaluation'></a>\n",
    "An analysis of performance was conducted using `sklearn.metrics` library. The Naive Bayes model achieves 76% accuracy in predicting authorship. \n",
    "\n",
    "The recall (76% in weighted average) shows that our model is weak in predicting the authorship, espeically for the text from Pindar, Epicurus, Aristophanes, Aeschylus, Hesiod and Saint John and Saint Luke. For example, Saint John and Epicurus have none of their works were correctly attributed. This is probably due to the fact that they are underrepresented in the dataset. They have a small number of texts, compared to other authors such as Aristotle (Epicurus 6 vs. Aristotle 250). \n",
    "\n",
    "The precision scores (74% in weighted average) suggest that our Naive Bayes model mistakenly attribute many texts. For example, many texts are wrongly assigned to Euripides, Xenophon, Homer and Aristotle, as they have low scores in precision (0%, 58%, 68% and 73% respectively). The reason may be that they are overrpresented in the dataset. But overrepresenting is probably not the sole reason for the misattribution, as Plato, who is also overrepresented in the dataset, does not score low in precision (95%). \n",
    "\n",
    "The performance of our model is outshone by Baller's in accuracy (76% vs. 85.5%). However, we cannot compare our model with Baller's in terms of precision and recall, since the results from these metrics are not covered in the his paper.\n",
    " \n",
    "Overall, the Naive Bayes model does not perform very well in terms of precision and recall."
   ]
  },
  {
   "cell_type": "markdown",
   "id": "7cde3528-d4d9-4db4-97be-274434194469",
   "metadata": {},
   "source": [
    "#### Naive Bayes"
   ]
  },
  {
   "cell_type": "code",
   "execution_count": 20,
   "id": "678a7407-f7ce-4a15-bc3d-18921e94f3e7",
   "metadata": {},
   "outputs": [
    {
     "name": "stderr",
     "output_type": "stream",
     "text": [
      "/home/ludwig/projects/CM3060 Natural Language Proccesing/venv/lib/python3.8/site-packages/sklearn/metrics/_classification.py:1318: UndefinedMetricWarning: Precision and F-score are ill-defined and being set to 0.0 in labels with no predicted samples. Use `zero_division` parameter to control this behavior.\n",
      "  _warn_prf(average, modifier, msg_start, len(result))\n",
      "/home/ludwig/projects/CM3060 Natural Language Proccesing/venv/lib/python3.8/site-packages/sklearn/metrics/_classification.py:1318: UndefinedMetricWarning: Precision and F-score are ill-defined and being set to 0.0 in labels with no predicted samples. Use `zero_division` parameter to control this behavior.\n",
      "  _warn_prf(average, modifier, msg_start, len(result))\n",
      "/home/ludwig/projects/CM3060 Natural Language Proccesing/venv/lib/python3.8/site-packages/sklearn/metrics/_classification.py:1318: UndefinedMetricWarning: Precision and F-score are ill-defined and being set to 0.0 in labels with no predicted samples. Use `zero_division` parameter to control this behavior.\n",
      "  _warn_prf(average, modifier, msg_start, len(result))\n"
     ]
    },
    {
     "name": "stdout",
     "output_type": "stream",
     "text": [
      "                   precision    recall  f1-score   support\n",
      "\n",
      "           Pindar       0.00      0.00      0.00        19\n",
      "         Epicurus       0.00      0.00      0.00         1\n",
      "        Aeschylus       0.00      0.00      0.00        20\n",
      "        Pausanias       0.97      1.00      0.99        77\n",
      "            Plato       0.95      0.80      0.87        90\n",
      "         Xenophon       0.58      0.98      0.73        81\n",
      "        Euripides       0.68      0.86      0.76        49\n",
      "           Hesiod       0.00      0.00      0.00        11\n",
      "        Aristotle       0.73      0.99      0.84        83\n",
      "     Aristophanes       1.00      0.53      0.69        40\n",
      "            Homer       0.68      1.00      0.81        87\n",
      "       Saint John       0.00      0.00      0.00         9\n",
      "             Luke       1.00      0.42      0.59        26\n",
      "Diogenes Laërtius       1.00      0.35      0.52        49\n",
      "\n",
      "         accuracy                           0.76       642\n",
      "        macro avg       0.54      0.49      0.48       642\n",
      "     weighted avg       0.74      0.76      0.71       642\n",
      "\n"
     ]
    },
    {
     "data": {
      "image/png": "[encoded data removed]",
      "text/plain": [
       "<Figure size 432x288 with 1 Axes>"
      ]
     },
     "metadata": {
      "needs_background": "light"
     },
     "output_type": "display_data"
    }
   ],
   "source": [
    "import seaborn as sns\n",
    "import matplotlib.pyplot as plt\n",
    "from sklearn.metrics import confusion_matrix\n",
    "\n",
    "# Build the confusion matrix for the results from Naive Bayes model\n",
    "mat = confusion_matrix(test_target_data, labels)\n",
    "sns.heatmap(mat.T, square=True, annot=True, fmt='d', cbar=False,\n",
    "            xticklabels=authors, yticklabels=authors)\n",
    "plt.xlabel('true label')\n",
    "plt.ylabel('predicted label');\n",
    "\n",
    "# Print the classification report(Precision, Recall, F1-score, Accuracy)\n",
    "from sklearn.metrics import classification_report\n",
    "print(classification_report(test_target_data, labels, target_names=authors))"
   ]
  },
  {
   "cell_type": "markdown",
   "id": "a1f957bb-1edb-494d-a02e-e0b088f2872d",
   "metadata": {},
   "source": [
    "#### Random Forest Model\n",
    "The Random Forest model, however, achieves 92% accuracy in predicting authorship of texts. This result suggest that it surpasses the best model in Beller's paper in term of accurary.\n",
    "\n",
    "With a better ability to deal with inbalance dataset than Naive Bayes, the Random Forest model correctly assigns works for authors who are underrepresented in the dataset. For example, Pindar, Saint John, and Saint Luke, who have relatively small corpus, have most of their works correctly assigned (with recall 53%, 100% and 100% respectively). However, none of the texts by Epicurus and Hesiod are correctly labeled. For Epicurus, it is likely because he only has the smallest number of texts in the dataset (Epicurus 6 v.s. Pindar 45)"
   ]
  },
  {
   "cell_type": "code",
   "execution_count": 21,
   "id": "af351b97-d339-4dfa-a281-d7d6a5a07cd7",
   "metadata": {},
   "outputs": [
    {
     "name": "stderr",
     "output_type": "stream",
     "text": [
      "/home/ludwig/projects/CM3060 Natural Language Proccesing/venv/lib/python3.8/site-packages/sklearn/metrics/_classification.py:1318: UndefinedMetricWarning: Precision and F-score are ill-defined and being set to 0.0 in labels with no predicted samples. Use `zero_division` parameter to control this behavior.\n",
      "  _warn_prf(average, modifier, msg_start, len(result))\n",
      "/home/ludwig/projects/CM3060 Natural Language Proccesing/venv/lib/python3.8/site-packages/sklearn/metrics/_classification.py:1318: UndefinedMetricWarning: Precision and F-score are ill-defined and being set to 0.0 in labels with no predicted samples. Use `zero_division` parameter to control this behavior.\n",
      "  _warn_prf(average, modifier, msg_start, len(result))\n",
      "/home/ludwig/projects/CM3060 Natural Language Proccesing/venv/lib/python3.8/site-packages/sklearn/metrics/_classification.py:1318: UndefinedMetricWarning: Precision and F-score are ill-defined and being set to 0.0 in labels with no predicted samples. Use `zero_division` parameter to control this behavior.\n",
      "  _warn_prf(average, modifier, msg_start, len(result))\n"
     ]
    },
    {
     "name": "stdout",
     "output_type": "stream",
     "text": [
      "                   precision    recall  f1-score   support\n",
      "\n",
      "           Pindar       1.00      0.53      0.69        19\n",
      "         Epicurus       0.00      0.00      0.00         1\n",
      "        Aeschylus       1.00      0.45      0.62        20\n",
      "        Pausanias       0.99      1.00      0.99        77\n",
      "            Plato       0.99      0.91      0.95        90\n",
      "         Xenophon       0.96      1.00      0.98        81\n",
      "        Euripides       0.70      0.98      0.81        49\n",
      "           Hesiod       0.00      0.00      0.00        11\n",
      "        Aristotle       0.86      0.99      0.92        83\n",
      "     Aristophanes       1.00      0.93      0.96        40\n",
      "            Homer       0.85      0.99      0.91        87\n",
      "       Saint John       1.00      1.00      1.00         9\n",
      "             Luke       1.00      1.00      1.00        26\n",
      "Diogenes Laërtius       0.97      0.80      0.88        49\n",
      "\n",
      "         accuracy                           0.91       642\n",
      "        macro avg       0.81      0.75      0.77       642\n",
      "     weighted avg       0.91      0.91      0.90       642\n",
      "\n"
     ]
    },
    {
     "data": {
      "image/png": "[encoded data removed]",
      "text/plain": [
       "<Figure size 432x288 with 1 Axes>"
      ]
     },
     "metadata": {
      "needs_background": "light"
     },
     "output_type": "display_data"
    }
   ],
   "source": [
    "import seaborn as sns\n",
    "import matplotlib.pyplot as plt\n",
    "from sklearn.metrics import confusion_matrix\n",
    "\n",
    "# Build the confusion matrix for the results from Random Forest model\n",
    "mat = confusion_matrix(test_target_data, random_forest_labels)\n",
    "sns.heatmap(mat.T, square=True, annot=True, fmt='d', cbar=False,\n",
    "            xticklabels=authors, yticklabels=authors)\n",
    "plt.xlabel('true label')\n",
    "plt.ylabel('predicted label');\n",
    "\n",
    "# Print the classification report(Precision, Recall, F1-score, Accuracy)\n",
    "from sklearn.metrics import classification_report\n",
    "print(classification_report(test_target_data, random_forest_labels, target_names=authors))"
   ]
  },
  {
   "cell_type": "markdown",
   "id": "01c901e2-d44d-407c-aebe-e778bbc475d6",
   "metadata": {},
   "source": [
    "#### Dicussion <a name='discussion_link'></a>\n",
    "\n",
    "Although our best model archieve high accuracy in authorship prediction, it fails for some particular authors. For instance, Aeschylus scores low recall in both Random Forest and Naive Bayes models. This means that many, if not all, works of undebated authorship from Aeschylus are misattributed to others. This is evidenced in the confusion matrices. In other words, our models are inadequate at predicting the authorship for works of Aeschylus and therefore they are not capable to give solid answer to the authorship question about Prometheus Bound, and more generally, all works about Aeschylus.\n",
    "\n",
    "However, even in the case of misattribution, both our models preserves the ability to recognize texts from different topics. For example, works wrongly labeled as Aristotle are mostly concerned with philosophy. Most of them are from Plato, Epicurus, who are famous Greek philosophers, or Diogenes Laërtius, a biographer of the Greek philosophers. Similarly, most of mislabeled texts from Aeschylus, a great Greek play writer, were assigned to Euripides, another Greek play writer. "
   ]
  },
  {
   "cell_type": "markdown",
   "id": "82dbbaf6-ddef-41a3-9ce9-0e02985df3cc",
   "metadata": {},
   "source": [
    "#### Future Work <a name='future_work_link'></a>\n",
    "The next step for the authorship attributon project includes using feature selection that differs from TF-IDF. For example, in Beller's paper a combination of ten lexical features including words per line, syllables per word, prepositions, particles, and hapax legomena are used. Moreover, we will explore the vocabulary-richness method and its combination of the occurrence-based method. Finally, we will experiment with other machine learning models such as Support Vector Machine, and neural networks such as Long-Short-Term-Memory (LSTM) networks."
   ]
  },
  {
   "cell_type": "markdown",
   "id": "919a6f08-6093-437d-a461-08bec088fc4d",
   "metadata": {
    "tags": []
   },
   "source": [
    "#### Summary <a name='summary_link'></a>\n",
    "In this study, we experiment with two machine learning models, Naive Bayes and Random Forests, for authorship attribution of Greek classics. Our best model - Random Forestes - achieves 92% accuracy in authorship prediction. Moreover, we use our models to predict the authorship of contested works. Our models concur with the traditional view that Homeric Hymns should be attributed to Homer, while the prediction for Promtheus Bound agrees with the authenticity suspicion by the recent research in computational linguistics."
   ]
  },
  {
   "cell_type": "markdown",
   "id": "4cc47107-718a-4ea2-a3cc-cc93bbbda2d7",
   "metadata": {
    "tags": []
   },
   "source": [
    "## Reference <a name='reference'> </a>\n",
    "Britannica, T. Editors of Encyclopaedia (2008). Homeric Hymns. Encyclopedia Britannica. https://www.britannica.com/art/Homeric-Hymns\n",
    "\n",
    "\n",
    "Britannica, T. Editors of Encyclopaedia (2011). Prometheus Bound. Encyclopedia Britannica. https://www.britannica.com/topic/Prometheus-Bound-play-by-Aeschylus\n",
    "\n",
    "Beller, S.D., & Spicer, J. (2014). Attribution of Contested and Anonymous Ancient Greek Works.\n",
    "\n",
    "Stamatatos, E., Fakotakis, N., & Kokkinakis, G.K. (2001). Computer-Based Authorship Attribution Without Lexical Measures. Computers and the Humanities, 35, 193-214.\n",
    "\n",
    "Koppel, M., Schler, J., & Argamon, S.E. (2009). Computational methods in authorship attribution. J. Assoc. Inf. Sci. Technol., 60, 9-26.\n",
    "\n",
    "### Dataset Source <a name='data_source'> </a>\n",
    "\n",
    "Pindar. (2019, May 4). In Wikisource . Retrieved 04:36, June 24, 2022, from https://en.wikisource.org/w/index.php?title=Author:Pindar&oldid=9235755 \n",
    "\n",
    "Luke the Evangelist. (2021, July 25). In Wikisource . Retrieved 07:02, June 24, 2022, from https://en.wikisource.org/w/index.php?title=Author:Luke_the_Evangelist&oldid=11531618\n",
    "\n",
    "Diogenes Laërtius. (2021, November 9). In Wikisource . Retrieved 07:02, June 24, 2022, from https://en.wikisource.org/w/index.php?title=Author:Diogenes_La%C3%ABrtius&oldid=11867921\n",
    "\n",
    "John the Evangelist. (2021, September 23). In Wikisource . Retrieved 07:02, June 24, 2022, from https://en.wikisource.org/w/index.php?title=Author:John_the_Evangelist&oldid=11712410\n",
    "\n",
    "Homer. (2022, April 30). In Wikisource . Retrieved 07:01, June 24, 2022, from https://en.wikisource.org/w/index.php?title=Author:Homer&oldid=12307141 \n",
    "\n",
    "Hesiod. (2022, January 16). In Wikisource . Retrieved 07:01, June 24, 2022, from https://en.wikisource.org/w/index.php?title=Author:Hesiod&oldid=12064456\n",
    "\n",
    "Euripides. (2022, February 17). In Wikisource . Retrieved 07:01, June 24, 2022, from https://en.wikisource.org/w/index.php?title=Author:Euripides&oldid=12155920\n",
    "\n",
    "Xenophon. (2022, March 20). In Wikisource . Retrieved 07:00, June 24, 2022, from https://en.wikisource.org/w/index.php?title=Author:Xenophon&oldid=12230165\n",
    "\n",
    "Pausanias. (2019, February 8). In Wikisource . Retrieved 07:00, June 24, 2022, from https://en.wikisource.org/w/index.php?title=Author:Pausanias&oldid=9094697\n",
    "\n",
    "Epicurus. (2018, September 25). In Wikisource . Retrieved 07:00, June 24, 2022, from https://en.wikisource.org/w/index.php?title=Author:Epicurus&oldid=8835306\n",
    "\n",
    "Meno Μένων by Plato. In Gutenberg . Retrieved 07:00, June 24, 2022, from https://www.gutenberg.org/ebooks/34881\n",
    "\n",
    "\n",
    "Απολογία Σωκράτους Socrates' Apology, by Plato and Alexandros Moraitides. In Gutenberg.  Retrieved 07:00, June 24, 2022, from https://www.gutenberg.org/ebooks/39462\n",
    "\n",
    "Πολιτεία, Τόμος 4 Republic Volume 4 (of 4), by Plato. In Gutenberg . Retrieved 07:00, June 24, 2022, from https://www.gutenberg.org/ebooks/39530\n",
    "\n",
    "Όρνιθες The Birds, by Aristophanes. In Gutenberg . Retrieved 07:00, June 24, 2022, from \n",
    "https://www.gutenberg.org/ebooks/27315\n",
    "\n",
    "Lysistrata Λυσιστράτη by Aristophanes. In Gutenberg . Retrieved 07:00, June 24, 2022, from \n",
    "https://www.gutenberg.org/ebooks/17814\n",
    "\n",
    "Τίμαιος, Τόμος Timaeus, by Plato. In Gutenberg . Retrieved 07:00, June 24, 2022, from \n",
    "https://www.gutenberg.org/ebooks/35453\n",
    "\n",
    "Hippias Ελάσσων, by Plato. In Gutenberg . Retrieved 07:00, June 24, 2022, from \n",
    "https://www.gutenberg.org/ebooks/34880\n",
    "\n",
    "Ηθικά Νικομάχεια, Τόμος Πρώτος Nicomachean Ethics, Volume 1, by Aristotle. In Gutenberg . Retrieved 07:00, June 24, 2022, from \n",
    "https://www.gutenberg.org/ebooks/28626\n",
    "\n",
    "Αθηναίων Πολιτεία The Constitution of the Athenians, by Aristotle. In Gutenberg . Retrieved 07:00, June 24, 2022, from \n",
    "https://www.gutenberg.org/ebooks/39963\n",
    "\n",
    "Περί Ψυχής On the Soul, by Aristoteles. In Gutenberg . Retrieved 07:00, June 24, 2022, from \n",
    "https://www.gutenberg.org/ebooks/27816"
   ]
  }
 ],
 "metadata": {
  "kernelspec": {
   "display_name": "digital_literacy_eric",
   "language": "python",
   "name": "digital_literacy_eric"
  },
  "language_info": {
   "codemirror_mode": {
    "name": "ipython",
    "version": 3
   },
   "file_extension": ".py",
   "mimetype": "text/x-python",
   "name": "python",
   "nbconvert_exporter": "python",
   "pygments_lexer": "ipython3",
   "version": "3.9.5"
  }
 },
 "nbformat": 4,
 "nbformat_minor": 5
}
