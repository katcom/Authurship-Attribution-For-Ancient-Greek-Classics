{
 "cells": [
  {
   "cell_type": "markdown",
   "id": "8869f1ed-6d58-42a4-a915-672327a6833f",
   "metadata": {},
   "source": [
    "# Introduction\n",
    "Authorship attribution"
   ]
  },
  {
   "cell_type": "code",
   "execution_count": 65,
   "id": "3fba4f2b-686b-43a5-8cd6-fb93392f13d2",
   "metadata": {},
   "outputs": [],
   "source": [
    "import os\n",
    "import textwrap\n",
    "import cltk"
   ]
  },
  {
   "cell_type": "code",
   "execution_count": 66,
   "id": "9be7769d-3976-4a60-af7d-c77336d805e3",
   "metadata": {},
   "outputs": [],
   "source": [
    "#pip install -i https://pypi.tuna.tsinghua.edu.cn/simple cltk\n"
   ]
  },
  {
   "cell_type": "code",
   "execution_count": 67,
   "id": "d69bf322-ea80-4c0f-a302-be9d49bd3597",
   "metadata": {},
   "outputs": [],
   "source": [
    "os.listdir('./raw text')\n",
    "def get_corpus_dict_from_dir(path):\n",
    "    files = os.listdir('./raw text')\n",
    "    corpus_dict = {}\n",
    "    for file in files:\n",
    "        if '.txt' in file:\n",
    "            author = file[:file.find('-')-1].strip()\n",
    "            with open(path+'/'+file,'r',encoding='utf-8') as f:\n",
    "                if corpus_dict.get(author) is None:\n",
    "                    corpus_dict[author] = []\n",
    "                corpus_dict[author].append(f.read())\n",
    "    return corpus_dict"
   ]
  },
  {
   "cell_type": "code",
   "execution_count": 68,
   "id": "36554d11-6e89-4fd6-87f7-0c0c0e73d42e",
   "metadata": {},
   "outputs": [],
   "source": [
    "corpus_dict = get_corpus_dict_from_dir('./raw text')"
   ]
  },
  {
   "cell_type": "code",
   "execution_count": null,
   "id": "07dda2d0-0b7f-496f-9b82-67fd0cf3276d",
   "metadata": {},
   "outputs": [],
   "source": []
  },
  {
   "cell_type": "code",
   "execution_count": 69,
   "id": "de76f05f-0eac-4695-b598-c9814b628f43",
   "metadata": {},
   "outputs": [
    {
     "name": "stdout",
     "output_type": "stream",
     "text": [
      "Epicurus  has  2  text\n",
      "Pausanias  has  1  text\n",
      "Plato  has  8  text\n",
      "Xenophon  has  14  text\n",
      "Aristotle  has  8  text\n",
      "Aristophanes  has  8  text\n",
      "Saint John  has  4  text\n",
      "Luke  has  2  text\n",
      "Diogenes Laërtius  has  1  text\n"
     ]
    }
   ],
   "source": [
    "for author,docs in corpus_dict.items():\n",
    "    print(author, ' has ', len(docs),' text')"
   ]
  },
  {
   "cell_type": "code",
   "execution_count": 70,
   "id": "ed0d4485-1e39-4a8f-9055-c07d4382e29e",
   "metadata": {
    "tags": []
   },
   "outputs": [
    {
     "data": {
      "text/plain": [
       "9"
      ]
     },
     "execution_count": 70,
     "metadata": {},
     "output_type": "execute_result"
    }
   ],
   "source": [
    "len(corpus_dict.keys())"
   ]
  },
  {
   "cell_type": "markdown",
   "id": "71b3a60f-9238-40d0-a357-bd3810f7e817",
   "metadata": {},
   "source": [
    "# II. Implementation"
   ]
  },
  {
   "cell_type": "markdown",
   "id": "de163bc7-7972-414a-856f-3b3f47b13f8a",
   "metadata": {},
   "source": [
    "## 5. Preprocessing"
   ]
  },
  {
   "cell_type": "markdown",
   "id": "87880d4d-807b-4786-915e-73fe49eada4a",
   "metadata": {},
   "source": [
    "### Stopwords Removal"
   ]
  },
  {
   "cell_type": "code",
   "execution_count": 71,
   "id": "b2ef8d42-d6c4-4f43-bac9-cb62412e2a02",
   "metadata": {},
   "outputs": [],
   "source": [
    "import csv\n",
    "with open('stopwords.csv','w') as f:\n",
    "    writer = csv.writer(f, delimiter=',',\n",
    "                    quotechar='|', quoting=csv.QUOTE_MINIMAL)\n",
    "    writer.writerow(['stopwords'])\n",
    "    for word in grc_stoplist:\n",
    "        writer.writerow([word])"
   ]
  },
  {
   "cell_type": "code",
   "execution_count": 72,
   "id": "577cd246-89bb-4b43-bda0-29946bbe4376",
   "metadata": {
    "tags": []
   },
   "outputs": [
    {
     "data": {
      "text/plain": [
       "['αὐτὸς', 'αὐτός', 'γε', 'γὰρ', 'γάρ', \"δ'\", 'δαὶ', 'δαὶς', 'δαί', 'δαίς']"
      ]
     },
     "execution_count": 72,
     "metadata": {},
     "output_type": "execute_result"
    }
   ],
   "source": [
    "import csv\n",
    "grc_stoplist=[]\n",
    "with open('stopwords.csv','r') as f:\n",
    "    reader = csv.reader(f, delimiter=',',\n",
    "                    quotechar='|', quoting=csv.QUOTE_MINIMAL)\n",
    "    for line in reader:\n",
    "        if line[0] == 'stopwords':\n",
    "            continue;\n",
    "        grc_stoplist.append(line[0])\n",
    "grc_stoplist[:10]"
   ]
  },
  {
   "cell_type": "code",
   "execution_count": 73,
   "id": "242d5359-0770-4e73-b809-1ba1f2384ae0",
   "metadata": {
    "tags": []
   },
   "outputs": [],
   "source": [
    "# remove stopwords\n",
    "# grc_stoplist = cltk.stops.grc.STOPS\n",
    "# grc_stoplist.extend(['να','και','το','τα','θα','τον','που','την','μου','τη','από','για',\n",
    "#                     'κι','με','εις','του','είναι','των','της','ἦν','τους','τοῦτο','ταῦτα','ἐγώ',\n",
    "#                     'δ\\'','δ᾽','δ’','σου','ἀλλ᾽','ἀλλ’','ἀλλά','ότι','δε','ο','η'])\n"
   ]
  },
  {
   "cell_type": "code",
   "execution_count": null,
   "id": "359a97d3-996e-49e5-98d4-2b602a1af5e2",
   "metadata": {},
   "outputs": [],
   "source": []
  },
  {
   "cell_type": "code",
   "execution_count": 74,
   "id": "80d5d6a7-80eb-4722-9398-8b942cc63181",
   "metadata": {
    "tags": []
   },
   "outputs": [],
   "source": [
    "\n",
    "# import nltk\n",
    "# import textwrap\n",
    "# corpus_dict = get_corpus_dict_from_dir('./raw text')\n",
    "\n",
    "# import re\n",
    "# for author in corpus_dict.keys():\n",
    "#     for i in range(len(corpus_dict[author])):\n",
    "#         corpus_dict[author][i] = re.sub('[0-9]','',corpus_dict[author][i])\n",
    "#         corpus_dict[author][i] = re.sub(\"[\\\\[\\\\]!._,@?\\\\\\:;\\`’\\\\(\\\\)\\\\%]\",'',corpus_dict[author][i])\n",
    "#         corpus_dict[author][i] = re.sub(\"[\\\\n]\",' ',corpus_dict[author][i])\n",
    "        \n",
    "# #textwrap.wrap(cdict['Aristotle'][0], 5000)[0]\n",
    "# corpus = {}\n",
    "# chunk_size = 5000\n",
    "\n",
    "# for author,docs in corpus_dict.items():\n",
    "#     for doc in docs:\n",
    "#         if corpus.get(author) is None:\n",
    "#             corpus[author] = []\n",
    "#         corpus[author] += textwrap.wrap(doc,chunk_size)\n",
    "# aristophanes_corpus_string = ''\n",
    "# for doc in corpus['Aristophanes']:\n",
    "#     aristophanes_corpus_string+=doc\n",
    "# aristophanes_words = greek_tokenizer(aristophanes_corpus_string)\n",
    "# clean_aristophanes_words = [word for word in aristophanes_words if word not in grc_stoplist]\n",
    "# aristophanes_freq_dist = nltk.probability.FreqDist(clean_aristophanes_words)\n",
    "# aristophanes_freq_dist.most_common(50)"
   ]
  },
  {
   "cell_type": "markdown",
   "id": "cc1de61d-f5d0-4e21-aea2-d7040faeae53",
   "metadata": {},
   "source": [
    "### Tokenizer"
   ]
  },
  {
   "cell_type": "code",
   "execution_count": 75,
   "id": "af32867b-ccc7-440c-8648-f67f5942e36a",
   "metadata": {},
   "outputs": [],
   "source": [
    "import nltk\n",
    "def greek_tokenizer(text):\n",
    "    processed_text = text.replace('ἀλλ’','tk_1')\n",
    "    processed_text = processed_text.replace('ἀλλ\\'','tk_1')\n",
    "    \n",
    "    processed_text = processed_text.replace('δ’','tk_2')\n",
    "    processed_text = processed_text.replace('δ\\'','tk_2')\n",
    "\n",
    "    words = nltk.word_tokenize(processed_text,language='greek')\n",
    "    for i in range(len(words)):\n",
    "        if words[i] == 'tk_1':\n",
    "            words[i] ='ἀλλ’'\n",
    "            continue\n",
    "        if words[i] == 'tk_2':\n",
    "            words[i] ='δ’'\n",
    "            continue\n",
    "    return words"
   ]
  },
  {
   "cell_type": "code",
   "execution_count": null,
   "id": "b672cae1-6442-4401-8ab2-065d96864cfa",
   "metadata": {},
   "outputs": [],
   "source": []
  },
  {
   "cell_type": "code",
   "execution_count": 76,
   "id": "d390786d-b4d1-49de-b306-d8ee44c4f436",
   "metadata": {
    "tags": []
   },
   "outputs": [],
   "source": [
    "# import re\n",
    "# for author in corpus_dict.keys():\n",
    "#     for i in range(len(corpus_dict[author])):\n",
    "#         corpus_dict[author][i] = re.sub('[0-9]','',corpus_dict[author][i])\n",
    "#         corpus_dict[author][i] = re.sub(\"[\\\\[\\\\]!._,'@?\\\\\\:;\\`’\\\\(\\\\)\\\\%]\",'',corpus_dict[author][i])\n",
    "#         corpus_dict[author][i] = re.sub(\"[\\\\n]\",' ',corpus_dict[author][i])\n",
    "import re\n",
    "for author in corpus_dict.keys():\n",
    "    for i in range(len(corpus_dict[author])):\n",
    "        corpus_dict[author][i] = re.sub('[0-9]','',corpus_dict[author][i])\n",
    "        corpus_dict[author][i] = re.sub(\"[\\\\[\\\\]!._,'@?\\\\\\:;\\`’\\\\(\\\\)\\\\%\\\\—]\",'',corpus_dict[author][i])\n",
    "        corpus_dict[author][i] = re.sub(\"[\\\\n]\",' ',corpus_dict[author][i])"
   ]
  },
  {
   "cell_type": "code",
   "execution_count": 77,
   "id": "46b60cdf-f21a-45e4-aa8f-369175b86663",
   "metadata": {},
   "outputs": [],
   "source": [
    "for author in corpus_dict.keys():\n",
    "    for i in range(len(corpus_dict[author])):\n",
    "        corpus_dict[author][i] = corpus_dict[author][i].lower()"
   ]
  },
  {
   "cell_type": "code",
   "execution_count": 78,
   "id": "f08347ab-edd9-4f58-ad68-ffae2effcb37",
   "metadata": {},
   "outputs": [],
   "source": [
    "import textwrap\n",
    "#textwrap.wrap(cdict['Aristotle'][0], 5000)[0]\n",
    "corpus = {}\n",
    "chunk_size = 5000\n",
    "\n",
    "for author,docs in corpus_dict.items():\n",
    "    for doc in docs:\n",
    "        if corpus.get(author) is None:\n",
    "            corpus[author] = []\n",
    "        corpus[author] += textwrap.wrap(doc,chunk_size)"
   ]
  },
  {
   "cell_type": "code",
   "execution_count": 79,
   "id": "9d615982-2b8c-4712-9e1c-07ae747eb769",
   "metadata": {},
   "outputs": [
    {
     "name": "stdout",
     "output_type": "stream",
     "text": [
      "Epicurus  has  4  text\n",
      "Pausanias  has  226  text\n",
      "Plato  has  380  text\n",
      "Xenophon  has  395  text\n",
      "Aristotle  has  320  text\n",
      "Aristophanes  has  113  text\n",
      "Saint John  has  23  text\n",
      "Luke  has  48  text\n",
      "Diogenes Laërtius  has  140  text\n"
     ]
    }
   ],
   "source": [
    "for author,docs in corpus.items():\n",
    "    print(author, ' has ', len(docs),' text')"
   ]
  },
  {
   "cell_type": "code",
   "execution_count": null,
   "id": "e2a37d29-d413-4348-bd71-1319091cce0a",
   "metadata": {},
   "outputs": [],
   "source": []
  },
  {
   "cell_type": "markdown",
   "id": "84a91c2f-cab2-4a9d-aa62-2adc2164898a",
   "metadata": {},
   "source": [
    "### Undersampling"
   ]
  },
  {
   "cell_type": "code",
   "execution_count": 103,
   "id": "8da5eb5d-c70d-403e-9ed8-236f4b6423b6",
   "metadata": {},
   "outputs": [],
   "source": [
    "## Undersampling\n",
    "import random\n",
    "\n",
    "## Remove some samples from Plato's corpus\n",
    "plato_corpus = corpus['Plato']\n",
    "random.seed(1)\n",
    "random.shuffle(plato_corpus)\n",
    "corpus['Plato'] = plato_corpus[:250]\n",
    "\n",
    "# Remove some from Aristotle's corpus\n",
    "aristotle_corpus = corpus['Aristotle']\n",
    "random.shuffle(aristotle_corpus)\n",
    "corpus['Aristotle'] = aristotle_corpus[:250]\n",
    "\n",
    "# Remove some from Aristotle's corpus\n",
    "xenophon_corpus = corpus['Xenophon']\n",
    "random.shuffle(xenophon_corpus)\n",
    "corpus['Xenophon'] = xenophon_corpus[:250]"
   ]
  },
  {
   "cell_type": "code",
   "execution_count": 104,
   "id": "74ec3a05-313f-47be-86da-5fb05e17ce42",
   "metadata": {},
   "outputs": [
    {
     "name": "stdout",
     "output_type": "stream",
     "text": [
      "Epicurus  has  4  text\n",
      "Pausanias  has  226  text\n",
      "Plato  has  250  text\n",
      "Xenophon  has  250  text\n",
      "Aristotle  has  250  text\n",
      "Aristophanes  has  113  text\n",
      "Saint John  has  23  text\n",
      "Luke  has  48  text\n",
      "Diogenes Laërtius  has  140  text\n"
     ]
    }
   ],
   "source": [
    "for author,docs in corpus.items():\n",
    "    print(author, ' has ', len(docs),' text')"
   ]
  },
  {
   "cell_type": "markdown",
   "id": "77c050c1-8db7-47ab-bb79-b18cc389e21b",
   "metadata": {},
   "source": [
    "#### Labels for the target data"
   ]
  },
  {
   "cell_type": "code",
   "execution_count": 82,
   "id": "66b41f81-0250-43fe-bedd-20849e797ef2",
   "metadata": {},
   "outputs": [
    {
     "data": {
      "text/plain": [
       "['Epicurus',\n",
       " 'Pausanias',\n",
       " 'Plato',\n",
       " 'Xenophon',\n",
       " 'Aristotle',\n",
       " 'Aristophanes',\n",
       " 'Saint John',\n",
       " 'Luke',\n",
       " 'Diogenes Laërtius']"
      ]
     },
     "execution_count": 82,
     "metadata": {},
     "output_type": "execute_result"
    }
   ],
   "source": [
    "def get_author_by_index(authors,index):\n",
    "    return authors[index]\n",
    "\n",
    "\n",
    "authors= list(corpus.keys())\n",
    "authors"
   ]
  },
  {
   "cell_type": "code",
   "execution_count": null,
   "id": "031bcb14-7fdd-4188-bf8c-bb4328fdb4a4",
   "metadata": {},
   "outputs": [],
   "source": []
  },
  {
   "cell_type": "markdown",
   "id": "cb2f5719-b404-48de-adad-70a2cbe9ee83",
   "metadata": {},
   "source": [
    "### Training Data and Target Data"
   ]
  },
  {
   "cell_type": "code",
   "execution_count": 110,
   "id": "89f8c65a-ce63-431f-b8ad-dba38dc9187f",
   "metadata": {},
   "outputs": [
    {
     "name": "stdout",
     "output_type": "stream",
     "text": [
      "There are  1304  data\n"
     ]
    }
   ],
   "source": [
    "all_train_data = []\n",
    "all_target_data = []\n",
    "for author,docs in corpus.items():\n",
    "    for doc in docs:\n",
    "        all_train_data.append(doc)\n",
    "        all_target_data.append(authors.index(author))\n",
    "print('There are ', len(all_train_data),' data')"
   ]
  },
  {
   "cell_type": "code",
   "execution_count": 111,
   "id": "95e7af99-5815-49b0-90a8-4f4007696d43",
   "metadata": {},
   "outputs": [],
   "source": [
    "import re\n",
    "## remove numbers\n",
    "for i in range(len(all_train_data)):\n",
    "    all_train_data[i] = re.sub('[0-9]','',all_train_data[i])\n",
    "for i in range(len(all_train_data)):\n",
    "    all_train_data[i] = re.sub(\"[\\\\[\\\\]!._,'@?\\\\\\]\",'',all_train_data[i])\n"
   ]
  },
  {
   "cell_type": "code",
   "execution_count": 121,
   "id": "30d63c48-0bfa-4ccd-a069-486f3be65bfc",
   "metadata": {
    "tags": []
   },
   "outputs": [],
   "source": [
    "from sklearn.utils import shuffle\n",
    "all_train_data, all_target_data = shuffle(all_train_data, all_target_data, random_state=3)"
   ]
  },
  {
   "cell_type": "code",
   "execution_count": 122,
   "id": "53d7f8ff-4303-4e0d-90bb-1f1144830001",
   "metadata": {
    "tags": []
   },
   "outputs": [],
   "source": [
    "train_data_boundary = int(len(all_train_data)/3 *2)\n",
    "train_data = all_train_data[:train_data_boundary]\n",
    "target_data = all_target_data[:train_data_boundary]\n",
    "test_data = all_train_data[train_data_boundary:]\n",
    "test_target_data=all_target_data[train_data_boundary:]"
   ]
  },
  {
   "cell_type": "code",
   "execution_count": 87,
   "id": "985612c3-2995-4424-8017-10786c7a3b74",
   "metadata": {},
   "outputs": [
    {
     "data": {
      "text/plain": [
       "1449"
      ]
     },
     "execution_count": 87,
     "metadata": {},
     "output_type": "execute_result"
    }
   ],
   "source": [
    "len(all_train_data)"
   ]
  },
  {
   "cell_type": "code",
   "execution_count": null,
   "id": "28b54c85-2f13-4fd1-9648-bde4b1e1bdfd",
   "metadata": {
    "tags": []
   },
   "outputs": [],
   "source": []
  },
  {
   "cell_type": "code",
   "execution_count": 114,
   "id": "c2a611e8-4be3-4644-905c-2b54949d7065",
   "metadata": {},
   "outputs": [
    {
     "name": "stdout",
     "output_type": "stream",
     "text": [
      "target:  3\n",
      "This work is attributed to  3 Xenophon\n"
     ]
    }
   ],
   "source": [
    "print('target: ',target_data[0])\n",
    "print('This work is attributed to ',target_data[0],get_author_by_index(authors,target_data[0]))"
   ]
  },
  {
   "cell_type": "code",
   "execution_count": null,
   "id": "d01e0721-32eb-4eac-bbd7-518a1ca7d24c",
   "metadata": {},
   "outputs": [],
   "source": []
  },
  {
   "cell_type": "code",
   "execution_count": 89,
   "id": "9260157a-79ef-4d0b-8afe-502fb8c91323",
   "metadata": {},
   "outputs": [
    {
     "data": {
      "text/plain": [
       "483"
      ]
     },
     "execution_count": 89,
     "metadata": {},
     "output_type": "execute_result"
    }
   ],
   "source": [
    "len(test_data)"
   ]
  },
  {
   "cell_type": "markdown",
   "id": "703d309c-9085-42cf-bc70-c86c65cd454f",
   "metadata": {},
   "source": [
    "## 7. Classification approach"
   ]
  },
  {
   "cell_type": "code",
   "execution_count": null,
   "id": "e90cd69d-b77c-42c7-85b9-fdd72b7ca41b",
   "metadata": {},
   "outputs": [],
   "source": []
  },
  {
   "cell_type": "code",
   "execution_count": 90,
   "id": "b70ea973-c99e-4db5-9288-603fd0c63bc0",
   "metadata": {},
   "outputs": [
    {
     "data": {
      "text/plain": [
       "TfidfVectorizer(stop_words=['αὐτὸς', 'αὐτός', 'γε', 'γὰρ', 'γάρ', \"δ'\", 'δαὶ',\n",
       "                            'δαὶς', 'δαί', 'δαίς', 'διὰ', 'διά', 'δὲ', 'δέ',\n",
       "                            'δὴ', 'δή', 'εἰ', 'εἰμὶ', 'εἰμί', 'εἰς', 'εἴμι',\n",
       "                            'κατὰ', 'κατά', 'καὶ', 'καί', 'μετὰ', 'μετά', 'μὲν',\n",
       "                            'μέν', 'μὴ', ...],\n",
       "                tokenizer=<function greek_tokenizer at 0x7f23c1723ca0>)"
      ]
     },
     "execution_count": 90,
     "metadata": {},
     "output_type": "execute_result"
    }
   ],
   "source": [
    "from sklearn.feature_extraction.text import TfidfVectorizer\n",
    "\n",
    "TfidfVectorizer(tokenizer=greek_tokenizer,stop_words=grc_stoplist)"
   ]
  },
  {
   "cell_type": "code",
   "execution_count": 91,
   "id": "d168d57a-a2d0-4a18-a05d-b63af80769ee",
   "metadata": {},
   "outputs": [],
   "source": [
    "from sklearn.feature_extraction.text import TfidfVectorizer\n",
    "from sklearn.naive_bayes import MultinomialNB\n",
    "from sklearn.pipeline import make_pipeline\n",
    "\n",
    "model = make_pipeline(TfidfVectorizer(tokenizer=greek_tokenizer,stop_words=grc_stoplist), MultinomialNB())\n"
   ]
  },
  {
   "cell_type": "code",
   "execution_count": null,
   "id": "72111812-a18d-44b6-8d6b-281439e66a05",
   "metadata": {},
   "outputs": [],
   "source": []
  },
  {
   "cell_type": "code",
   "execution_count": 123,
   "id": "3b983ef7-9328-4922-af22-70dee4dd7618",
   "metadata": {},
   "outputs": [],
   "source": [
    "model.fit(train_data, target_data)\n",
    "labels = model.predict(test_data)"
   ]
  },
  {
   "cell_type": "markdown",
   "id": "80b8c11d-ff8b-45da-b5e3-333ec7d3eb13",
   "metadata": {},
   "source": [
    "## Performance of the model"
   ]
  },
  {
   "cell_type": "code",
   "execution_count": 124,
   "id": "678a7407-f7ce-4a15-bc3d-18921e94f3e7",
   "metadata": {},
   "outputs": [
    {
     "data": {
      "image/png": "[encoded data removed]",
      "text/plain": [
       "<Figure size 432x288 with 1 Axes>"
      ]
     },
     "metadata": {
      "needs_background": "light"
     },
     "output_type": "display_data"
    }
   ],
   "source": [
    "import seaborn as sns\n",
    "import matplotlib.pyplot as plt\n",
    "from sklearn.metrics import confusion_matrix\n",
    "mat = confusion_matrix(test_target_data, labels)\n",
    "sns.heatmap(mat.T, square=True, annot=True, fmt='d', cbar=False,\n",
    "            xticklabels=authors, yticklabels=authors)\n",
    "plt.xlabel('true label')\n",
    "plt.ylabel('predicted label');"
   ]
  },
  {
   "cell_type": "code",
   "execution_count": 102,
   "id": "9c4951e0-69a5-4990-a6ff-d469316d0c23",
   "metadata": {},
   "outputs": [
    {
     "name": "stdout",
     "output_type": "stream",
     "text": [
      "                   precision    recall  f1-score   support\n",
      "\n",
      "         Epicurus       0.00      0.00      0.00         3\n",
      "        Pausanias       1.00      0.99      0.99        71\n",
      "            Plato       1.00      0.66      0.80        89\n",
      "         Xenophon       0.52      1.00      0.68       136\n",
      "        Aristotle       0.90      0.68      0.78        92\n",
      "     Aristophanes       1.00      0.29      0.45        34\n",
      "       Saint John       0.00      0.00      0.00         6\n",
      "             Luke       0.00      0.00      0.00        10\n",
      "Diogenes Laërtius       1.00      0.29      0.44        42\n",
      "\n",
      "         accuracy                           0.72       483\n",
      "        macro avg       0.60      0.43      0.46       483\n",
      "     weighted avg       0.81      0.72      0.70       483\n",
      "\n"
     ]
    },
    {
     "name": "stderr",
     "output_type": "stream",
     "text": [
      "/home/ludwig/projects/CM3060 Natural Language Proccesing/venv/lib/python3.8/site-packages/sklearn/metrics/_classification.py:1318: UndefinedMetricWarning: Precision and F-score are ill-defined and being set to 0.0 in labels with no predicted samples. Use `zero_division` parameter to control this behavior.\n",
      "  _warn_prf(average, modifier, msg_start, len(result))\n",
      "/home/ludwig/projects/CM3060 Natural Language Proccesing/venv/lib/python3.8/site-packages/sklearn/metrics/_classification.py:1318: UndefinedMetricWarning: Precision and F-score are ill-defined and being set to 0.0 in labels with no predicted samples. Use `zero_division` parameter to control this behavior.\n",
      "  _warn_prf(average, modifier, msg_start, len(result))\n",
      "/home/ludwig/projects/CM3060 Natural Language Proccesing/venv/lib/python3.8/site-packages/sklearn/metrics/_classification.py:1318: UndefinedMetricWarning: Precision and F-score are ill-defined and being set to 0.0 in labels with no predicted samples. Use `zero_division` parameter to control this behavior.\n",
      "  _warn_prf(average, modifier, msg_start, len(result))\n"
     ]
    }
   ],
   "source": [
    "from sklearn.metrics import classification_report\n",
    "print(classification_report(test_target_data, labels, target_names=authors))"
   ]
  },
  {
   "cell_type": "code",
   "execution_count": 95,
   "id": "b3ee00e6-943c-4766-b438-79dc7f231f26",
   "metadata": {},
   "outputs": [
    {
     "data": {
      "text/plain": [
       "6"
      ]
     },
     "execution_count": 95,
     "metadata": {},
     "output_type": "execute_result"
    }
   ],
   "source": [
    "len(set(labels))\n",
    "a"
   ]
  },
  {
   "cell_type": "code",
   "execution_count": 96,
   "id": "495b3b05-e792-491b-a076-2a719e16619a",
   "metadata": {
    "tags": []
   },
   "outputs": [
    {
     "data": {
      "text/plain": [
       "['Epicurus',\n",
       " 'Pausanias',\n",
       " 'Plato',\n",
       " 'Xenophon',\n",
       " 'Aristotle',\n",
       " 'Aristophanes',\n",
       " 'Saint John',\n",
       " 'Luke',\n",
       " 'Diogenes Laërtius']"
      ]
     },
     "execution_count": 96,
     "metadata": {},
     "output_type": "execute_result"
    }
   ],
   "source": [
    "authors"
   ]
  },
  {
   "cell_type": "code",
   "execution_count": null,
   "id": "8604fe34-106d-487a-b46e-be75e0d959fb",
   "metadata": {},
   "outputs": [],
   "source": [
    "aristotle_sample = '''Διά τούτο σχεδόν οι πλείστοι των φιλοσοφούντων περί της φύσεως, και εκ των ιατρών εκείνοι, οίτινες αντιλαμβάνονται την τέχνην αυτών κατά τρόπον φιλοσοφικώτερον, εκείνοι μεν εκ της μελέτης της φύσεως καταντώσι τέλος εις την ιατρικήν, οι άλλοι δε αρχίζουσι την τέχνην εκ των νόμων της φύσεως και της εφαρμογής αυτών εις την ιατρικήν. 6. Ότι δε αι ρηθείσαι λειτουργίαι πάσαι είναι κοιναί και της ψυχής και του σώματος, είναι φανερόν. Διότι πάσαι συμβαίνουσιν, άλλαι ομού με την αίσθησιν {7} άλλαι δε διά της αισθήσεως {8}. Άλλαι μεν είναι παθήσεις της αισθήσεως, άλλαι δε είναι διαρκείς καταστάσεις αυτής, άλλαι είναι λειτουργίαι προς φύλαξιν και συντήρησιν αυτής {9} και άλλαι είναι φθοραί και στερήσεις αυτής {10}. Ότι δε η αίσθησις συμβαίνει εις την ψυχήν διά μέσου του σώματος, τούτο γίνεται φανερόν και διά του λόγου και άνευ του λόγου (διά της πείρας) {11}. 7. Αλλ' έχομεν είπει εν τη περί ψυχής πραγματεία τας θεωρίας ημών περί αισθήσεως και περί του αισθάνεσθαι και διατί συμβαίνει εις τα ζώα τούτο το πάθος. Έκαστον ζώον, καθό ζώον, πρέπει κατ' ανάγκην να έχη αίσθησιν• διά ταύτης διακρίνομεν το ζώον από παντός όπερ δεν είναι ζώον. 8. Πάντα δε τα ζώα, ατομικώς έκαστον έχουσιν εξ ανάγκης την αφήν και την γεύσιν, την μεν αφήν, διά την αιτίαν την οποίαν είπομεν εις την περί ψυχής πραγματείαν, {12} την δε γεύσιν διά την τροφήν. Διότι διά της γεύσεως διακρίνει το ευάρεστον και το δυσάρεστον εις τας τροφάς το ζώον, και ούτως αποφεύγει τας δυσάρεστους τροφάς, επιζητεί δε τας ευαρέστους, και εν γένει ο χυμός {13} είναι πάθος του θρεπτικού μέρους της ψυχής. 9. Αι δε αισθήσεις αι διεγειρόμεναι υπό των εξωτερικών πραγμάτων π.χ. η όσφρησις, η ακοή και η όψις, εις πάντα τα πορευτικά (κινούμενα) ζώα, τα έχοντα αυτάς, υπάρχουσι χάριν της συντηρήσεις των, όπως προαισθανόμενα την τροφήν επιδιώκωσιν αυτήν, φεύγωσι δε τα κακά και επιβλαβή. Εις δε τα ζώα, τα οποία έχουσι και νόησιν, αι αισθήσεις αυταί υπάρχουσι χάριν της ευζωίας• διότι γνωστοποιούσιν εις αυτά πολλάς διαφοράς των πραγμάτων, εξ ων προέρχεται η γνώσις εκείνων τα οποία δύνανται να νοηθώσι και εκείνων τα οποία πρέπει να πραχθώσι (των νοητών και των πρακτικών ιδεών). '''"
   ]
  },
  {
   "cell_type": "code",
   "execution_count": null,
   "id": "2c37caba-7eaf-4a1e-b948-2f1a7dbca0e2",
   "metadata": {},
   "outputs": [],
   "source": [
    "aristotle_sample_label = model.predict([aristotle_sample])\n",
    "print(aristotle_sample_label)\n",
    "print('This work is attributed to ',get_author_by_index(authors,aristotle_sample_label[0]))"
   ]
  },
  {
   "cell_type": "code",
   "execution_count": null,
   "id": "aa28edc0-43c7-4294-81fd-04e3f4957320",
   "metadata": {},
   "outputs": [],
   "source": [
    "luke_sample = '''Ταῦτα δὲ αὐτῶν λαλούντων, αὐτὸς ὁ Ἰησοῦς ἔστη ἐν μέσῳ αὐτῶν, καὶ λέγει αὐτοῖς, Εἰρήνη ὑμῖν. 37 πτοηθέντες δὲ καὶ ἔμφοβοι γενόμενοι ἐδόκουν πνεῦμα θεωρεῖν. 38 καὶ εἶπεν αὐτοῖς, Τί τεταραγμένοι ἐστέ, καὶ διατί διαλογισμοὶ ἀναβαίνουσιν ἐν ταῖς καρδίαις ὑμῶν; 39 ἴδετε τὰς χεῖράς μου καὶ τοὺς πόδας μου, ὅτι αὐτὸς ἐγώ εἰμι· ψηλαφήσατέ με καὶ ἴδετε, ὅτι πνεῦμα σάρκα καὶ ὀστέα οὐκ ἔχει, καθὼς ἐμὲ θεωρεῖτε ἔχοντα. 40 καὶ τοῦτο εἰπὼν ἐπέδειξεν αὐτοῖς τὰς χεῖρας καὶ τοὺς πόδας. 41 ἔτι δὲ ἀπιστούντων αὐτῶν ἀπὸ τῆς χαρᾶς καὶ θαυμαζόντων, εἶπεν αὐτοῖς, Ἔχετέ τι βρώσιμον ἐνθάδε; 42 οἱ δὲ ἐπέδωκαν αὐτῷ ἰχθύος ὀπτοῦ μέρος, καὶ ἀπὸ μελισσίου κηρίου. 43 καὶ λαβὼν ἐνώπιον αὐτῶν ἔφαγεν.'''"
   ]
  },
  {
   "cell_type": "code",
   "execution_count": null,
   "id": "10ff6bb3-5819-4ebb-a0e9-89d79d8df2d9",
   "metadata": {},
   "outputs": [],
   "source": [
    "luke_sample_label = model.predict([luke_sample])\n",
    "print(luke_sample_label)\n",
    "print('This work is attributed to ',get_author_by_index(authors,luke_sample_label[0]))"
   ]
  },
  {
   "cell_type": "code",
   "execution_count": null,
   "id": "a7a5a446-dee0-4a38-a4cd-aabf5a24eb4e",
   "metadata": {
    "tags": []
   },
   "outputs": [],
   "source": [
    "import nltk\n",
    "\n",
    "aristophanes_corpus_string = ''\n",
    "for doc in corpus['Aristophanes']:\n",
    "    aristophanes_corpus_string+=doc\n",
    "aristophanes_words = greek_tokenizer(aristophanes_corpus_string)\n",
    "clean_aristophanes_words = [word for word in aristophanes_words if word not in grc_stoplist]\n",
    "aristophanes_freq_dist = nltk.probability.FreqDist(clean_aristophanes_words)\n",
    "aristophanes_freq_dist.most_common(50)"
   ]
  },
  {
   "cell_type": "code",
   "execution_count": null,
   "id": "a42e3e3b-736b-4df0-b63e-81cf13290ed0",
   "metadata": {},
   "outputs": [],
   "source": [
    "import nltk\n",
    "def greek_tokenizer(text):\n",
    "    processed_text = text.replace('ἀλλ’','tk_1')\n",
    "    processed_text = processed_text.replace(\"ἀλλ'\",'tk_1')\n",
    "    \n",
    "    words = nltk.word_tokenize(processed_text,language='greek')\n",
    "    for i in range(len(words)):\n",
    "        if words[i] == 'tk_1':\n",
    "            words[i] ='ἀλλ’'\n",
    "            #print('replace')\n",
    "    return words"
   ]
  },
  {
   "cell_type": "code",
   "execution_count": null,
   "id": "0f67e5ef-ba19-418f-9e94-5f1545a82a3d",
   "metadata": {
    "tags": []
   },
   "outputs": [],
   "source": [
    "corpus_dict_2 = get_corpus_dict_from_dir('./raw text')\n",
    "import textwrap\n",
    "#textwrap.wrap(cdict['Aristotle'][0], 5000)[0]\n",
    "corpus_2 = {}\n",
    "chunk_size = 5000\n",
    "count=0\n",
    "for author,docs in corpus_dict_2.items():\n",
    "    for doc in docs:\n",
    "        if corpus_2.get(author) is None:\n",
    "            corpus_2[author] = []\n",
    "        corpus_2[author] += textwrap.wrap(doc,chunk_size)\n",
    "for docs in corpus_2.values():\n",
    "    for doc in docs:\n",
    "        if 'η' in greek_tokenizer(doc):\n",
    "            #print('find:',doc.replace('ἀλλ’','tk_1').replace(\"ἀλλ'\",'tk_1'))\n",
    "            #print(doc)\n",
    "            count+=1\n",
    "count\n",
    "\n"
   ]
  },
  {
   "cell_type": "code",
   "execution_count": null,
   "id": "02d630e0-852a-4411-aee5-67a957d1bdbf",
   "metadata": {
    "tags": []
   },
   "outputs": [],
   "source": [
    "swords =set()\n",
    "for docs in corpus_2.values():\n",
    "    for doc in docs:\n",
    "        for w in greek_tokenizer(doc):\n",
    "            #print('find:',doc.replace('ἀλλ’','tk_1').replace(\"ἀλλ'\",'tk_1'))\n",
    "            #print(doc)\n",
    "            if len(w)<=1:\n",
    "                swords.add(w)\n",
    "swords"
   ]
  },
  {
   "cell_type": "code",
   "execution_count": null,
   "id": "fe41a1e1-7434-40d8-9a9d-3ab69a1d4776",
   "metadata": {},
   "outputs": [],
   "source": [
    "plato_corpus_string = ''\n",
    "for doc in corpus['Plato']:\n",
    "    plato_corpus_string+=doc\n",
    "plato_words = greek_tokenizer(plato_corpus_string)\n",
    "clean_plato_words = [word for word in plato_words if word not in grc_stoplist]\n",
    "\n",
    "plato_freq_dist = nltk.probability.FreqDist(clean_plato_words)\n",
    "plato_freq_dist.plot(10)"
   ]
  },
  {
   "cell_type": "code",
   "execution_count": null,
   "id": "7b41aa7e-1520-47be-af56-f5fa9bd86fb3",
   "metadata": {},
   "outputs": [],
   "source": [
    "plato_freq_dist.most_common(300)"
   ]
  },
  {
   "cell_type": "code",
   "execution_count": null,
   "id": "b853f3be-03b4-45a2-b20d-0dbf739f4634",
   "metadata": {},
   "outputs": [],
   "source": [
    "plato_corpus_string[:2000]"
   ]
  },
  {
   "cell_type": "code",
   "execution_count": null,
   "id": "d0a140ed-e99d-4925-b244-14d2c493ad4f",
   "metadata": {},
   "outputs": [],
   "source": [
    "'Και'.lower()"
   ]
  },
  {
   "cell_type": "code",
   "execution_count": null,
   "id": "b3be3587-d971-4a1c-af52-8d540b8f351c",
   "metadata": {},
   "outputs": [],
   "source": []
  },
  {
   "cell_type": "markdown",
   "id": "919a6f08-6093-437d-a461-08bec088fc4d",
   "metadata": {
    "tags": []
   },
   "source": [
    "## Dataset\n",
    "\n",
    "Meno \\\n",
    "Μένων by Plato:\\\n",
    "https://www.gutenberg.org/ebooks/34881\n",
    "\n",
    "\n",
    "Απολογία Σωκράτους \\\n",
    "Socrates' Apology, by Plato and Alexandros Moraitides:\\\n",
    "https://www.gutenberg.org/ebooks/39462\n",
    "\n",
    "Πολιτεία, Τόμος 4 \\\n",
    "Republic Volume 4 (of 4), by Plato: \\\n",
    "https://www.gutenberg.org/ebooks/39530\n",
    "\n",
    "\n",
    "\n",
    "Όρνιθες \\\n",
    "The Birds, by Aristophanes:\\\n",
    "https://www.gutenberg.org/ebooks/27315\n",
    "\n",
    "Lysistrata\\\n",
    "Λυσιστράτη by Aristophanes: \\\n",
    "https://www.gutenberg.org/ebooks/17814\n",
    "\n",
    "Τίμαιος, Τόμος \\\n",
    "Timaeus, by Plato \\\n",
    "https://www.gutenberg.org/ebooks/35453\n",
    "\n",
    "Hippias\\\n",
    "Ελάσσων, by Plato\\\n",
    "https://www.gutenberg.org/ebooks/34880\n",
    "\n",
    "Ηθικά Νικομάχεια, Τόμος Πρώτος \\\n",
    "Nicomachean Ethics, Volume 1, by Aristotle \\\n",
    "https://www.gutenberg.org/ebooks/28626\n",
    "\n",
    "Αθηναίων Πολιτεία \\\n",
    "The Constitution of the Athenians, by Aristotle \\\n",
    "https://www.gutenberg.org/ebooks/39963\n",
    "\n",
    "Περί Ψυχής \\\n",
    "On the Soul, by Aristoteles \\\n",
    "https://www.gutenberg.org/ebooks/27816"
   ]
  },
  {
   "cell_type": "code",
   "execution_count": null,
   "id": "d3d38db0-b159-4cc6-853b-354811c05108",
   "metadata": {},
   "outputs": [],
   "source": []
  }
 ],
 "metadata": {
  "kernelspec": {
   "display_name": "NLP",
   "language": "python",
   "name": "nlp"
  },
  "language_info": {
   "codemirror_mode": {
    "name": "ipython",
    "version": 3
   },
   "file_extension": ".py",
   "mimetype": "text/x-python",
   "name": "python",
   "nbconvert_exporter": "python",
   "pygments_lexer": "ipython3",
   "version": "3.8.10"
  }
 },
 "nbformat": 4,
 "nbformat_minor": 5
}
