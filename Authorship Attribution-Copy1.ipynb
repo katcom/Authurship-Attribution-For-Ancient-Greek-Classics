{
 "cells": [
  {
   "cell_type": "markdown",
   "id": "8d0246b9-e23d-4588-a690-21bc0cd6b38a",
   "metadata": {},
   "source": [
    "# Authorship Attribution for Ancient Greek Literature\n",
    "## Table of contents\n",
    "1. [Introduction](#introduction)\n",
    "    1. [Problem Area](#problem_area)\n",
    "    1. [Objectives](#problem_area)\n",
    "    1. [Dataset](#problem_area)\n",
    "    1. [Evaluation Methodology](#problem_area)\n",
    "1. [Install Packages](#install)\n",
    "1. [Implementation](#implementation)\n",
    "1. [Get data](#get-data)\n",
    "1. [Run NLP pipeline with `NLP()`](#run-nlp)\n",
    "1. [Inspect CLTK `Doc`](#inspect-doc)\n",
    "1. [Inspect CLTK `Word`](#inspect-word)\n",
    "1. [Modeling morphology with `MorphosyntacticFeature` and `MorphosyntacticFeatureBundle`](#morph)\n",
    "1. [Modeling syntax with `Form` and `DependencyTree`](#syntax)\n",
    "1. [Feature extraction](#features)\n",
    "1. [Brief demonstration of `NLP()` for Ancient Greek](#greek-nlp)"
   ]
  },
  {
   "cell_type": "markdown",
   "id": "8869f1ed-6d58-42a4-a915-672327a6833f",
   "metadata": {
    "tags": []
   },
   "source": [
    "## Introduction  <a name=\"introduction\"></a>\n",
    "### Problem Area <a name=\"problem_area\"></a>\n",
    "Authorship attribution has been a long-standing problem in the field of Ancient Greek literature study. Scholars have made a lot of effort in determining the genuine authorship of anonousy works, and giving answer to literatures of debated authorship.\n",
    "\n",
    "In this study, we made attempts to address this issue by using Navie Bayes algorithm. \n",
    "\n",
    "### Objective\n",
    "This study aims to address the authorship attribution problems in Greek Literature. We would first train a model using works with known authorship, and thereby try to give from the persepective of computational linguistic answers to the authorship of contested Greek works. \n",
    "\n",
    "### Dataset\n",
    "We select 54 works from eleven ancient Greek authors that ranged from 8th BCE to 3rd CE. The topics covered include religons, philosophy, myth, history, drama, while the genres include poetry, prose, epic, comedy, tragedy, history and biography. The dataset was obtained from Wikisource and Project Gutenberg. A full list of reference of each work is included in the appendix.\n",
    "\n",
    "### Evaluation methodology\n",
    "We use Precision, Recall, F1-score and Accuracy to meausre the performance of our model.\n",
    "\n",
    "### Result\n",
    "For our model, TF-IDF measurement is used as the representation of corpus. Finally, we achieve 77% accuracy in authorship attribution."
   ]
  },
  {
   "cell_type": "markdown",
   "id": "711ecede-6b52-4619-8a53-50be4caf922a",
   "metadata": {},
   "source": [
    "## II. Implementation <a name=\"implementation\"></a>\n"
   ]
  },
  {
   "cell_type": "markdown",
   "id": "c12233a3-dc92-43ef-a3cb-469409294514",
   "metadata": {
    "tags": []
   },
   "source": [
    "### Install Package  <a name=\"install\"></a>\n",
    "Firstly we install the required packages, and download the Greek corpus for CLTK before the Greek lemmatizer and tokenizer could be used."
   ]
  },
  {
   "cell_type": "code",
   "execution_count": 119,
   "id": "9be7769d-3976-4a60-af7d-c77336d805e3",
   "metadata": {},
   "outputs": [],
   "source": [
    "# Download Packages\n",
    "#pip install -i https://pypi.tuna.tsinghua.edu.cn/simple cltk nltk numpy pandas\n",
    "\n",
    "# Get data from CLTK\n",
    "#from cltk.data.fetch import FetchCorpus\n",
    "#corpus_downloader = FetchCorpus(language=\"grc\")"
   ]
  },
  {
   "cell_type": "markdown",
   "id": "da86e626-628f-4573-9431-435b39f328ff",
   "metadata": {},
   "source": [
    "### Load Dataset\n",
    "We need to load the corpus stored locally before preprocessing. The dataset is represented in plain text and stored in `.txt` format. The dataset is converted into a `dict` data structure, with keys representing the authors' names and the values representing a list of their works.\n",
    "\n",
    "Corpus Data Structure:\n",
    "\n",
    "corpus = \\{  \n",
    "    &nbsp;&nbsp; 'author 1'：\\[ work1, work2, work3 ...\\],  \n",
    "    &nbsp;&nbsp; 'author 2'：\\[ work1, work2, work3 ...\\],  \n",
    "    &nbsp;&nbsp; 'author 3'：\\[ work1, work2, work3 ...\\],  \n",
    "    &nbsp;&nbsp; ...  \n",
    "\\}  "
   ]
  },
  {
   "cell_type": "code",
   "execution_count": 120,
   "id": "d69bf322-ea80-4c0f-a302-be9d49bd3597",
   "metadata": {},
   "outputs": [
    {
     "name": "stdout",
     "output_type": "stream",
     "text": [
      "Total:  63  documents\n",
      "Pindar has 4 text\n",
      "Epicurus has 2 text\n",
      "Aeschylus has 6 text\n",
      "Pausanias has 1 text\n",
      "Plato has 8 text\n",
      "Xenophon has 14 text\n",
      "Hesiod has 3 text\n",
      "Aristotle has 8 text\n",
      "Aristophanes has 8 text\n",
      "Homer has 2 text\n",
      "Saint John has 4 text\n",
      "Luke has 2 text\n",
      "Diogenes Laërtius has 1 text\n"
     ]
    }
   ],
   "source": [
    "import os\n",
    "import textwrap\n",
    "import cltk\n",
    "\n",
    "os.listdir('./raw text')\n",
    "def get_corpus_dict_from_dir(path):\n",
    "    files = os.listdir('./raw text')\n",
    "    corpus_dict = {}\n",
    "    for file in files:\n",
    "        if '.txt' in file:\n",
    "            author = file[:file.find('-')-1].strip()\n",
    "            with open(path+'/'+file,'r',encoding='utf-8') as f:\n",
    "                if corpus_dict.get(author) is None:\n",
    "                    corpus_dict[author] = []\n",
    "                corpus_dict[author].append(f.read())\n",
    "    return corpus_dict\n",
    "\n",
    "corpus_dict = get_corpus_dict_from_dir('./raw text')\n",
    "\n",
    "print('Total: ', len([work for works in corpus_dict.values() for work in works]),' documents')\n",
    "for author,docs in corpus_dict.items():\n",
    "    print(author, 'has', len(docs),'text')"
   ]
  },
  {
   "cell_type": "markdown",
   "id": "79c5fa3a-8dc6-49dc-be93-5d0e6f3acae4",
   "metadata": {},
   "source": [
    "### Segementation of text\n",
    "A work in the copus presents a full publication. However, contested works often survives in fragments in Greek literature. Therefore, it is desired  that our model would be able to predict the authorship from a fragment of works. \n",
    "\n",
    "In order to give the model this capability, we divide works in the dataset into short fragments. However, we should be courious not to segement the works too small, since it is very unlikely to determine the authorship of a small paragraph. The writting style would not be obvious and work frequency distribution would not give insights to the authorship given the small size of paragraph. In this study, the size of a fragment is set to `5000` characters long. "
   ]
  },
  {
   "cell_type": "code",
   "execution_count": 121,
   "id": "7368f45d-9837-4a87-99ec-5d7c2b2186f6",
   "metadata": {},
   "outputs": [
    {
     "name": "stdout",
     "output_type": "stream",
     "text": [
      "Pindar  has  30  text\n",
      "Epicurus  has  4  text\n",
      "Aeschylus  has  46  text\n",
      "Pausanias  has  234  text\n",
      "Plato  has  394  text\n",
      "Xenophon  has  404  text\n",
      "Hesiod  has  24  text\n",
      "Aristotle  has  333  text\n",
      "Aristophanes  has  116  text\n",
      "Homer  has  261  text\n",
      "Saint John  has  24  text\n",
      "Luke  has  51  text\n",
      "Diogenes Laërtius  has  144  text\n",
      "\n",
      "Example: A fragment of Epicurus' work\n",
      " Κύριαι Δόξαι                                           Επίκουρος      εξάχθηκε από τη Βικιθήκη την 9 Ιουνίου 2022      Κύριαι Δόξαι  Συγγραφέας: Επίκουρος      1 Τὸ μακάριον καὶ ἄφθαρτον οὔτε αὐτὸ πράγματα ἔχει οὔτε ἄλλῳ παρέχει· ὥστε οὔτε ὀργαῖς οὔτε χάρισι συνέχεται· ἐν ἀσθενεῖ γὰρ πᾶν τὸ τοιοῦτον. (ἐν ἄλλοις δέ φησι τοὺς θεοὺς λόγῳ θεωρητούς͵ οὓς μὲν κατ΄ ἀριθμὸν ὑφεστῶτας͵ οὓς δὲ κατὰ ὁμοείδειαν͵ ἐκ τῆς συνεχοῦς ἐπιῤῥύσεως τῶν ὁμοίων εἰδώλων ἐπὶ τὸ αὐτὸ ἀποτετελεσμένων͵ ἀνθρωποειδεῖς.)  2 Ὁ θάνατος οὐδὲν πρὸς ἡμᾶς· τὸ γὰρ διαλυθὲν ἀναισθητεῖ͵ τὸ δ΄ ἀναισθητοῦν οὐδὲν πρὸς ἡμᾶς.  3 Ὅρος τοῦ μεγέθους τῶν ἡδονῶν ἡ παντὸς τοῦ ἀλγοῦντος ὑπεξαίρεσις. ὅπου δ΄ ἂν τὸ ἡδόμενον ἐνῇ͵ καθ΄ ὃν ἂν χρόνον ᾖ͵ οὐκ ἔστι τὸ ἀλγοῦν ἢ λυπούμενον ἢ τὸ συναμφότερον.  4 Οὐ χρονίζει τὸ ἀλγοῦν συνεχῶς ἐν τῇ σαρκί͵ ἀλλὰ τὸ μὲν ἄκρον τὸν ἐλάχιστον χρόνον πάρεστι͵ τὸ δὲ μόνον ὑπερτεῖνον τὸ ἡδόμενον κατὰ σάρκα οὐ πολλὰς ἡμέρας συμβαίνει· αἱ δὲ πολυχρόνιοι τῶν ἀῤῥωστιῶν πλεονάζον ἔχουσι τὸ ἡδόμενον ἐν τῇ σαρκὶ ἤπερ τὸ ἀλγοῦν.  5 Οὐκ ἔστιν ἡδέως ζῆν ἄνευ τοῦ φρονίμως καὶ καλῶς καὶ δικαίως οὐδὲ φρονίμως καὶ καλῶς καὶ δικαίως ἄνευ τοῦ ἡδέως· ὅτῳ δὲ τοῦτο μὴ ὑπάρχει͵ οὐκ ἔστι τοῦτον ἡδέως ζῆν.  6 Ἕνεκα τοῦ θαρρεῖν ἐξ ἀνθρώπων ἦν κατὰ φύσιν ἀρχῆς καὶ βασιλείας ἀγαθόν͵ ἐξ ὧν ἄν ποτε τοῦτο οἷός τ΄ ᾖ παρασκευάζεσθαι.  7 Ἔνδοξοι καὶ περίβλεπτοί τινες ἐβουλήθησαν γενέσθαι͵ τὴν ἐξ ἀνθρώπων ἀσφάλειαν οὕτω νομίζοντες περιποιήσεσθαι ὥστε͵ εἰ μὲν ἀσφαλὴς ὁ τῶν τοιούτων βίος͵ ἀπέλαβον τὸ τῆς φύσεως ἀγαθόν· εἰ δὲ μὴ ἀσφαλής͵ οὐκ ἔχουσιν οὗ ἕνεκα ἐξ ἀρχῆς κατὰ τὸ τῆς φύσεως οἰκεῖον ὠρέχθησαν.  8 Οὐδεμία ἡδονὴ καθ΄ ἑαυτὴν κακόν· ἀλλὰ τὰ τινῶν ἡδονῶν ποιητικὰ πολλαπλασίους ἐπιφέρει τὰς ὀχλήσεις τῶν ἡδονῶν.  9 Εἰ κατεπυκνοῦτο πᾶσα ἡδονὴ τόπῳ καὶ χρόνῳ1 καὶ περὶ ὅλον τὸ ἄθροισμα ὑπῆρχεν ἢ τὰ κυριώτατα μέρη τῆς φύσεως͵ οὐκ ἄν ποτε διέφερον ἀλλήλων αἱ ἡδοναί. 1 τῷ αὐτῷ  10 Εἰ τὰ ποιητικὰ τῶν περὶ τοὺς ἀσώτους ἡδονῶν ἔλυε τοὺς φόβους τῆς διανοίας τούς τε περὶ μετεώρων καὶ θανάτου καὶ ἀλγηδόνων͵ ἔτι τε τὸ πέρας τῶν ἐπιθυμιῶν (καὶ τῶν ἀλγηδόνων) ἐδίδασκεν͵ οὐκ ἄν ποτε εἴχομεν ὅ τι μεμψαίμεθα αὐτοῖς πανταχόθεν ἐκπληρουμένοις τῶν ἡδονῶν καὶ οὐδαμόθεν οὔτε τὸ ἀλγοῦν οὔτε τὸ λυπούμενον ἔχουσιν͵ ὅπερ ἐστὶ τὸ κακόν.  11 Εἰ μηθὲν ἡμᾶς αἱ τῶν μετεώρων ὑποψίαι ἠνώχλουν καὶ αἱ περὶ θανάτου͵ μήποτε πρὸς ἡμᾶς ᾖ τι͵ ἔτι τε τὸ μὴ κατανοεῖν τοὺς ὅρους τῶν ἀλγηδόνων καὶ τῶν ἐπιθυμιῶν͵ οὐκ ἂν προσεδεόμεθα φυσιολογίας.  12 Οὐκ ἦν τὸ φοβούμενον λύειν ὑπὲρ τῶν κυριωτάτων μὴ κατειδότα τίς ἡ τοῦ σύμπαντος φύσις͵ ἀλλ΄ ὑποπτεύοντά τι τῶν κατὰ τοὺς μύθους· ὥστε οὐκ ἦν ἄνευ φυσιολογίας ἀκεραίους τὰς ἡδονὰς ἀπολαμβάνειν.  13 Οὐθὲν ὄφελος ἦν τὴν κατὰ ἀνθρώπους ἀσφάλειαν παρασκευάζεσθαι τῶν ἄνωθεν ὑπόπτων καθεστώτων καὶ τῶν ὑπὸ γῆς καὶ ἁπλῶς τῶν ἐν τῷ ἀπείρῳ.  14 Τῆς ἀσφαλείας τῆς ἐξ ἀνθρώπων γενομένης μέχρι τινὸς δυνάμει τε ἐξερειστικῇ καὶ εὐπορίᾳ͵ εἰλικρινεστάτη γίνεται ἡ ἐκ τῆς ἡσυχίας καὶ ἐκχωρήσεως τῶν πολλῶν ἀσφάλεια.  15 Ὁ τῆς φύσεως πλοῦτος καὶ ὥρισται καὶ εὐπόριστός ἐστιν͵ ὁ δὲ τῶν κενῶν δοξῶν εἰς ἄπειρον ἐκπίπτει.  16 Β\n"
     ]
    }
   ],
   "source": [
    "import textwrap\n",
    "def segement_corpus(corpus,chunk_size):\n",
    "#textwrap.wrap(cdict['Aristotle'][0], 5000)[0]\n",
    "    corpus_segemented = {}\n",
    "    chunk_size = 5000\n",
    "\n",
    "    for author,docs in corpus.items():\n",
    "        for doc in docs:\n",
    "            if corpus_segemented.get(author) is None:\n",
    "                corpus_segemented[author] = []\n",
    "            corpus_segemented[author] += textwrap.wrap(doc,chunk_size)\n",
    "    return corpus_segemented\n",
    "\n",
    "corpus = segement_corpus(corpus_dict,chunk_size=5000)\n",
    "for author,docs in corpus.items():\n",
    "    print(author, ' has ', len(docs),' text')\n",
    "\n",
    "    \n",
    "print('\\nExample: A fragment of Epicurus\\' work\\n',corpus['Epicurus'][0][:3000])"
   ]
  },
  {
   "cell_type": "markdown",
   "id": "de163bc7-7972-414a-856f-3b3f47b13f8a",
   "metadata": {},
   "source": [
    "### 5. Preprocessing <a name=\"preprocessing\"></a>"
   ]
  },
  {
   "cell_type": "markdown",
   "id": "8b17c9ba-be97-4fa1-98ed-5d4e514dee20",
   "metadata": {
    "tags": []
   },
   "source": [
    "#### Lemmatization\n"
   ]
  },
  {
   "cell_type": "code",
   "execution_count": 122,
   "id": "be59d58a-4434-4ecb-be77-60337a9dbb2e",
   "metadata": {},
   "outputs": [
    {
     "data": {
      "text/plain": [
       "'γρυπὸν'"
      ]
     },
     "execution_count": 122,
     "metadata": {},
     "output_type": "execute_result"
    }
   ],
   "source": [
    "from cltk.lemmatize.grc import GreekBackoffLemmatizer\n",
    "from cltk.alphabet.text_normalization import cltk_normalize\n",
    "lemmatizer = GreekBackoffLemmatizer()\n",
    "word = cltk_normalize('γρυπὸν')\n",
    "lemmatizer.lemmatize([word])[0][1]"
   ]
  },
  {
   "cell_type": "code",
   "execution_count": 123,
   "id": "d9067a2e-b2aa-4013-a364-5d579ee6c81d",
   "metadata": {},
   "outputs": [
    {
     "data": {
      "text/plain": [
       "'γρυπὸν'"
      ]
     },
     "execution_count": 123,
     "metadata": {},
     "output_type": "execute_result"
    }
   ],
   "source": [
    "def greek_lemmatizer(word):\n",
    "    return lemmatizer.lemmatize([word])[0][1]\n",
    "greek_lemmatizer('γρυπὸν')"
   ]
  },
  {
   "cell_type": "markdown",
   "id": "cc1de61d-f5d0-4e21-aea2-d7040faeae53",
   "metadata": {},
   "source": [
    "#### Tokenization\n",
    "A function is defined to tokenize the Greek corpus. NLTK tokenizer for Greek language is used here as the tokenization function which would be used by the TF-IDF Vectorizer in the implementation section. \n",
    "\n",
    "However, stopwords in apocopic form, with which the vowel at the end of a word is removed, need extra attentions in the tokenization process so that they could be correctly removed in the stopwords removal stage. For example, \"ἀλλά\" (but) in the ancient Greek langauge often appears as \"ἀλλ’\", where the vowel \"ά\" is replaced by the apostrophe \"’\". This results in the incorrect tokenization that \"ἀλλ’\" is splited into two different tokens, \"ἀλλ\" and \"’\", instead of a single word \"ἀλλ’\""
   ]
  },
  {
   "cell_type": "code",
   "execution_count": 124,
   "id": "af32867b-ccc7-440c-8648-f67f5942e36a",
   "metadata": {},
   "outputs": [],
   "source": [
    "import nltk\n",
    "def greek_tokenizer(text):\n",
    "    # Handling the apocopic form by replacing words in apocopic form by speical markers, \n",
    "    # which would later be substituted back to the original words\n",
    "    processed_text = text.replace('ἀλλ’','tk_1')\n",
    "    processed_text = processed_text.replace('ἀλλ\\'','tk_1')\n",
    "    \n",
    "    processed_text = processed_text.replace('δ’','tk_2')\n",
    "    processed_text = processed_text.replace('δ\\'','tk_2')\n",
    "\n",
    "    # Tokenization with NLTK's library\n",
    "    words = nltk.word_tokenize(processed_text,language='greek')\n",
    "    \n",
    "    # Substitution for the original words\n",
    "    for i in range(len(words)):\n",
    "        if words[i] == 'tk_1':\n",
    "            words[i] ='ἀλλ’'\n",
    "            continue\n",
    "        if words[i] == 'tk_2':\n",
    "            words[i] ='δ’'\n",
    "            continue\n",
    "    return words"
   ]
  },
  {
   "cell_type": "markdown",
   "id": "fea8479e-2bbe-4c81-a30c-ea407b07d665",
   "metadata": {},
   "source": [
    "### Lemmatizer-Tokenizer"
   ]
  },
  {
   "cell_type": "code",
   "execution_count": 125,
   "id": "51b081ec-c9d9-45f6-bd98-39b79a56f4b7",
   "metadata": {},
   "outputs": [
    {
     "name": "stdout",
     "output_type": "stream",
     "text": [
      "['Πολιτεία', 'Πολιτεία', 'Συγγραφέας', ':', 'Πλάτων', 'Βιβλίο', 'Α', \"'\", 'Πολιτεία/Β→', 'Σωκράτης']\n"
     ]
    },
    {
     "data": {
      "text/plain": [
       "['Πολιτεία',\n",
       " 'Πολιτεία',\n",
       " 'Συγγραφέας',\n",
       " 'punc',\n",
       " 'Πλάτων',\n",
       " 'Βιβλίο',\n",
       " 'Α',\n",
       " 'punc',\n",
       " 'Πολιτεία/Β→',\n",
       " 'Σωκράτης']"
      ]
     },
     "execution_count": 125,
     "metadata": {},
     "output_type": "execute_result"
    }
   ],
   "source": [
    "def greek_lemmatizer_tokenizer(text):\n",
    "    tokenized_words = greek_tokenizer(text)\n",
    "    lemmatized_words =  [lemmatizer.lemmatize([word])[0][1] for word in tokenized_words]\n",
    "    return lemmatized_words\n",
    "print(greek_tokenizer(corpus['Plato'][0])[:10])\n",
    "greek_lemmatizer_tokenizer(corpus['Plato'][0])[:10]"
   ]
  },
  {
   "cell_type": "markdown",
   "id": "6a47e278-db87-45c4-bf9c-dc3434271279",
   "metadata": {},
   "source": [
    "#### Stopwords Removal"
   ]
  },
  {
   "cell_type": "code",
   "execution_count": 126,
   "id": "e559125d-aa88-4888-a8cb-a47029c0cdc3",
   "metadata": {},
   "outputs": [],
   "source": [
    "grc_stoplist = cltk.stops.grc.STOPS\n",
    "grc_stoplist.extend(['να','και','το','τα','θα','τον','που','την','μου','τη','από','για',\n",
    "                    'κι','με','εις','του','είναι','των','της','ἦν','τους','τοῦτο','ταῦτα','ἐγώ',\n",
    "                    'δ\\'','δ᾽','δ’','σου','ἀλλ᾽','ἀλλ’','ἀλλά','ότι','δε','ο','η','ᾖ','ή','αὐτοῦ','φημί','λέγω','εἶπον','πᾶς''ἔχω','πολύς','ἐπεί','ποιέω','γ᾽',\n",
    "                     'Διότι','μιν','πᾶς'])\n",
    "grc_stoplist = [greek_lemmatizer(stop) for stop in grc_stoplist]"
   ]
  },
  {
   "cell_type": "markdown",
   "id": "6dd54f79-9cde-49f0-8852-2275f2a923f4",
   "metadata": {},
   "source": [
    "#### Remove numbers and puncutations"
   ]
  },
  {
   "cell_type": "code",
   "execution_count": 127,
   "id": "d390786d-b4d1-49de-b306-d8ee44c4f436",
   "metadata": {
    "tags": []
   },
   "outputs": [],
   "source": [
    "# import re\n",
    "# for author in corpus_dict.keys():\n",
    "#     for i in range(len(corpus_dict[author])):\n",
    "#         corpus_dict[author][i] = re.sub('[0-9]','',corpus_dict[author][i])\n",
    "#         corpus_dict[author][i] = re.sub(\"[\\\\[\\\\]!._,'@?\\\\\\:;\\`’\\\\(\\\\)\\\\%]\",'',corpus_dict[author][i])\n",
    "#         corpus_dict[author][i] = re.sub(\"[\\\\n]\",' ',corpus_dict[author][i])\n",
    "import re\n",
    "for author in corpus.keys():\n",
    "    for i in range(len(corpus[author])):\n",
    "        corpus[author][i] = re.sub('[0-9]','',corpus[author][i])\n",
    "        corpus[author][i] = re.sub(\"[\\\\[\\\\]!._,'@?\\\\\\:;\\\\\\(\\\\)\\\\%\\\\—\\\\{\\\\}\\\\*\\\\<\\\\>\\\\--\\\\``\\\\&\\\\·\\\\«\\\\»]\",'',corpus[author][i])\n",
    "        corpus[author][i] = re.sub(\"[\\\\n]\",' ',corpus[author][i])\n",
    "        corpus[author][i] = re.sub(\"[\\\\`\\\\`]\",'',corpus[author][i])\n",
    "        "
   ]
  },
  {
   "cell_type": "code",
   "execution_count": 128,
   "id": "46b60cdf-f21a-45e4-aa8f-369175b86663",
   "metadata": {},
   "outputs": [],
   "source": [
    "for author in corpus_dict.keys():\n",
    "    for i in range(len(corpus_dict[author])):\n",
    "        corpus_dict[author][i] = corpus_dict[author][i].lower()"
   ]
  },
  {
   "cell_type": "markdown",
   "id": "84a91c2f-cab2-4a9d-aa62-2adc2164898a",
   "metadata": {},
   "source": [
    "#### Undersampling"
   ]
  },
  {
   "cell_type": "code",
   "execution_count": 129,
   "id": "8da5eb5d-c70d-403e-9ed8-236f4b6423b6",
   "metadata": {},
   "outputs": [
    {
     "name": "stdout",
     "output_type": "stream",
     "text": [
      "Pindar  has  30  text\n",
      "Epicurus  has  4  text\n",
      "Aeschylus  has  46  text\n",
      "Pausanias  has  234  text\n",
      "Plato  has  250  text\n",
      "Xenophon  has  250  text\n",
      "Hesiod  has  24  text\n",
      "Aristotle  has  250  text\n",
      "Aristophanes  has  116  text\n",
      "Homer  has  261  text\n",
      "Saint John  has  24  text\n",
      "Luke  has  51  text\n",
      "Diogenes Laërtius  has  144  text\n"
     ]
    }
   ],
   "source": [
    "## Undersampling\n",
    "import random\n",
    "\n",
    "## Remove some samples from Plato's corpus\n",
    "plato_corpus = corpus['Plato']\n",
    "random.seed(1)\n",
    "random.shuffle(plato_corpus)\n",
    "corpus['Plato'] = plato_corpus[:250]\n",
    "\n",
    "# Remove some from Aristotle's corpus\n",
    "aristotle_corpus = corpus['Aristotle']\n",
    "random.shuffle(aristotle_corpus)\n",
    "corpus['Aristotle'] = aristotle_corpus[:250]\n",
    "\n",
    "# Remove some from Aristotle's corpus\n",
    "xenophon_corpus = corpus['Xenophon']\n",
    "random.shuffle(xenophon_corpus)\n",
    "corpus['Xenophon'] = xenophon_corpus[:250]\n",
    "\n",
    "for author,docs in corpus.items():\n",
    "    print(author, ' has ', len(docs),' text')"
   ]
  },
  {
   "cell_type": "markdown",
   "id": "6f902c3c-e758-4ca0-a178-9247c4fd8fee",
   "metadata": {},
   "source": [
    "#### Oversampling"
   ]
  },
  {
   "cell_type": "code",
   "execution_count": 130,
   "id": "ac2722b3-8a55-4956-a92b-9dc2b0157349",
   "metadata": {},
   "outputs": [
    {
     "name": "stdout",
     "output_type": "stream",
     "text": [
      "Pindar  has  30  text\n",
      "Epicurus  has  4  text\n",
      "Aeschylus  has  46  text\n",
      "Pausanias  has  234  text\n",
      "Plato  has  250  text\n",
      "Xenophon  has  250  text\n",
      "Hesiod  has  24  text\n",
      "Aristotle  has  250  text\n",
      "Aristophanes  has  116  text\n",
      "Homer  has  261  text\n",
      "Saint John  has  24  text\n",
      "Luke  has  76  text\n",
      "Diogenes Laërtius  has  144  text\n"
     ]
    }
   ],
   "source": [
    "luke_corpus = corpus['Luke']\n",
    "random.shuffle(luke_corpus)\n",
    "corpus['Luke'] = luke_corpus + luke_corpus[:int(len(luke_corpus)/2)]\n",
    "\n",
    "for author,docs in corpus.items():\n",
    "    print(author, ' has ', len(docs),' text')"
   ]
  },
  {
   "cell_type": "markdown",
   "id": "77c050c1-8db7-47ab-bb79-b18cc389e21b",
   "metadata": {},
   "source": [
    "#### Labels for the target data"
   ]
  },
  {
   "cell_type": "code",
   "execution_count": 131,
   "id": "66b41f81-0250-43fe-bedd-20849e797ef2",
   "metadata": {},
   "outputs": [
    {
     "data": {
      "text/plain": [
       "['Pindar',\n",
       " 'Epicurus',\n",
       " 'Aeschylus',\n",
       " 'Pausanias',\n",
       " 'Plato',\n",
       " 'Xenophon',\n",
       " 'Hesiod',\n",
       " 'Aristotle',\n",
       " 'Aristophanes',\n",
       " 'Homer',\n",
       " 'Saint John',\n",
       " 'Luke',\n",
       " 'Diogenes Laërtius']"
      ]
     },
     "execution_count": 131,
     "metadata": {},
     "output_type": "execute_result"
    }
   ],
   "source": [
    "def get_author_by_index(authors,index):\n",
    "    return authors[index]\n",
    "\n",
    "authors= list(corpus.keys())\n",
    "authors"
   ]
  },
  {
   "cell_type": "code",
   "execution_count": null,
   "id": "031bcb14-7fdd-4188-bf8c-bb4328fdb4a4",
   "metadata": {},
   "outputs": [],
   "source": []
  },
  {
   "cell_type": "markdown",
   "id": "cb2f5719-b404-48de-adad-70a2cbe9ee83",
   "metadata": {},
   "source": [
    "### Training Data and Target Data"
   ]
  },
  {
   "cell_type": "code",
   "execution_count": 132,
   "id": "89f8c65a-ce63-431f-b8ad-dba38dc9187f",
   "metadata": {},
   "outputs": [
    {
     "name": "stdout",
     "output_type": "stream",
     "text": [
      "There are  1709  data\n"
     ]
    }
   ],
   "source": [
    "all_train_data = []\n",
    "all_target_data = []\n",
    "for author,docs in corpus.items():\n",
    "    for doc in docs:\n",
    "        all_train_data.append(doc)\n",
    "        all_target_data.append(authors.index(author))\n",
    "print('There are ', len(all_train_data),' data')"
   ]
  },
  {
   "cell_type": "code",
   "execution_count": 133,
   "id": "95e7af99-5815-49b0-90a8-4f4007696d43",
   "metadata": {},
   "outputs": [],
   "source": [
    "# import re\n",
    "## remove numbers\n",
    "# for i in range(len(all_train_data)):\n",
    "#     all_train_data[i] = re.sub('[0-9]','',all_train_data[i])\n",
    "# for i in range(len(all_train_data)):\n",
    "#     all_train_data[i] = re.sub(\"[\\\\[\\\\]!._,'@?\\\\\\]\",'',all_train_data[i])\n"
   ]
  },
  {
   "cell_type": "code",
   "execution_count": 134,
   "id": "30d63c48-0bfa-4ccd-a069-486f3be65bfc",
   "metadata": {
    "tags": []
   },
   "outputs": [],
   "source": [
    "from sklearn.utils import shuffle\n",
    "all_train_data, all_target_data = shuffle(all_train_data, all_target_data, random_state=3)"
   ]
  },
  {
   "cell_type": "code",
   "execution_count": 135,
   "id": "53d7f8ff-4303-4e0d-90bb-1f1144830001",
   "metadata": {
    "tags": []
   },
   "outputs": [],
   "source": [
    "train_data_boundary = int(len(all_train_data)/3 *2)\n",
    "train_data = all_train_data[:train_data_boundary]\n",
    "target_data = all_target_data[:train_data_boundary]\n",
    "test_data = all_train_data[train_data_boundary:]\n",
    "test_target_data=all_target_data[train_data_boundary:]"
   ]
  },
  {
   "cell_type": "code",
   "execution_count": 136,
   "id": "985612c3-2995-4424-8017-10786c7a3b74",
   "metadata": {},
   "outputs": [
    {
     "data": {
      "text/plain": [
       "1709"
      ]
     },
     "execution_count": 136,
     "metadata": {},
     "output_type": "execute_result"
    }
   ],
   "source": [
    "len(all_train_data)"
   ]
  },
  {
   "cell_type": "code",
   "execution_count": null,
   "id": "28b54c85-2f13-4fd1-9648-bde4b1e1bdfd",
   "metadata": {
    "tags": []
   },
   "outputs": [],
   "source": []
  },
  {
   "cell_type": "code",
   "execution_count": 137,
   "id": "c2a611e8-4be3-4644-905c-2b54949d7065",
   "metadata": {},
   "outputs": [
    {
     "name": "stdout",
     "output_type": "stream",
     "text": [
      "target:  3\n",
      "This work is attributed to  3 Pausanias\n"
     ]
    }
   ],
   "source": [
    "print('target: ',target_data[0])\n",
    "print('This work is attributed to ',target_data[0],get_author_by_index(authors,target_data[0]))"
   ]
  },
  {
   "cell_type": "code",
   "execution_count": null,
   "id": "d01e0721-32eb-4eac-bbd7-518a1ca7d24c",
   "metadata": {},
   "outputs": [],
   "source": []
  },
  {
   "cell_type": "code",
   "execution_count": 138,
   "id": "9260157a-79ef-4d0b-8afe-502fb8c91323",
   "metadata": {},
   "outputs": [
    {
     "data": {
      "text/plain": [
       "570"
      ]
     },
     "execution_count": 138,
     "metadata": {},
     "output_type": "execute_result"
    }
   ],
   "source": [
    "len(test_data)"
   ]
  },
  {
   "cell_type": "markdown",
   "id": "703d309c-9085-42cf-bc70-c86c65cd454f",
   "metadata": {},
   "source": [
    "## 7. Classification approach"
   ]
  },
  {
   "cell_type": "code",
   "execution_count": 139,
   "id": "e90cd69d-b77c-42c7-85b9-fdd72b7ca41b",
   "metadata": {
    "tags": []
   },
   "outputs": [
    {
     "name": "stderr",
     "output_type": "stream",
     "text": [
      "/home/ludwig/projects/CM3060 Natural Language Proccesing/venv/lib/python3.8/site-packages/sklearn/feature_extraction/text.py:516: UserWarning: The parameter 'token_pattern' will not be used since 'tokenizer' is not None'\n",
      "  warnings.warn(\n",
      "/home/ludwig/projects/CM3060 Natural Language Proccesing/venv/lib/python3.8/site-packages/sklearn/feature_extraction/text.py:396: UserWarning: Your stop_words may be inconsistent with your preprocessing. Tokenizing the stop words generated tokens ['διότι', 'δ’', 'ἀλλ’'] not in stop_words.\n",
      "  warnings.warn(\n"
     ]
    },
    {
     "data": {
      "text/plain": [
       "<250x29503 sparse matrix of type '<class 'numpy.float64'>'\n",
       "\twith 98703 stored elements in Compressed Sparse Row format>"
      ]
     },
     "execution_count": 139,
     "metadata": {},
     "output_type": "execute_result"
    }
   ],
   "source": [
    "vectorizer = TfidfVectorizer(tokenizer=greek_tokenizer,stop_words=grc_stoplist)\n",
    "tfidf_model = vectorizer.fit(corpus['Plato'])\n",
    "spare_result = tfidf_model.transform(corpus['Plato'])\n",
    "spare_result"
   ]
  },
  {
   "cell_type": "code",
   "execution_count": 140,
   "id": "b70ea973-c99e-4db5-9288-603fd0c63bc0",
   "metadata": {},
   "outputs": [
    {
     "data": {
      "text/plain": [
       "TfidfVectorizer(stop_words=['αὐτός', 'αὐτός', 'γε', 'γάρ', 'γάρ', \"δ'\", 'δαίς',\n",
       "                            'δαὶς', 'δαί', 'δαίς', 'διά', 'διά', 'δέ', 'δέ',\n",
       "                            'δή', 'δή', 'εἰ', 'εἰμί', 'εἰμί', 'εἰς', 'εἰμί',\n",
       "                            'κατά', 'κατά', 'καί', 'καί', 'μετά', 'μετά', 'μέν',\n",
       "                            'μέν', 'μή', ...],\n",
       "                tokenizer=<function greek_tokenizer at 0x7fddbbe18160>)"
      ]
     },
     "execution_count": 140,
     "metadata": {},
     "output_type": "execute_result"
    }
   ],
   "source": [
    "from sklearn.feature_extraction.text import TfidfVectorizer\n",
    "\n",
    "TfidfVectorizer(tokenizer=greek_tokenizer,stop_words=grc_stoplist)"
   ]
  },
  {
   "cell_type": "code",
   "execution_count": null,
   "id": "39a92059-e119-43e1-afe5-198cb513f7d1",
   "metadata": {},
   "outputs": [],
   "source": []
  },
  {
   "cell_type": "code",
   "execution_count": 182,
   "id": "d168d57a-a2d0-4a18-a05d-b63af80769ee",
   "metadata": {},
   "outputs": [
    {
     "name": "stderr",
     "output_type": "stream",
     "text": [
      "/home/ludwig/projects/CM3060 Natural Language Proccesing/venv/lib/python3.8/site-packages/sklearn/feature_extraction/text.py:396: UserWarning: Your stop_words may be inconsistent with your preprocessing. Tokenizing the stop words generated tokens ['διότι', 'εὐρύπορος'] not in stop_words.\n",
      "  warnings.warn(\n"
     ]
    }
   ],
   "source": [
    "from sklearn.feature_extraction.text import TfidfVectorizer\n",
    "from sklearn.naive_bayes import MultinomialNB\n",
    "from sklearn.pipeline import make_pipeline\n",
    "\n",
    "nb_model = make_pipeline(TfidfVectorizer(tokenizer=greek_lemmatizer_tokenizer,stop_words=grc_stoplist), MultinomialNB())\n",
    "nb_model.fit(train_data, target_data)\n",
    "labels = nb_model.predict(test_data)"
   ]
  },
  {
   "cell_type": "code",
   "execution_count": null,
   "id": "3b983ef7-9328-4922-af22-70dee4dd7618",
   "metadata": {},
   "outputs": [],
   "source": []
  },
  {
   "cell_type": "markdown",
   "id": "80b8c11d-ff8b-45da-b5e3-333ec7d3eb13",
   "metadata": {},
   "source": [
    "## Performance of the model"
   ]
  },
  {
   "cell_type": "code",
   "execution_count": 183,
   "id": "678a7407-f7ce-4a15-bc3d-18921e94f3e7",
   "metadata": {},
   "outputs": [
    {
     "name": "stderr",
     "output_type": "stream",
     "text": [
      "/home/ludwig/projects/CM3060 Natural Language Proccesing/venv/lib/python3.8/site-packages/sklearn/metrics/_classification.py:1318: UndefinedMetricWarning: Precision and F-score are ill-defined and being set to 0.0 in labels with no predicted samples. Use `zero_division` parameter to control this behavior.\n",
      "  _warn_prf(average, modifier, msg_start, len(result))\n",
      "/home/ludwig/projects/CM3060 Natural Language Proccesing/venv/lib/python3.8/site-packages/sklearn/metrics/_classification.py:1318: UndefinedMetricWarning: Precision and F-score are ill-defined and being set to 0.0 in labels with no predicted samples. Use `zero_division` parameter to control this behavior.\n",
      "  _warn_prf(average, modifier, msg_start, len(result))\n",
      "/home/ludwig/projects/CM3060 Natural Language Proccesing/venv/lib/python3.8/site-packages/sklearn/metrics/_classification.py:1318: UndefinedMetricWarning: Precision and F-score are ill-defined and being set to 0.0 in labels with no predicted samples. Use `zero_division` parameter to control this behavior.\n",
      "  _warn_prf(average, modifier, msg_start, len(result))\n"
     ]
    },
    {
     "name": "stdout",
     "output_type": "stream",
     "text": [
      "                   precision    recall  f1-score   support\n",
      "\n",
      "           Pindar       0.00      0.00      0.00        13\n",
      "         Epicurus       0.00      0.00      0.00         2\n",
      "        Aeschylus       0.00      0.00      0.00        13\n",
      "        Pausanias       1.00      1.00      1.00        78\n",
      "            Plato       0.98      0.90      0.94        93\n",
      "         Xenophon       0.54      0.99      0.70        80\n",
      "           Hesiod       0.00      0.00      0.00         9\n",
      "        Aristotle       0.86      0.96      0.91        83\n",
      "     Aristophanes       1.00      0.56      0.71        36\n",
      "            Homer       0.68      1.00      0.81        80\n",
      "       Saint John       0.00      0.00      0.00         4\n",
      "             Luke       0.92      0.50      0.65        24\n",
      "Diogenes Laërtius       1.00      0.29      0.45        55\n",
      "\n",
      "         accuracy                           0.79       570\n",
      "        macro avg       0.54      0.48      0.47       570\n",
      "     weighted avg       0.79      0.79      0.75       570\n",
      "\n"
     ]
    },
    {
     "data": {
      "image/png": "[encoded data removed]",
      "text/plain": [
       "<Figure size 432x288 with 1 Axes>"
      ]
     },
     "metadata": {
      "needs_background": "light"
     },
     "output_type": "display_data"
    }
   ],
   "source": [
    "import seaborn as sns\n",
    "import matplotlib.pyplot as plt\n",
    "from sklearn.metrics import confusion_matrix\n",
    "mat = confusion_matrix(test_target_data, labels)\n",
    "sns.heatmap(mat.T, square=True, annot=True, fmt='d', cbar=False,\n",
    "            xticklabels=authors, yticklabels=authors)\n",
    "plt.xlabel('true label')\n",
    "plt.ylabel('predicted label');\n",
    "\n",
    "from sklearn.metrics import classification_report\n",
    "print(classification_report(test_target_data, labels, target_names=authors))"
   ]
  },
  {
   "cell_type": "code",
   "execution_count": 181,
   "id": "aa94a6c7-b31f-4b5c-8b43-42f61a79cae3",
   "metadata": {},
   "outputs": [
    {
     "name": "stderr",
     "output_type": "stream",
     "text": [
      "/home/ludwig/projects/CM3060 Natural Language Proccesing/venv/lib/python3.8/site-packages/sklearn/feature_extraction/text.py:396: UserWarning: Your stop_words may be inconsistent with your preprocessing. Tokenizing the stop words generated tokens ['διότι', 'εὐρύπορος'] not in stop_words.\n",
      "  warnings.warn(\n",
      "/home/ludwig/projects/CM3060 Natural Language Proccesing/venv/lib/python3.8/site-packages/sklearn/metrics/_classification.py:1318: UndefinedMetricWarning: Precision and F-score are ill-defined and being set to 0.0 in labels with no predicted samples. Use `zero_division` parameter to control this behavior.\n",
      "  _warn_prf(average, modifier, msg_start, len(result))\n",
      "/home/ludwig/projects/CM3060 Natural Language Proccesing/venv/lib/python3.8/site-packages/sklearn/metrics/_classification.py:1318: UndefinedMetricWarning: Precision and F-score are ill-defined and being set to 0.0 in labels with no predicted samples. Use `zero_division` parameter to control this behavior.\n",
      "  _warn_prf(average, modifier, msg_start, len(result))\n",
      "/home/ludwig/projects/CM3060 Natural Language Proccesing/venv/lib/python3.8/site-packages/sklearn/metrics/_classification.py:1318: UndefinedMetricWarning: Precision and F-score are ill-defined and being set to 0.0 in labels with no predicted samples. Use `zero_division` parameter to control this behavior.\n",
      "  _warn_prf(average, modifier, msg_start, len(result))\n"
     ]
    },
    {
     "name": "stdout",
     "output_type": "stream",
     "text": [
      "                   precision    recall  f1-score   support\n",
      "\n",
      "           Pindar       0.33      0.08      0.12        13\n",
      "         Epicurus       0.00      0.00      0.00         2\n",
      "        Aeschylus       0.92      0.92      0.92        13\n",
      "        Pausanias       0.97      0.99      0.98        78\n",
      "            Plato       1.00      0.94      0.97        93\n",
      "         Xenophon       0.90      0.99      0.94        80\n",
      "           Hesiod       0.00      0.00      0.00         9\n",
      "        Aristotle       0.86      0.99      0.92        83\n",
      "     Aristophanes       1.00      0.92      0.96        36\n",
      "            Homer       0.81      1.00      0.89        80\n",
      "       Saint John       1.00      1.00      1.00         4\n",
      "             Luke       1.00      0.96      0.98        24\n",
      "Diogenes Laërtius       0.96      0.78      0.86        55\n",
      "\n",
      "         accuracy                           0.91       570\n",
      "        macro avg       0.75      0.73      0.73       570\n",
      "     weighted avg       0.89      0.91      0.90       570\n",
      "\n"
     ]
    },
    {
     "data": {
      "image/png": "[encoded data removed]",
      "text/plain": [
       "<Figure size 432x288 with 1 Axes>"
      ]
     },
     "metadata": {
      "needs_background": "light"
     },
     "output_type": "display_data"
    }
   ],
   "source": [
    "from sklearn.feature_extraction.text import TfidfVectorizer\n",
    "from sklearn.naive_bayes import MultinomialNB\n",
    "from sklearn.pipeline import make_pipeline\n",
    "from sklearn.ensemble import RandomForestClassifier\n",
    "random_forest_model = make_pipeline(TfidfVectorizer(tokenizer=greek_lemmatizer_tokenizer,stop_words=grc_stoplist), RandomForestClassifier())\n",
    "random_forest_model.fit(train_data, target_data)\n",
    "labels = random_forest_model.predict(test_data)\n",
    "\n",
    "import seaborn as sns\n",
    "import matplotlib.pyplot as plt\n",
    "from sklearn.metrics import confusion_matrix\n",
    "mat = confusion_matrix(test_target_data, labels)\n",
    "sns.heatmap(mat.T, square=True, annot=True, fmt='d', cbar=False,\n",
    "            xticklabels=authors, yticklabels=authors)\n",
    "plt.xlabel('true label')\n",
    "plt.ylabel('predicted label');\n",
    "\n",
    "from sklearn.metrics import classification_report\n",
    "print(classification_report(test_target_data, labels, target_names=authors))"
   ]
  },
  {
   "cell_type": "code",
   "execution_count": 144,
   "id": "2c37caba-7eaf-4a1e-b948-2f1a7dbca0e2",
   "metadata": {},
   "outputs": [
    {
     "name": "stdout",
     "output_type": "stream",
     "text": [
      "[7]\n",
      "This work is attributed to  Aristotle\n"
     ]
    }
   ],
   "source": [
    "aristotle_sample = '''Διά τούτο σχεδόν οι πλείστοι των φιλοσοφούντων περί της φύσεως, και εκ των ιατρών εκείνοι, οίτινες αντιλαμβάνονται την τέχνην αυτών κατά τρόπον φιλοσοφικώτερον, εκείνοι μεν εκ της μελέτης της φύσεως καταντώσι τέλος εις την ιατρικήν, οι άλλοι δε αρχίζουσι την τέχνην εκ των νόμων της φύσεως και της εφαρμογής αυτών εις την ιατρικήν. 6. Ότι δε αι ρηθείσαι λειτουργίαι πάσαι είναι κοιναί και της ψυχής και του σώματος, είναι φανερόν. Διότι πάσαι συμβαίνουσιν, άλλαι ομού με την αίσθησιν {7} άλλαι δε διά της αισθήσεως {8}. Άλλαι μεν είναι παθήσεις της αισθήσεως, άλλαι δε είναι διαρκείς καταστάσεις αυτής, άλλαι είναι λειτουργίαι προς φύλαξιν και συντήρησιν αυτής {9} και άλλαι είναι φθοραί και στερήσεις αυτής {10}. Ότι δε η αίσθησις συμβαίνει εις την ψυχήν διά μέσου του σώματος, τούτο γίνεται φανερόν και διά του λόγου και άνευ του λόγου (διά της πείρας) {11}. 7. Αλλ' έχομεν είπει εν τη περί ψυχής πραγματεία τας θεωρίας ημών περί αισθήσεως και περί του αισθάνεσθαι και διατί συμβαίνει εις τα ζώα τούτο το πάθος. Έκαστον ζώον, καθό ζώον, πρέπει κατ' ανάγκην να έχη αίσθησιν• διά ταύτης διακρίνομεν το ζώον από παντός όπερ δεν είναι ζώον. 8. Πάντα δε τα ζώα, ατομικώς έκαστον έχουσιν εξ ανάγκης την αφήν και την γεύσιν, την μεν αφήν, διά την αιτίαν την οποίαν είπομεν εις την περί ψυχής πραγματείαν, {12} την δε γεύσιν διά την τροφήν. Διότι διά της γεύσεως διακρίνει το ευάρεστον και το δυσάρεστον εις τας τροφάς το ζώον, και ούτως αποφεύγει τας δυσάρεστους τροφάς, επιζητεί δε τας ευαρέστους, και εν γένει ο χυμός {13} είναι πάθος του θρεπτικού μέρους της ψυχής. 9. Αι δε αισθήσεις αι διεγειρόμεναι υπό των εξωτερικών πραγμάτων π.χ. η όσφρησις, η ακοή και η όψις, εις πάντα τα πορευτικά (κινούμενα) ζώα, τα έχοντα αυτάς, υπάρχουσι χάριν της συντηρήσεις των, όπως προαισθανόμενα την τροφήν επιδιώκωσιν αυτήν, φεύγωσι δε τα κακά και επιβλαβή. Εις δε τα ζώα, τα οποία έχουσι και νόησιν, αι αισθήσεις αυταί υπάρχουσι χάριν της ευζωίας• διότι γνωστοποιούσιν εις αυτά πολλάς διαφοράς των πραγμάτων, εξ ων προέρχεται η γνώσις εκείνων τα οποία δύνανται να νοηθώσι και εκείνων τα οποία πρέπει να πραχθώσι (των νοητών και των πρακτικών ιδεών). '''\n",
    "aristotle_sample_label = model.predict([aristotle_sample])\n",
    "print(aristotle_sample_label)\n",
    "print('This work is attributed to ',get_author_by_index(authors,aristotle_sample_label[0]))"
   ]
  },
  {
   "cell_type": "code",
   "execution_count": 145,
   "id": "aa28edc0-43c7-4294-81fd-04e3f4957320",
   "metadata": {},
   "outputs": [],
   "source": [
    "luke_sample = '''Ταῦτα δὲ αὐτῶν λαλούντων,.'''"
   ]
  },
  {
   "cell_type": "code",
   "execution_count": 146,
   "id": "10ff6bb3-5819-4ebb-a0e9-89d79d8df2d9",
   "metadata": {},
   "outputs": [
    {
     "name": "stdout",
     "output_type": "stream",
     "text": [
      "[11]\n",
      "This work is attributed to  Luke\n"
     ]
    }
   ],
   "source": [
    "luke_sample_label = model.predict([luke_sample])\n",
    "print(luke_sample_label)\n",
    "print('This work is attributed to ',get_author_by_index(authors,luke_sample_label[0]))"
   ]
  },
  {
   "cell_type": "code",
   "execution_count": 191,
   "id": "3064185a-3fc7-4ca8-950f-237a9a475819",
   "metadata": {},
   "outputs": [
    {
     "name": "stdout",
     "output_type": "stream",
     "text": [
      "╒═══════════════╤═════════════════╤═══════════════════╕\n",
      "│ Model         │ Homeric Hymns   │ Promeheus Bound   │\n",
      "╞═══════════════╪═════════════════╪═══════════════════╡\n",
      "│ Random Forest │ Homer           │ Aeschylus         │\n",
      "├───────────────┼─────────────────┼───────────────────┤\n",
      "│ Navie Bayes   │ Homer           │ Homer             │\n",
      "╘═══════════════╧═════════════════╧═══════════════════╛\n"
     ]
    }
   ],
   "source": [
    "from tabulate import tabulate\n",
    "def load_text(path):\n",
    "    with open(path,'r') as f:\n",
    "        text = f.read()\n",
    "    return text\n",
    "def clean_text(text):\n",
    "    text = re.sub('[0-9]','',text)\n",
    "    text = re.sub(\"[\\\\[\\\\]!._,'@?\\\\\\:;\\\\\\(\\\\)\\\\%\\\\—\\\\{\\\\}\\\\*\\\\<\\\\>\\\\--\\\\``\\\\&\\\\·\\\\«\\\\»]\",'',text)\n",
    "    text = re.sub(\"[\\\\n\\\\t]\",' ',text)\n",
    "    text = re.sub(\"[\\\\`\\\\`]\",'',text)\n",
    "    return text\n",
    "\n",
    "def predict_author(model,text):\n",
    "    return get_author_by_index(authors,model.predict([text])[0])\n",
    "\n",
    "homeric_hymns = load_text('./Testing Data/Homeric Hymns.txt')\n",
    "homeric_hymns = clean_text(homeric_hymns)\n",
    "homeric_hymns_author = predict_author(random_forest_model,homeric_hymns)\n",
    "\n",
    "\n",
    "promeheus = load_text('./Testing Data/Prometheus Bound.txt')\n",
    "promeheus = clean_text(promeheus_hymns)\n",
    "promeheus_author = predict_author(random_forest_model,promeheus_hymns)\n",
    "\n",
    "random_forest_result= ('Random Forest',homeric_hymns_author,promeheus_author)\n",
    "\n",
    "homeric_hymns_author = predict_author(nb_model,homeric_hymns)\n",
    "promeheus_author = predict_author(nb_model,promeheus_hymns)\n",
    "\n",
    "nb_result= ('Navie Bayes',homeric_hymns_author,promeheus_author)\n",
    "\n",
    "headers = [\"Model\",\"Homeric Hymns\",\"Promeheus Bound\"]\n",
    "print(tabulate([random_forest_result,nb_result],headers=headers,tablefmt='fancy_grid'))"
   ]
  },
  {
   "cell_type": "code",
   "execution_count": 147,
   "id": "48475d81-2098-42e0-8e02-fd18298a6b37",
   "metadata": {
    "collapsed": true,
    "jupyter": {
     "outputs_hidden": true
    },
    "tags": []
   },
   "outputs": [
    {
     "name": "stdout",
     "output_type": "stream",
     "text": [
      "Text Sample:\n",
      " Ὁμηρικοὶ ὕμνοι\n",
      "\n",
      "\n",
      "\t\t\t\t\tΆγνωστος\n",
      "\n",
      "\n",
      "\n",
      "\n",
      "\n",
      "εξάχθηκε από τη Βικιθήκη την 17 Ιουνίου 2022\n",
      "\n",
      "\n",
      "\n",
      "\n",
      "\n",
      "Ὁμηρικοὶ ὕμνοι\n",
      "\n",
      "Clean Text Sample:\n",
      " Ὁμηρικοὶ ὕμνοι        Άγνωστος      εξάχθηκε από τη Βικιθήκη την  Ιουνίου       Ὁμηρικοὶ ὕμνοι  Συγγ\n"
     ]
    }
   ],
   "source": [
    "import re\n",
    "with open('./Testing Data/Homeric Hymns.txt','r') as f:\n",
    "    homeric_hymns = f.read()\n",
    "print('Text Sample:\\n',homeric_hymns[:100])\n",
    "\n",
    "# Cleaning the text\n",
    "\n",
    "\n",
    "print('\\nClean Text Sample:\\n',homeric_hymns[:100])\n"
   ]
  },
  {
   "cell_type": "code",
   "execution_count": 148,
   "id": "ba953d1e-f667-4f1b-8783-a110e354c944",
   "metadata": {},
   "outputs": [
    {
     "name": "stdout",
     "output_type": "stream",
     "text": [
      "This work is attributed to  Homer\n"
     ]
    }
   ],
   "source": [
    "homeric_hymns_label = model.predict([homeric_hymns])\n",
    "print('This work is attributed to ',get_author_by_index(authors,homeric_hymns_label[0]))"
   ]
  },
  {
   "cell_type": "code",
   "execution_count": 177,
   "id": "4b6408af-9219-4f91-9292-1196244164b8",
   "metadata": {
    "collapsed": true,
    "jupyter": {
     "outputs_hidden": true
    },
    "tags": []
   },
   "outputs": [
    {
     "name": "stdout",
     "output_type": "stream",
     "text": [
      "Text Sample:\n",
      " Προμηθεὺς Δεσμώτης\n",
      "\n",
      "\n",
      "\t\t\t\t\tΑισχύλος\n",
      "\n",
      "\n",
      "\n",
      "\n",
      "\n",
      "εξάχθηκε από τη Βικιθήκη την 17 Ιουνίου 2022\n",
      "\n",
      "\n",
      "\n",
      "\n",
      "\n",
      "Προμηθεὺς \n",
      "\n",
      "Clean Text Sample:\n",
      " Προμηθεὺς Δεσμώτης        Αισχύλος      εξάχθηκε από τη Βικιθήκη την  Ιουνίου       Προμηθεὺς Δεσμώτ\n",
      "This work is attributed to  Aeschylus\n"
     ]
    }
   ],
   "source": [
    "import re\n",
    "with open('./Testing Data/Prometheus Bound.txt','r') as f:\n",
    "    homeric_hymns = f.read()\n",
    "print('Text Sample:\\n',homeric_hymns[:100])\n",
    "\n",
    "# Cleaning the text\n",
    "homeric_hymns = re.sub('[0-9]','',homeric_hymns)\n",
    "homeric_hymns = re.sub(\"[\\\\[\\\\]!._,'@?\\\\\\:;\\\\\\(\\\\)\\\\%\\\\—\\\\{\\\\}\\\\*\\\\<\\\\>\\\\--\\\\``\\\\&\\\\·\\\\«\\\\»]\",'',homeric_hymns)\n",
    "homeric_hymns = re.sub(\"[\\\\n\\\\t]\",' ',homeric_hymns)\n",
    "homeric_hymns = re.sub(\"[\\\\`\\\\`]\",'',homeric_hymns)\n",
    "\n",
    "print('\\nClean Text Sample:\\n',homeric_hymns[:100])\n",
    "\n",
    "homeric_hymns_label = model.predict([homeric_hymns])\n",
    "print('This work is attributed to ',get_author_by_index(authors,homeric_hymns_label[0]))"
   ]
  },
  {
   "cell_type": "code",
   "execution_count": 149,
   "id": "ff02a212-08d3-4a76-9db9-5193b557c423",
   "metadata": {},
   "outputs": [
    {
     "data": {
      "text/plain": [
       "array([[0.02, 0.  , 0.03, 0.  , 0.  , 0.02, 0.1 , 0.27, 0.12, 0.01, 0.  ,\n",
       "        0.33, 0.1 ]])"
      ]
     },
     "execution_count": 149,
     "metadata": {},
     "output_type": "execute_result"
    }
   ],
   "source": [
    "model.predict_proba([luke_sample])\n"
   ]
  },
  {
   "cell_type": "code",
   "execution_count": 150,
   "id": "cf3366a6-32a3-40e2-8db5-ae2695a68792",
   "metadata": {},
   "outputs": [],
   "source": [
    "def get_freq_dist_from_corpus(docs):\n",
    "    cgrc_stoplist = cltk.stops.grc.STOPS\n",
    "    cgrc_stoplist.extend(['να','και','το','τα','θα','τον','που','την','μου','τη','από','για',\n",
    "                        'κι','με','εις','του','είναι','των','της','ἦν','τους','τοῦτο','ταῦτα','ἐγώ',\n",
    "                        'δ\\'','δ᾽','δ’','σου','ἀλλ᾽','ἀλλ’','ἀλλά','ότι','δε','ο','η','ᾖ','ή','αὐτοῦ','φημί','λέγω','εἶπον','πᾶς''ἔχω','πολύς',\n",
    "    'ἐπεί','γ᾽'])\n",
    "    cgrc_stoplist = [greek_lemmatizer(stop) for stop in cgrc_stoplist]\n",
    "    corpus_string = ''\n",
    "    for doc in docs:\n",
    "        corpus_string+=doc\n",
    "    corpus_words = greek_lemmatizer_tokenizer(corpus_string)\n",
    "    clean_words = [word for word in corpus_words if word not in cgrc_stoplist]\n",
    "    freq_dist = nltk.probability.FreqDist(clean_words)\n",
    "    return freq_dist"
   ]
  },
  {
   "cell_type": "code",
   "execution_count": 151,
   "id": "e531824c-b1a1-4130-9484-35b27927b114",
   "metadata": {},
   "outputs": [
    {
     "data": {
      "image/png": "[encoded data removed]",
      "text/plain": [
       "<Figure size 432x288 with 1 Axes>"
      ]
     },
     "metadata": {
      "needs_background": "light"
     },
     "output_type": "display_data"
    },
    {
     "data": {
      "text/plain": [
       "[('γίγνομαι', 1132),\n",
       " ('δεν', 913),\n",
       " ('ἔχω', 747),\n",
       " ('οἷος', 686),\n",
       " ('ὅμοιος', 644),\n",
       " ('μεν', 578),\n",
       " ('δεῖ', 566),\n",
       " ('λόγος', 485),\n",
       " ('κοίτη', 456),\n",
       " ('φαίνω', 449),\n",
       " ('οι', 439),\n",
       " ('όμως', 435),\n",
       " ('διότι', 418),\n",
       " ('ὅσος', 409),\n",
       " ('μόνος', 408),\n",
       " ('μέγας', 401),\n",
       " ('πόλις', 397),\n",
       " ('προς', 393),\n",
       " ('δ', 388),\n",
       " ('εἷς', 388)]"
      ]
     },
     "execution_count": 151,
     "metadata": {},
     "output_type": "execute_result"
    }
   ],
   "source": [
    "aristotle_freq_dist = get_freq_dist_from_corpus(corpus['Aristotle'])\n",
    "aristotle_freq_dist.plot(10)\n",
    "aristotle_freq_dist.most_common(20)"
   ]
  },
  {
   "cell_type": "code",
   "execution_count": 152,
   "id": "ab5f2f6a-81e2-440b-bea6-40df7df4571f",
   "metadata": {},
   "outputs": [
    {
     "data": {
      "image/png": "[encoded data removed]",
      "text/plain": [
       "<Figure size 432x288 with 1 Axes>"
      ]
     },
     "metadata": {
      "needs_background": "light"
     },
     "output_type": "display_data"
    },
    {
     "data": {
      "text/plain": [
       "[('γίγνομαι', 1130),\n",
       " ('δεν', 899),\n",
       " ('πόλις', 797),\n",
       " ('ἔχω', 646),\n",
       " ('Σωκράτης', 625),\n",
       " ('λόγος', 622),\n",
       " ('καλός', 548),\n",
       " ('Ἀθηναῖος', 522),\n",
       " ('λοιπός', 463),\n",
       " ('Κλεινίας', 455)]"
      ]
     },
     "execution_count": 152,
     "metadata": {},
     "output_type": "execute_result"
    }
   ],
   "source": [
    "plato_freq_dist = get_freq_dist_from_corpus(corpus['Plato'])\n",
    "plato_freq_dist.plot(10)\n",
    "plato_freq_dist.most_common(10)"
   ]
  },
  {
   "cell_type": "code",
   "execution_count": 153,
   "id": "fe41a1e1-7434-40d8-9a9d-3ab69a1d4776",
   "metadata": {
    "tags": []
   },
   "outputs": [
    {
     "data": {
      "image/png": "[encoded data removed]",
      "text/plain": [
       "<Figure size 432x288 with 1 Axes>"
      ]
     },
     "metadata": {
      "needs_background": "light"
     },
     "output_type": "display_data"
    },
    {
     "data": {
      "text/plain": [
       "[('ἔχω', 1245),\n",
       " ('’', 1112),\n",
       " ('γίγνομαι', 963),\n",
       " ('δοκέω', 768),\n",
       " ('Κῦρος', 640),\n",
       " ('πόλις', 629),\n",
       " ('καλός', 586),\n",
       " ('βούλομαι', 542),\n",
       " ('ἀνήρ', 521),\n",
       " ('πολέμιος', 496),\n",
       " ('δ', 463),\n",
       " ('ἀγαθός', 453),\n",
       " ('δύναμαι', 449),\n",
       " ('λαμβάνω', 449),\n",
       " ('ὁράω', 436),\n",
       " ('δεῖ', 413),\n",
       " ('ἄνθρωπος', 403),\n",
       " ('ἐκεῖνος', 401),\n",
       " ('οἶδα', 395),\n",
       " ('νῦν', 377)]"
      ]
     },
     "execution_count": 153,
     "metadata": {},
     "output_type": "execute_result"
    }
   ],
   "source": [
    "xenophon_freq_dist = get_freq_dist_from_corpus(corpus['Xenophon'])\n",
    "xenophon_freq_dist.plot(10)\n",
    "xenophon_freq_dist.most_common(20)"
   ]
  },
  {
   "cell_type": "code",
   "execution_count": 154,
   "id": "bcd71445-aaf2-4b96-9728-5f8910ac6a23",
   "metadata": {},
   "outputs": [],
   "source": [
    "for doc in corpus['Xenophon']:\n",
    "    if 'punc' in doc:\n",
    "        print('true')\n",
    "        break"
   ]
  },
  {
   "cell_type": "code",
   "execution_count": 155,
   "id": "0af8c2f9-fe77-4662-874a-f774ef41053b",
   "metadata": {},
   "outputs": [
    {
     "data": {
      "image/png": "[encoded data removed]",
      "text/plain": [
       "<Figure size 432x288 with 1 Axes>"
      ]
     },
     "metadata": {
      "needs_background": "light"
     },
     "output_type": "display_data"
    },
    {
     "data": {
      "text/plain": [
       "[('’', 448),\n",
       " ('γίγνομαι', 348),\n",
       " ('ἡμέρα', 251),\n",
       " ('ἔρχομαι', 212),\n",
       " ('ἀκούω', 199),\n",
       " ('ἄνθρωπος', 192),\n",
       " ('ἀνήρ', 191),\n",
       " ('Θεοῦ', 190),\n",
       " ('ἔχω', 179),\n",
       " ('εἶδον', 170),\n",
       " ('λόγος', 136),\n",
       " ('υἱός', 132),\n",
       " ('λαός', 128),\n",
       " ('λαλέω', 126),\n",
       " ('πορεύω', 122),\n",
       " ('δίδωμι', 122),\n",
       " ('εἰσέρχομαι', 122),\n",
       " ('πόλις', 122),\n",
       " ('ὄνομα', 122),\n",
       " ('πατήρ', 121)]"
      ]
     },
     "execution_count": 155,
     "metadata": {},
     "output_type": "execute_result"
    }
   ],
   "source": [
    "luke_freq_dist = get_freq_dist_from_corpus(corpus['Luke'])\n",
    "luke_freq_dist.plot(10)\n",
    "luke_freq_dist.most_common(20)"
   ]
  },
  {
   "cell_type": "code",
   "execution_count": 156,
   "id": "0e83f5a8-f934-4944-ab76-247767229d69",
   "metadata": {},
   "outputs": [
    {
     "data": {
      "image/png": "[encoded data removed]",
      "text/plain": [
       "<Figure size 432x288 with 1 Axes>"
      ]
     },
     "metadata": {
      "needs_background": "light"
     },
     "output_type": "display_data"
    },
    {
     "data": {
      "text/plain": [
       "[('’', 1250),\n",
       " ('δεν', 346),\n",
       " ('ἀνήρ', 341),\n",
       " ('ΠΕΙΣΘΕΤΑΙΡΟΣ', 305),\n",
       " ('Διόνυσος', 280),\n",
       " ('Εὐριπίδης', 274),\n",
       " ('ἔχω', 262),\n",
       " ('μας', 232),\n",
       " ('ΧΟΡΟΣ', 229),\n",
       " ('θεός', 225),\n",
       " ('Α', 218),\n",
       " ('Δικ', 207),\n",
       " ('Χρεμύλος', 203),\n",
       " ('νῦν', 197),\n",
       " ('Ζεύς', 178),\n",
       " ('λαμβάνω', 177),\n",
       " ('πόλις', 177),\n",
       " ('ΑΛΛΑΝΤΟΠΩΛΗΣ', 175),\n",
       " ('νή', 174),\n",
       " ('Μνησίλοχος', 167)]"
      ]
     },
     "execution_count": 156,
     "metadata": {},
     "output_type": "execute_result"
    }
   ],
   "source": [
    "aristophanes_freq_dist = get_freq_dist_from_corpus(corpus['Aristophanes'])\n",
    "aristophanes_freq_dist.plot(10)\n",
    "aristophanes_freq_dist.most_common(20)"
   ]
  },
  {
   "cell_type": "code",
   "execution_count": 157,
   "id": "6f7131e4-a0c3-43ca-a031-c5d7ad08c3c3",
   "metadata": {},
   "outputs": [
    {
     "data": {
      "text/plain": [
       "{'λαμβάνω', 'νῦν', 'πόλις', 'ἀνήρ', 'ἔχω', '’'}"
      ]
     },
     "execution_count": 157,
     "metadata": {},
     "output_type": "execute_result"
    }
   ],
   "source": [
    "set([e[0] for e in aristophanes_freq_dist.most_common(20)]).intersection(set([e[0] for e in xenophon_freq_dist.most_common(20)]))"
   ]
  },
  {
   "cell_type": "code",
   "execution_count": null,
   "id": "7b41aa7e-1520-47be-af56-f5fa9bd86fb3",
   "metadata": {
    "tags": []
   },
   "outputs": [],
   "source": []
  },
  {
   "cell_type": "code",
   "execution_count": 158,
   "id": "b853f3be-03b4-45a2-b20d-0dbf739f4634",
   "metadata": {
    "tags": []
   },
   "outputs": [
    {
     "data": {
      "image/png": "[encoded data removed]",
      "text/plain": [
       "<Figure size 432x288 with 1 Axes>"
      ]
     },
     "metadata": {
      "needs_background": "light"
     },
     "output_type": "display_data"
    },
    {
     "data": {
      "text/plain": [
       "[('δ', 447),\n",
       " ('τ', 141),\n",
       " ('ἀνήρ', 131),\n",
       " ('θεός', 90),\n",
       " ('νιν', 87),\n",
       " ('Ζεύς', 84),\n",
       " ('ἔχω', 82),\n",
       " ('παῖς', 81),\n",
       " ('στρ', 60),\n",
       " ('μέγας', 53),\n",
       " ('χείρ', 50),\n",
       " ('αντ', 50),\n",
       " ('πατήρ', 49),\n",
       " ('λόγος', 48),\n",
       " ('ἀλλ', 47),\n",
       " ('ἔρχομαι', 47),\n",
       " ('επωδή', 47),\n",
       " ('καλός', 45),\n",
       " ('ἀμφί', 45),\n",
       " ('φέρω', 44)]"
      ]
     },
     "execution_count": 158,
     "metadata": {},
     "output_type": "execute_result"
    }
   ],
   "source": [
    "aristophanes_freq_dist = get_freq_dist_from_corpus(corpus['Pindar'])\n",
    "aristophanes_freq_dist.plot(10)\n",
    "aristophanes_freq_dist.most_common(20)"
   ]
  },
  {
   "cell_type": "code",
   "execution_count": 159,
   "id": "0864a256-4a6b-4cb5-af4e-14e5c4151fed",
   "metadata": {},
   "outputs": [
    {
     "data": {
      "image/png": "[encoded data removed]",
      "text/plain": [
       "<Figure size 432x288 with 1 Axes>"
      ]
     },
     "metadata": {
      "needs_background": "light"
     },
     "output_type": "display_data"
    },
    {
     "data": {
      "text/plain": [
       "[('’', 6297),\n",
       " ('δ', 2792),\n",
       " ('τ', 1108),\n",
       " ('ἀνήρ', 1016),\n",
       " ('ναῦς', 990),\n",
       " ('ἀτάρ', 867),\n",
       " ('θεός', 760),\n",
       " ('θυμός', 755),\n",
       " ('νῦν', 739),\n",
       " ('Ἀχαιός', 723),\n",
       " ('Ὀδυσσεύς', 720),\n",
       " ('ἔρχομαι', 708),\n",
       " ('ἔχω', 707),\n",
       " ('Ζεύς', 706),\n",
       " ('φίλος', 657),\n",
       " ('μέγας', 648),\n",
       " ('Τρώς', 637),\n",
       " ('υἱός', 612),\n",
       " ('χείρ', 609),\n",
       " ('δίδωμι', 465)]"
      ]
     },
     "execution_count": 159,
     "metadata": {},
     "output_type": "execute_result"
    }
   ],
   "source": [
    "aristophanes_freq_dist = get_freq_dist_from_corpus(corpus['Homer'])\n",
    "aristophanes_freq_dist.plot(10)\n",
    "aristophanes_freq_dist.most_common(20)"
   ]
  },
  {
   "cell_type": "code",
   "execution_count": 160,
   "id": "d0a140ed-e99d-4925-b244-14d2c493ad4f",
   "metadata": {},
   "outputs": [
    {
     "data": {
      "text/plain": [
       "'και'"
      ]
     },
     "execution_count": 160,
     "metadata": {},
     "output_type": "execute_result"
    }
   ],
   "source": [
    "'Και'.lower()"
   ]
  },
  {
   "cell_type": "code",
   "execution_count": 161,
   "id": "b3be3587-d971-4a1c-af52-8d540b8f351c",
   "metadata": {},
   "outputs": [],
   "source": [
    "# from cltk.embeddings.processes import  GreekEmbeddingsProcess\n",
    "# from cltk.core.data_types import Doc\n",
    "# grc_emd = GreekEmbeddingsProcess()\n",
    "# grc_emd.run(input_doc=Doc(raw=corpus['Plato'][0]))\n"
   ]
  },
  {
   "cell_type": "code",
   "execution_count": 162,
   "id": "278c290b-4601-462c-b602-77a1b25c5154",
   "metadata": {
    "tags": []
   },
   "outputs": [
    {
     "name": "stdout",
     "output_type": "stream",
     "text": [
      "``\n",
      "''\n",
      "``\n",
      "''\n",
      "``\n",
      "''\n",
      "``\n",
      "''\n",
      "``\n",
      "''\n",
      "``\n",
      "''\n",
      "``\n",
      "''\n",
      "``\n",
      "''\n",
      "''\n",
      "``\n",
      "''\n",
      "``\n",
      "''\n",
      "``\n",
      "''\n",
      "``\n",
      "''\n",
      "``\n",
      "''\n",
      "``\n",
      "''\n",
      "``\n",
      "''\n",
      "``\n",
      "''\n",
      "``\n",
      "''\n",
      "``\n",
      "''\n",
      "``\n",
      "''\n",
      "``\n",
      "''\n",
      "``\n",
      "''\n",
      "``\n",
      "''\n",
      "``\n",
      "''\n",
      "``\n",
      "''\n",
      "``\n",
      "''\n",
      "``\n",
      "''\n",
      "``\n",
      "''\n",
      "``\n",
      "''\n",
      "``\n",
      "''\n",
      "``\n",
      "''\n",
      "``\n",
      "''\n",
      "``\n",
      "''\n",
      "``\n",
      "''\n",
      "``\n",
      "''\n",
      "``\n",
      "''\n",
      "``\n",
      "''\n",
      "``\n",
      "''\n",
      "''\n",
      "``\n",
      "''\n",
      "``\n",
      "''\n",
      "``\n",
      "''\n",
      "``\n",
      "''\n",
      "``\n",
      "''\n",
      "``\n",
      "''\n",
      "``\n",
      "''\n",
      "``\n",
      "''\n",
      "``\n",
      "''\n",
      "``\n",
      "''\n",
      "``\n",
      "''\n",
      "``\n",
      "''\n",
      "``\n",
      "''\n",
      "``\n",
      "''\n",
      "``\n",
      "''\n",
      "``\n",
      "''\n",
      "``\n",
      "''\n",
      "``\n",
      "''\n",
      "``\n",
      "''\n",
      "``\n",
      "''\n",
      "``\n",
      "''\n",
      "``\n",
      "''\n",
      "``\n",
      "''\n",
      "``\n",
      "''\n",
      "``\n",
      "''\n",
      "``\n",
      "''\n",
      "``\n",
      "''\n",
      "``\n",
      "''\n",
      "``\n",
      "''\n",
      "``\n",
      "''\n",
      "``\n",
      "''\n",
      "``\n",
      "''\n",
      "``\n",
      "''\n",
      "``\n",
      "''\n",
      "``\n",
      "``\n",
      "''\n",
      "``\n",
      "''\n",
      "``\n",
      "''\n",
      "``\n",
      "''\n",
      "``\n",
      "''\n",
      "``\n",
      "''\n",
      "``\n",
      "''\n",
      "``\n",
      "''\n",
      "``\n",
      "''\n",
      "''\n",
      "``\n",
      "''\n",
      "``\n",
      "''\n",
      "``\n",
      "''\n",
      "``\n",
      "``\n",
      "''\n",
      "``\n",
      "''\n",
      "``\n",
      "''\n",
      "``\n",
      "''\n",
      "``\n",
      "''\n",
      "``\n",
      "''\n",
      "``\n"
     ]
    }
   ],
   "source": [
    "x_string = ''\n",
    "for doc in corpus['Aristotle']:\n",
    "    x_string+=doc\n",
    "tokenized_words = greek_tokenizer(x_string)\n",
    "for word in tokenized_words:\n",
    "    if lemmatizer.lemmatize(word)[0][1] =='punc':\n",
    "        print(word)"
   ]
  },
  {
   "cell_type": "code",
   "execution_count": 163,
   "id": "88d70d82-434e-41ae-9f3b-94bc77331bab",
   "metadata": {},
   "outputs": [],
   "source": [
    "from sklearn.base import BaseEstimator,TransformerMixin\n",
    "from nltk.tokenize import sent_tokenize\n",
    "import pandas as pd\n",
    "import numpy as np\n",
    "class CountSentenceLengthDictVectorizer(BaseEstimator,TransformerMixin):\n",
    "    def __init__(self):\n",
    "        pass\n",
    "    def fit(self,X,y):\n",
    "        return self\n",
    "    def transform(self,text_list):\n",
    "        author_sent_length_dict = {}\n",
    "        for author,docs in text_list.items():\n",
    "            for doc in docs:\n",
    "                \n",
    "                author_sent_length_dict[author] = [np.mean([len(sent) for sent in sent_tokenize(doc)])]\n",
    "        return author_sent_length_dict"
   ]
  },
  {
   "cell_type": "code",
   "execution_count": 164,
   "id": "6478bc4a-8ca6-4d93-9c5b-7f72b8335c1a",
   "metadata": {},
   "outputs": [],
   "source": [
    "from sklearn.base import BaseEstimator,TransformerMixin\n",
    "from nltk.tokenize import sent_tokenize\n",
    "import pandas as pd\n",
    "import numpy as np\n",
    "class CountLineLengthDictVectorizer(BaseEstimator,TransformerMixin):\n",
    "    def __init__(self):\n",
    "        pass\n",
    "    def fit(self,X,y):\n",
    "        return self\n",
    "    def transform(self,text_list):\n",
    "        author_sent_length_dict = {}\n",
    "        for author,docs in text_list.items():\n",
    "            for doc in docs:\n",
    "                author_sent_length_dict[author] = [np.mean([len(line) for line in doc.split('\\n')])]\n",
    "        return author_sent_length_dict"
   ]
  },
  {
   "cell_type": "code",
   "execution_count": 165,
   "id": "8ecbda78-c642-437c-89b1-38b819982043",
   "metadata": {},
   "outputs": [
    {
     "data": {
      "text/plain": [
       "{'Pindar': [20.410106899902818],\n",
       " 'Epicurus': [103.57142857142857],\n",
       " 'Aeschylus': [17.09278350515464],\n",
       " 'Pausanias': [222.9453951163238],\n",
       " 'Plato': [359.7991967871486],\n",
       " 'Xenophon': [284.6373626373626],\n",
       " 'Hesiod': [20.30647291941876],\n",
       " 'Aristotle': [238.65293383270912],\n",
       " 'Aristophanes': [24.51397174254317],\n",
       " 'Homer': [21.05632561249924],\n",
       " 'Saint John': [438.5373831775701],\n",
       " 'Luke': [355.57549857549856],\n",
       " 'Diogenes Laërtius': [61.829310947883876]}"
      ]
     },
     "execution_count": 165,
     "metadata": {},
     "output_type": "execute_result"
    }
   ],
   "source": [
    "cv = CountLineLengthDictVectorizer()\n",
    "cv.transform(corpus_dict)"
   ]
  },
  {
   "cell_type": "code",
   "execution_count": 166,
   "id": "e951f70c-14a3-4d09-90cb-2ff2a5fdaad6",
   "metadata": {
    "tags": []
   },
   "outputs": [],
   "source": [
    "from sklearn.base import BaseEstimator,TransformerMixin\n",
    "from nltk.tokenize import sent_tokenize\n",
    "import pandas as pd\n",
    "import numpy as np\n",
    "class CountSentenceLengthVectorizer(BaseEstimator,TransformerMixin):\n",
    "    def __init__(self):\n",
    "        pass\n",
    "    def fit(self,X,y=None):\n",
    "        self.X=X\n",
    "        self.y=y\n",
    "        return self\n",
    "    def transform(self,X):\n",
    "        y=self.y\n",
    "        result=[]\n",
    "\n",
    "        for i in range(len(X)):\n",
    "            doc = X[i]\n",
    "            author = y[i]\n",
    "            sent_lengths=[]\n",
    "            for sent in sent_tokenize(doc):\n",
    "                sent_lengths.append(len(sent))\n",
    "            result.append([np.mean(sent_lengths)])\n",
    "        #return pd.DataFrame(author_avg_sent_length_dict).to_numpy().transpose()\n",
    "        return result"
   ]
  },
  {
   "cell_type": "code",
   "execution_count": 167,
   "id": "5f89be53-29ec-4807-a088-cb39c4485644",
   "metadata": {},
   "outputs": [],
   "source": [
    "from sklearn.base import BaseEstimator,TransformerMixin\n",
    "from nltk.tokenize import sent_tokenize\n",
    "import pandas as pd\n",
    "import numpy as np\n",
    "class CountLineLengthVectorizer(BaseEstimator,TransformerMixin):\n",
    "    def __init__(self):\n",
    "        pass\n",
    "    def fit(self,X,y=None):\n",
    "        self.X=X\n",
    "        self.y=y\n",
    "        return self\n",
    "    def transform(self,X):\n",
    "        y=self.y\n",
    "        result=[]\n",
    "\n",
    "        for i in range(len(X)):\n",
    "            doc = X[i]\n",
    "            author = y[i]\n",
    "            line_lengths=[]\n",
    "            for line in doc.split('\\n'):\n",
    "                if line != '':\n",
    "                    line_lengths.append(len(line))\n",
    "            result.append([np.mean(line_lengths)])\n",
    "        #return pd.DataFrame(author_avg_sent_length_dict).to_numpy().transpose()\n",
    "        return result"
   ]
  },
  {
   "cell_type": "code",
   "execution_count": null,
   "id": "d18df168-6560-412e-8dd1-dd77e2e20f3c",
   "metadata": {},
   "outputs": [],
   "source": []
  },
  {
   "cell_type": "code",
   "execution_count": 168,
   "id": "91e82b2b-398d-434e-8d8e-ff95a93a62b7",
   "metadata": {},
   "outputs": [],
   "source": [
    "# from sklearn.base import BaseEstimator,TransformerMixin\n",
    "# from nltk.tokenize import sent_tokenize\n",
    "# import pandas as pd\n",
    "# import numpy as np\n",
    "# class CountLineLengthVectorizer(BaseEstimator,TransformerMixin):\n",
    "#     def __init__(self):\n",
    "#         pass\n",
    "#     def fit(self,X,y=None):\n",
    "#         self.X=X\n",
    "#         self.y=y\n",
    "#         return self\n",
    "#     def transform(self,X):\n",
    "#         y=self.y\n",
    "#         result=[]\n",
    "\n",
    "#         for i in range(len(X)):\n",
    "#             doc = X[i]\n",
    "#             author = y[i]\n",
    "#             line_lengths=[]\n",
    "#             for line in doc.split('\\n'):\n",
    "#                 if line != '':\n",
    "#                     line_lengths.append(len(line))\n",
    "#             result.append(line_lengths)\n",
    "#         #return pd.DataFrame(author_avg_sent_length_dict).to_numpy().transpose()\n",
    "#         return result"
   ]
  },
  {
   "cell_type": "code",
   "execution_count": 169,
   "id": "4cf095ab-cf9d-4945-bf3d-fb2c4123f4d8",
   "metadata": {},
   "outputs": [],
   "source": [
    "from sklearn.base import BaseEstimator,TransformerMixin\n",
    "from nltk.tokenize import sent_tokenize\n",
    "import pandas as pd\n",
    "import numpy as np\n",
    "class CountParticleVectorizer(BaseEstimator,TransformerMixin):\n",
    "    def __init__(self):\n",
    "        pass\n",
    "    def fit(self,X,y=None):\n",
    "        self.X=X\n",
    "        self.y=y\n",
    "        return self\n",
    "    def transform(self,X):\n",
    "        y=self.y\n",
    "        result=[]\n",
    "\n",
    "        for i in range(len(X)):\n",
    "            doc = X[i]\n",
    "            author = y[i]\n",
    "            line_lengths=[]\n",
    "            for line in doc.split('\\n'):\n",
    "                if line != '':\n",
    "                    line_lengths.append(len(line))\n",
    "            result.append([np.mean(line_lengths)])\n",
    "        #return pd.DataFrame(author_avg_sent_length_dict).to_numpy().transpose()\n",
    "        return result"
   ]
  },
  {
   "cell_type": "code",
   "execution_count": 170,
   "id": "6fb9b33e-023f-4243-9f87-7cc086e9de10",
   "metadata": {
    "tags": []
   },
   "outputs": [
    {
     "name": "stdout",
     "output_type": "stream",
     "text": [
      "Pindar  has  30  text\n",
      "Epicurus  has  4  text\n",
      "Aeschylus  has  46  text\n",
      "Pausanias  has  234  text\n",
      "Plato  has  394  text\n",
      "Xenophon  has  404  text\n",
      "Hesiod  has  24  text\n",
      "Aristotle  has  333  text\n",
      "Aristophanes  has  116  text\n",
      "Homer  has  261  text\n",
      "Saint John  has  24  text\n",
      "Luke  has  51  text\n",
      "Diogenes Laërtius  has  144  text\n"
     ]
    }
   ],
   "source": [
    "corpus_dict = get_corpus_dict_from_dir('./raw text')\n",
    "import textwrap\n",
    "#textwrap.wrap(cdict['Aristotle'][0], 5000)[0]\n",
    "corpus = {}\n",
    "chunk_size = 5000\n",
    "\n",
    "for author,docs in corpus_dict.items():\n",
    "    for doc in docs:\n",
    "        if corpus.get(author) is None:\n",
    "            corpus[author] = []\n",
    "        corpus[author] += textwrap.wrap(doc,chunk_size,break_long_words=False,replace_whitespace=False)\n",
    "\n",
    "for author,docs in corpus.items():\n",
    "    print(author, ' has ', len(docs),' text')"
   ]
  },
  {
   "cell_type": "code",
   "execution_count": 171,
   "id": "2b05c6e7-5595-436c-9b55-daad2e44957c",
   "metadata": {
    "tags": []
   },
   "outputs": [
    {
     "name": "stdout",
     "output_type": "stream",
     "text": [
      "There are  2065  data\n"
     ]
    }
   ],
   "source": [
    "all_train_data = []\n",
    "all_target_data = []\n",
    "for author,docs in corpus.items():\n",
    "    for doc in docs:\n",
    "        all_train_data.append(doc)\n",
    "        all_target_data.append(authors.index(author))\n",
    "print('There are ', len(all_train_data),' data')"
   ]
  },
  {
   "cell_type": "code",
   "execution_count": 172,
   "id": "ae3ef4b6-b908-41d4-b02b-a32e21979b11",
   "metadata": {
    "tags": []
   },
   "outputs": [
    {
     "data": {
      "text/html": [
       "<div>\n",
       "<style scoped>\n",
       "    .dataframe tbody tr th:only-of-type {\n",
       "        vertical-align: middle;\n",
       "    }\n",
       "\n",
       "    .dataframe tbody tr th {\n",
       "        vertical-align: top;\n",
       "    }\n",
       "\n",
       "    .dataframe thead th {\n",
       "        text-align: right;\n",
       "    }\n",
       "</style>\n",
       "<table border=\"1\" class=\"dataframe\">\n",
       "  <thead>\n",
       "    <tr style=\"text-align: right;\">\n",
       "      <th></th>\n",
       "      <th>0</th>\n",
       "    </tr>\n",
       "  </thead>\n",
       "  <tbody>\n",
       "    <tr>\n",
       "      <th>0</th>\n",
       "      <td>39.090909</td>\n",
       "    </tr>\n",
       "    <tr>\n",
       "      <th>1</th>\n",
       "      <td>39.633333</td>\n",
       "    </tr>\n",
       "    <tr>\n",
       "      <th>2</th>\n",
       "      <td>42.936937</td>\n",
       "    </tr>\n",
       "    <tr>\n",
       "      <th>3</th>\n",
       "      <td>39.297521</td>\n",
       "    </tr>\n",
       "    <tr>\n",
       "      <th>4</th>\n",
       "      <td>45.932692</td>\n",
       "    </tr>\n",
       "    <tr>\n",
       "      <th>...</th>\n",
       "      <td>...</td>\n",
       "    </tr>\n",
       "    <tr>\n",
       "      <th>2060</th>\n",
       "      <td>331.466667</td>\n",
       "    </tr>\n",
       "    <tr>\n",
       "      <th>2061</th>\n",
       "      <td>330.933333</td>\n",
       "    </tr>\n",
       "    <tr>\n",
       "      <th>2062</th>\n",
       "      <td>292.176471</td>\n",
       "    </tr>\n",
       "    <tr>\n",
       "      <th>2063</th>\n",
       "      <td>190.384615</td>\n",
       "    </tr>\n",
       "    <tr>\n",
       "      <th>2064</th>\n",
       "      <td>174.681818</td>\n",
       "    </tr>\n",
       "  </tbody>\n",
       "</table>\n",
       "<p>2065 rows × 1 columns</p>\n",
       "</div>"
      ],
      "text/plain": [
       "               0\n",
       "0      39.090909\n",
       "1      39.633333\n",
       "2      42.936937\n",
       "3      39.297521\n",
       "4      45.932692\n",
       "...          ...\n",
       "2060  331.466667\n",
       "2061  330.933333\n",
       "2062  292.176471\n",
       "2063  190.384615\n",
       "2064  174.681818\n",
       "\n",
       "[2065 rows x 1 columns]"
      ]
     },
     "execution_count": 172,
     "metadata": {},
     "output_type": "execute_result"
    }
   ],
   "source": [
    "cv = CountLineLengthVectorizer()\n",
    "cv.fit(all_train_data,all_target_data)\n",
    "df = pd.DataFrame(cv.transform(all_train_data))\n",
    "df"
   ]
  },
  {
   "cell_type": "code",
   "execution_count": 173,
   "id": "e6a1f76b-1f58-4463-9f91-7b0b5880567f",
   "metadata": {
    "jupyter": {
     "source_hidden": true
    },
    "tags": []
   },
   "outputs": [
    {
     "data": {
      "text/html": [
       "<div>\n",
       "<style scoped>\n",
       "    .dataframe tbody tr th:only-of-type {\n",
       "        vertical-align: middle;\n",
       "    }\n",
       "\n",
       "    .dataframe tbody tr th {\n",
       "        vertical-align: top;\n",
       "    }\n",
       "\n",
       "    .dataframe thead th {\n",
       "        text-align: right;\n",
       "    }\n",
       "</style>\n",
       "<table border=\"1\" class=\"dataframe\">\n",
       "  <thead>\n",
       "    <tr style=\"text-align: right;\">\n",
       "      <th></th>\n",
       "      <th>0</th>\n",
       "    </tr>\n",
       "  </thead>\n",
       "  <tbody>\n",
       "    <tr>\n",
       "      <th>0</th>\n",
       "      <td>39.090909</td>\n",
       "    </tr>\n",
       "    <tr>\n",
       "      <th>1</th>\n",
       "      <td>39.633333</td>\n",
       "    </tr>\n",
       "    <tr>\n",
       "      <th>2</th>\n",
       "      <td>42.936937</td>\n",
       "    </tr>\n",
       "    <tr>\n",
       "      <th>3</th>\n",
       "      <td>39.297521</td>\n",
       "    </tr>\n",
       "    <tr>\n",
       "      <th>4</th>\n",
       "      <td>45.932692</td>\n",
       "    </tr>\n",
       "    <tr>\n",
       "      <th>...</th>\n",
       "      <td>...</td>\n",
       "    </tr>\n",
       "    <tr>\n",
       "      <th>2060</th>\n",
       "      <td>331.466667</td>\n",
       "    </tr>\n",
       "    <tr>\n",
       "      <th>2061</th>\n",
       "      <td>330.933333</td>\n",
       "    </tr>\n",
       "    <tr>\n",
       "      <th>2062</th>\n",
       "      <td>292.176471</td>\n",
       "    </tr>\n",
       "    <tr>\n",
       "      <th>2063</th>\n",
       "      <td>190.384615</td>\n",
       "    </tr>\n",
       "    <tr>\n",
       "      <th>2064</th>\n",
       "      <td>174.681818</td>\n",
       "    </tr>\n",
       "  </tbody>\n",
       "</table>\n",
       "<p>2065 rows × 1 columns</p>\n",
       "</div>"
      ],
      "text/plain": [
       "               0\n",
       "0      39.090909\n",
       "1      39.633333\n",
       "2      42.936937\n",
       "3      39.297521\n",
       "4      45.932692\n",
       "...          ...\n",
       "2060  331.466667\n",
       "2061  330.933333\n",
       "2062  292.176471\n",
       "2063  190.384615\n",
       "2064  174.681818\n",
       "\n",
       "[2065 rows x 1 columns]"
      ]
     },
     "execution_count": 173,
     "metadata": {},
     "output_type": "execute_result"
    }
   ],
   "source": [
    "df"
   ]
  },
  {
   "cell_type": "code",
   "execution_count": 174,
   "id": "e4ee1157-e99d-404b-a95e-a1d7ae2cdec7",
   "metadata": {
    "jupyter": {
     "source_hidden": true
    },
    "tags": []
   },
   "outputs": [
    {
     "data": {
      "text/plain": [
       "123.5"
      ]
     },
     "execution_count": 174,
     "metadata": {},
     "output_type": "execute_result"
    }
   ],
   "source": [
    "len_list = []\n",
    "for sent in sent_tokenize(corpus['Plato'][0]):\n",
    "    len_list.append(len(sent))\n",
    "np.mean(len_list)"
   ]
  },
  {
   "cell_type": "code",
   "execution_count": 175,
   "id": "2c870c98-d269-49cd-bab5-c4419ada100f",
   "metadata": {
    "tags": []
   },
   "outputs": [
    {
     "name": "stdout",
     "output_type": "stream",
     "text": [
      "                   precision    recall  f1-score   support\n",
      "\n",
      "           Pindar       0.09      0.08      0.08        13\n",
      "         Epicurus       0.00      0.00      0.00         2\n",
      "        Aeschylus       0.19      0.23      0.21        13\n",
      "        Pausanias       0.32      0.44      0.37        78\n",
      "            Plato       0.17      0.17      0.17        93\n",
      "         Xenophon       0.32      0.39      0.35        80\n",
      "           Hesiod       0.00      0.00      0.00         9\n",
      "        Aristotle       0.15      0.11      0.12        83\n",
      "     Aristophanes       0.11      0.06      0.07        36\n",
      "            Homer       0.43      0.46      0.45        80\n",
      "       Saint John       0.00      0.00      0.00         4\n",
      "             Luke       0.20      0.29      0.24        24\n",
      "Diogenes Laërtius       0.14      0.07      0.10        55\n",
      "\n",
      "         accuracy                           0.25       570\n",
      "        macro avg       0.16      0.18      0.17       570\n",
      "     weighted avg       0.23      0.25      0.24       570\n",
      "\n"
     ]
    },
    {
     "data": {
      "image/png": "[encoded data removed]",
      "text/plain": [
       "<Figure size 432x288 with 1 Axes>"
      ]
     },
     "metadata": {
      "needs_background": "light"
     },
     "output_type": "display_data"
    }
   ],
   "source": [
    "from sklearn.feature_extraction.text import TfidfVectorizer\n",
    "from sklearn.naive_bayes import MultinomialNB,CategoricalNB\n",
    "from sklearn.pipeline import make_pipeline\n",
    "from sklearn.ensemble import RandomForestClassifier\n",
    "\n",
    "new_model = make_pipeline(CountLineLengthVectorizer(), RandomForestClassifier())\n",
    "new_model.fit(X=train_data, y=target_data)\n",
    "labels = new_model.predict(test_data)\n",
    "\n",
    "import seaborn as sns\n",
    "import matplotlib.pyplot as plt\n",
    "from sklearn.metrics import confusion_matrix\n",
    "mat = confusion_matrix(test_target_data, labels)\n",
    "sns.heatmap(mat.T, square=True, annot=True, fmt='d', cbar=False,\n",
    "            xticklabels=authors, yticklabels=authors)\n",
    "plt.xlabel('true label')\n",
    "plt.ylabel('predicted label');\n",
    "\n",
    "from sklearn.metrics import classification_report\n",
    "print(classification_report(test_target_data, labels, target_names=authors))"
   ]
  },
  {
   "cell_type": "code",
   "execution_count": 176,
   "id": "b7629d69-b65b-4a20-b507-e30182142a9d",
   "metadata": {
    "tags": []
   },
   "outputs": [
    {
     "name": "stdout",
     "output_type": "stream",
     "text": [
      "['Νεμεόνικοι', '', '', '', '', '', 'εξάχθηκε από τη Βικιθήκη την 15 Ιουνίου 2022', '', '', '', '', '', 'Νεμεόνικοι', '', '', '', 'Πίνδαρος', '', '', '', '', '', 'ΧΡΟΜΙῼ ΑΙΤΝΑΙῼ ΙΠΠΟΙΣ', '', '', 'ἄμπνευμα σεμνὸν Ἀλφεοῦ,', '', 'κλεινᾶν Συρακοσσᾶν θάλος Ὀρτυγία,', '', 'δέμνιον Ἀρτέμιδος,', '', 'Δάλου κασιγνήτα, σέθεν ἁδυεπὴς 5', '', 'ὕμνος ὁρμᾶται θέμεν', '', 'αἶνον ἀελλοπόδων μέγαν ἵππων, Ζηνὸς Αἰτναίου χάριν:', '', \"[10] ἅρμα δ' ὀτρύνει Χρομίου Νεμέα θ' ἔργμασιν νικαφόροις ἐγκώμιον ζεῦξαι μέλος.\", '', 'ἀρχαὶ δὲ βέβληνται θεῶν', '', 'κείνου σὺν ἀνδρὸς δαιμονίαις ἀρεταῖς. 10', '', \"ἔστι δ' ἐν εὐτυχίᾳ\", '', \"πανδοξίας ἄκρον: μεγάλων δ' ἀέθλων\", '', 'Μοῖσα μεμνᾶσθαι φιλεῖ.', '', 'σπεῖρέ νυν ἀγλαΐαν τινὰ νάσῳ, τὰν Ὀλύμπου δεσπότας', '', '[20] Ζεὺς ἔδωκεν Φερσεφόνᾳ, κατένευσέν τέ οἱ χαίταις, ἀριστεύοισαν εὐκάρπου χθονὸς 15', '', 'Σικελίαν πίειραν ὀρθώσειν κορυφαῖς πολίων ἀφνεαῖς.', '', 'ὤπασε δὲ Κρονίων πολέμου μναστῆρά οἱ χαλκεντέος', '', 'λαὸν ἵππαιχμον θαμὰ δὴ καὶ Ὀλυμπιάδων φύλλοις ἐλαιᾶν χρυσέοις', '', 'μιχθέντα. πολλῶν ἐπέβαν καιρὸν οὐ ψεύδει βαλών.', '', \"ἔσταν δ' ἐπ' αὐλείαις θύραις 20\", '', '[30] ἀνδρὸς φιλοξείνου καλὰ μελπόμενος,', '', 'ἔνθα μοι ἁρμόδιον', '', \"δεῖπνον κεκόσμηται, θαμὰ δ' ἀλλοδαπῶν\", '', 'οὐκ ἀπείρατοι δόμοι', '', 'ἐντί: λέλογχε δὲ μεμφομένοις ἐσλοὺς ὕδωρ καπνῷ φέρειν 25', '', \"ἀντίον. τέχναι δ' ἑτέρων ἕτεραι: χρὴ δ' ἐν εὐθείαις ὁδοῖς στείχοντα μάρνασθαι φυᾷ.\", '', 'πράσσει γὰρ ἔργῳ μὲν σθένος,', '', '[40] βουλαῖσι δὲ φρήν, ἐσσόμενον προϊδεῖν', '', 'συγγενὲς οἷς ἕπεται.', '', \"Ἁγησιδάμου παῖ, σέο δ' ἀμφὶ τρόπῳ 30\", '', 'τῶν τε καὶ τῶν χρήσιες.', '', 'οὐκ ἔραμαι πολὺν ἐν μεγάρῳ πλοῦτον κατακρύψαις ἔχειν,', '', \"ἀλλ' ἐόντων εὖ τε παθεῖν καὶ ἀκοῦσαι φίλοις ἐξαρκέων. κοιναὶ γὰρ ἔρχοντ' ἐλπίδες\", '', \"[50] πολυπόνων ἀνδρῶν. ἐγὼ δ' Ἡρακλέος ἀντέχομαι προφρόνως,\", '', 'ἐν κορυφαῖς ἀρετᾶν μεγάλαις ἀρχαῖον ὀτρύνων λόγον, 35', '', 'ὡς, ἐπεὶ σπλάγχνων ὕπο ματέρος αὐτίκα θαητὰν ἐς αἴγλαν παῖς Διὸς', '', 'ὠδῖνα φεύγων διδύμῳ σὺν κασιγνήτῳ μόλεν,', '', 'ὡς οὐ λαθὼν χρυσόθρονον', '', 'Ηραν κροκωτὸν σπάργανον ἐγκατέβα:', '', 'ἀλλὰ θεῶν βασιλέα 40', '', '', '', '[60] σπερχθεῖσα θυμῷ πέμπε δράκοντας ἄφαρ.', '', 'τοὶ μὲν οἰχθεισᾶν πυλᾶν', '', 'ἐς θαλάμου μυχὸν εὐρὺν ἔβαν, τέκνοισιν ὠκείας γνάθους', '', \"ἀμφελίξασθαι μεμαῶτες: ὁ δ' ὀρθὸν μὲν ἄντεινεν κάρα, πειρᾶτο δὲ πρῶτον μάχας,\", '', 'δισσαῖσι δοιοὺς αὐχένων 45', '', 'μάρψαις ἀφύκτοις χερσὶν ἑαῖς ὄφιας:', '', 'ἀγχομένοις δὲ χρόνος', '', '[70] ψυχὰς ἀπέπνευσεν μελέων ἀφάτων.', '', \"ἐκ δ' ἄρ' ἄτλατον δέος\", '', 'πλᾶξε γυναῖκας, ὅσαι τύχον Ἀλκμήνας ἀρήγοισαι λέχει: 50', '', \"καὶ γὰρ αὐτά, ποσσὶν ἄπεπλος ὀρούσαισ' ἀπὸ στρωμνᾶς, ὅμως ἄμυνεν ὕβριν κνωδάλων.\", '', 'ταχὺ δὲ Καδμείων ἀγοὶ χαλκέοις ἀθρόοι σὺν ὅπλοις ἔδραμον:', '', \"[80] ἐν χερὶ δ' Ἀμφιτρύων κολεοῦ γυμνὸν τινάσσων φάσγανον\", '', \"ἵκετ', ὀξείαις ἀνίαισι τυπείς. τὸ γὰρ οἰκεῖον πιέζει πάνθ' ὁμῶς:\", '', \"εὐθὺς δ' ἀπήμων κραδία κᾶδος ἀμφ' ἀλλότριον. 55\", '', 'ἔστα δὲ θάμβει δυσφόρῳ', '', 'τερπνῷ τε μιχθείς. εἶδε γὰρ ἐκνόμιον', '', 'λῆμά τε καὶ δύναμιν', '', 'υἱοῦ παλίγγλωσσον δέ οἱ ἀθάνατοι', '', 'ἀγγέλων ῥῆσιν θέσαν. 60', '', \"[90] γείτονα δ' ἐκκάλεσεν Διὸς ὑψίστου προφάταν ἔξοχον,\", '', 'ὀρθόμαντιν Τειρεσίαν: ὁ δέ οἱ φράζε καὶ παντὶ στρατῷ, ποίαις ὁμιλήσει τύχαις,', '', 'ὅσσους μὲν ἐν χέρσῳ κτανών,', '', 'ὅσσους δὲ πόντῳ θῆρας ἀϊδροδίκας:', '', 'καί τινα σὺν πλαγίῳ 65', '', 'ἀνδρῶν κόρῳ στείχοντα τὸν ἐχθρότατον', '', 'φᾶσέ νιν δώσειν μόρῳ.', '', '[100] καὶ γὰρ ὅταν θεοὶ ἐν πεδίῳ Φλέγρας Γιγάντεσσιν μάχαν', '', 'ἀντιάζωσιν, βελέων ὑπὸ ῥιπαῖσι κείνου φαιδίμαν γαίᾳ πεφύρσεσθαι κόμαν', '', 'ἔνεπεν: αὐτὸν μὰν ἐν εἰράνᾳ καμάτων μεγάλων σχερῷ 70', '', '', '', \"ἁσυχίαν τὸν ἅπαντα χρόνον ποινὰν λαχόντ' ἐξαίρετον\", '', 'ὀλβίοις ἐν δώμασι, δεξάμενον θαλερὰν Ἥβαν ἄκοιτιν καὶ γάμον', '', '[110] δαίσαντα, πὰρ Δὶ Κρονίδᾳ σεμνὸν αἰνήσειν νόμον.', '', '', '', '', '', 'ΤΙΜΟΔΗΜῼ ΑΧΑΡΝΕΙ ΠΑΓΚΡΑΤΙΑΣΤῌ', '', '', 'ὅθεν περ καὶ Ὁμηρίδαι', '', \"ῥαπτῶν ἐπέων τὰ πόλλ' ἀοιδοὶ\", '', \"ἄρχονται, Διὸς ἐκ προοιμίου: καὶ ὅδ' ἀνὴρ\", '', 'καταβολὰν ἱερῶν ἀγώνων νικαφορίας δέδεκται πρῶτον Νεμεαίου 5', '', 'ἐν πολυυμνήτῳ Διὸς ἄλσει.', '', \"ὀφείλει δ' ἔτι, πατρίαν\", '', \"[10] εἴπερ καθ' ὁδόν νιν εὐθυπομπὸς\", '', 'αἰὼν ταῖς μεγάλαις δέδωκε κόσμον Ἀθάναις,', '', 'θαμὰ μὲν Ἰσθμιάδων δρέπεσθαι κάλλιστον ἄωτον, ἐν Πυθίοισί τε νικᾶν 10', '', \"Τιμονόου παῖδ': ἔστι δ' ἐοικὸς\", '', 'ὀρειᾶν γε Πελειάδων', '', 'μὴ τηλόθεν Ὠαρίωνα νεῖσθαι.', '', '[20] καὶ μὰν ἁ Σαλαμίς γε θρέψαι φῶτα μαχατὰν', '', \"δυνατός. ἐν Τρωΐᾳ μὲν Ἕκτωρ Αἴαντος ἄκουσεν: ὦ Τιμόδημε, σὲ δ' ἀλκὰ 15\", '', 'παγκρατίου τλάθυμος ἀέξει.', '', 'Ἀχάρναι δὲ παλαίφατοι', '', \"εὐάνορες: ὅσσα δ' ἀμφ' ἀέθλοις,\", '', 'Τιμοδημίδαι ἐξοχώτατοι προλέγονται.', '', '[30] παρὰ μὲν ὑψιμέδοντι Παρνασῷ τέσσαρας ἐξ ἀέθλων νίκας ἐκόμιξαν: 20', '', 'ἀλλὰ Κορινθίων ὑπὸ φωτῶν', '', 'ἐν ἐσλοῦ Πέλοπος πτυχαῖς', '', 'ὀκτὼ στεφάνοις ἔμιχθεν ἤδη:', '', \"ἑπτὰ δ' ἐν Νεμέᾳ τὰ δ' οἴκοι μάσσον' ἀριθμοῦ\", '', 'Διὸς ἀγῶνι. τόν, ὦ πολῖται, κωμάξατε Τιμοδήμῳ σὺν εὐκλέϊ νόστῳ: 25', '', \"[40] ἁδυμελεῖ δ' ἐξάρχετε φωνᾷ.\", '', '', '', '', '', 'ΑΡΙΣΤΟΚΛΕΙΔῌ ΑΙΓΙΝΗΤῌ ΠΑΓΚΡΑΤΙΑΣΤῌ', '', '', 'ὦ πότνια Μοῖσα, μᾶτερ ἁμετέρα, λίσσομαι,', '', 'τὰν πολυξέναν ἐν ἱερομηνίᾳ Νεμεάδι', '', 'ἵκεο Δωρίδα νᾶσον Αἴγιναν: ὕδατι γὰρ', '', \"μένοντ' ἐπ' Ἀσωπίῳ μελιγαρύων τέκτονες 5\", '', 'κώμων νεανίαι, σέθεν ὄπα μαιόμενοι.', '', '[10] διψῇ δὲ πρᾶγος ἄλλο μὲν ἄλλου:', '', \"ἀεθλονικία δὲ μάλιστ' ἀοιδὰν φιλεῖ,\", '', 'στεφάνων ἀρετᾶν τε δεξιωτάταν ὀπαδόν:', '', 'τᾶς ἀφθονίαν ὄπαζε μήτιος ἀμᾶς ἄπο: 10', '', \"ἄρχε δ' οὐρανοῦ πολυνεφέλα κρέοντι, θύγατερ,\", '', 'δόκιμον ὕμνον: ἐγὼ δὲ κείνων τέ νιν ὀάροις', '', \"[20] λύρᾳ τε κοινάσομαι. χαρίεντα δ' ἕξει πόνον\", '', 'χώρας ἄγαλμα, Μυρμιδόνες ἵνα πρότεροι', '', 'ᾤκησαν, ὧν παλαίφατον ἀγορὰν 15', '', 'οὐκ ἐλεγχέεσσιν Ἀριστοκλείδας τεὰν', '', \"ἐμίανε κατ' αἶσαν ἐν περισθενεῖ μαλαχθεὶς\", '', 'παγκρατίου']\n"
     ]
    }
   ],
   "source": [
    "print(corpus['Pindar'][0].split('\\n'))"
   ]
  },
  {
   "cell_type": "markdown",
   "id": "919a6f08-6093-437d-a461-08bec088fc4d",
   "metadata": {
    "tags": []
   },
   "source": [
    "## Dataset\n",
    "\n",
    "Meno \\\n",
    "Μένων by Plato:\\\n",
    "https://www.gutenberg.org/ebooks/34881\n",
    "\n",
    "\n",
    "Απολογία Σωκράτους \\\n",
    "Socrates' Apology, by Plato and Alexandros Moraitides:\\\n",
    "https://www.gutenberg.org/ebooks/39462\n",
    "\n",
    "Πολιτεία, Τόμος 4 \\\n",
    "Republic Volume 4 (of 4), by Plato: \\\n",
    "https://www.gutenberg.org/ebooks/39530\n",
    "\n",
    "\n",
    "\n",
    "Όρνιθες \\\n",
    "The Birds, by Aristophanes:\\\n",
    "https://www.gutenberg.org/ebooks/27315\n",
    "\n",
    "Lysistrata\\\n",
    "Λυσιστράτη by Aristophanes: \\\n",
    "https://www.gutenberg.org/ebooks/17814\n",
    "\n",
    "Τίμαιος, Τόμος \\\n",
    "Timaeus, by Plato \\\n",
    "https://www.gutenberg.org/ebooks/35453\n",
    "\n",
    "Hippias\\\n",
    "Ελάσσων, by Plato\\\n",
    "https://www.gutenberg.org/ebooks/34880\n",
    "\n",
    "Ηθικά Νικομάχεια, Τόμος Πρώτος \\\n",
    "Nicomachean Ethics, Volume 1, by Aristotle \\\n",
    "https://www.gutenberg.org/ebooks/28626\n",
    "\n",
    "Αθηναίων Πολιτεία \\\n",
    "The Constitution of the Athenians, by Aristotle \\\n",
    "https://www.gutenberg.org/ebooks/39963\n",
    "\n",
    "Περί Ψυχής \\\n",
    "On the Soul, by Aristoteles \\\n",
    "https://www.gutenberg.org/ebooks/27816"
   ]
  },
  {
   "cell_type": "code",
   "execution_count": null,
   "id": "d3d38db0-b159-4cc6-853b-354811c05108",
   "metadata": {},
   "outputs": [],
   "source": []
  }
 ],
 "metadata": {
  "kernelspec": {
   "display_name": "NLP",
   "language": "python",
   "name": "nlp"
  },
  "language_info": {
   "codemirror_mode": {
    "name": "ipython",
    "version": 3
   },
   "file_extension": ".py",
   "mimetype": "text/x-python",
   "name": "python",
   "nbconvert_exporter": "python",
   "pygments_lexer": "ipython3",
   "version": "3.8.10"
  }
 },
 "nbformat": 4,
 "nbformat_minor": 5
}
